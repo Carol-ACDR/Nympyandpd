{
  "cells": [
    {
      "cell_type": "markdown",
      "metadata": {
        "id": "view-in-github",
        "colab_type": "text"
      },
      "source": [
        "<a href=\"https://colab.research.google.com/github/Carol-ACDR/Nympyandpd/blob/main/100_Numpy_exercises.ipynb\" target=\"_parent\"><img src=\"https://colab.research.google.com/assets/colab-badge.svg\" alt=\"Open In Colab\"/></a>"
      ]
    },
    {
      "cell_type": "markdown",
      "id": "f44a2f2b",
      "metadata": {
        "id": "f44a2f2b"
      },
      "source": [
        "# 100 numpy exercises\n",
        "\n",
        "This is a collection of exercises that have been collected in the numpy mailing list, on stack overflow\n",
        "and in the numpy documentation. The goal of this collection is to offer a quick reference for both old\n",
        "and new users but also to provide a set of exercises for those who teach.\n"
      ]
    },
    {
      "cell_type": "markdown",
      "id": "96443564",
      "metadata": {
        "id": "96443564"
      },
      "source": [
        "#### 1. Import the numpy package under the name `np` (★☆☆)"
      ]
    },
    {
      "cell_type": "code",
      "execution_count": null,
      "id": "ffe1047e",
      "metadata": {
        "id": "ffe1047e"
      },
      "outputs": [],
      "source": [
        "import numpy as np"
      ]
    },
    {
      "cell_type": "markdown",
      "id": "c807bf1d",
      "metadata": {
        "id": "c807bf1d"
      },
      "source": [
        "#### 2. Print the numpy version and the configuration (★☆☆)"
      ]
    },
    {
      "cell_type": "code",
      "execution_count": null,
      "id": "f396b717",
      "metadata": {
        "id": "f396b717",
        "outputId": "edb9b86e-2122-4d20-bb95-d5c526ba54c4"
      },
      "outputs": [
        {
          "name": "stdout",
          "output_type": "stream",
          "text": [
            "1.20.3\n",
            "blas_mkl_info:\n",
            "    libraries = ['mkl_rt']\n",
            "    library_dirs = ['C:/tools/Anaconda3\\\\Library\\\\lib']\n",
            "    define_macros = [('SCIPY_MKL_H', None), ('HAVE_CBLAS', None)]\n",
            "    include_dirs = ['C:/tools/Anaconda3\\\\Library\\\\include']\n",
            "blas_opt_info:\n",
            "    libraries = ['mkl_rt']\n",
            "    library_dirs = ['C:/tools/Anaconda3\\\\Library\\\\lib']\n",
            "    define_macros = [('SCIPY_MKL_H', None), ('HAVE_CBLAS', None)]\n",
            "    include_dirs = ['C:/tools/Anaconda3\\\\Library\\\\include']\n",
            "lapack_mkl_info:\n",
            "    libraries = ['mkl_rt']\n",
            "    library_dirs = ['C:/tools/Anaconda3\\\\Library\\\\lib']\n",
            "    define_macros = [('SCIPY_MKL_H', None), ('HAVE_CBLAS', None)]\n",
            "    include_dirs = ['C:/tools/Anaconda3\\\\Library\\\\include']\n",
            "lapack_opt_info:\n",
            "    libraries = ['mkl_rt']\n",
            "    library_dirs = ['C:/tools/Anaconda3\\\\Library\\\\lib']\n",
            "    define_macros = [('SCIPY_MKL_H', None), ('HAVE_CBLAS', None)]\n",
            "    include_dirs = ['C:/tools/Anaconda3\\\\Library\\\\include']\n",
            "None\n"
          ]
        }
      ],
      "source": [
        "print(np.__version__)\n",
        "print(np.show_config())"
      ]
    },
    {
      "cell_type": "markdown",
      "id": "572c1bdb",
      "metadata": {
        "id": "572c1bdb"
      },
      "source": [
        "#### 3. Create a null vector of size 10 (★☆☆)"
      ]
    },
    {
      "cell_type": "code",
      "execution_count": null,
      "id": "31c9f6a5",
      "metadata": {
        "id": "31c9f6a5",
        "outputId": "bc2daf1f-57dc-406a-b422-b3bc57776acd"
      },
      "outputs": [
        {
          "data": {
            "text/plain": [
              "array([0., 0., 0., 0., 0., 0., 0., 0., 0., 0.])"
            ]
          },
          "execution_count": 9,
          "metadata": {},
          "output_type": "execute_result"
        }
      ],
      "source": [
        "V = np.zeros(10)\n",
        "V"
      ]
    },
    {
      "cell_type": "markdown",
      "id": "337e6e36",
      "metadata": {
        "id": "337e6e36"
      },
      "source": [
        "#### 4. How to find the memory size of any array (★☆☆)"
      ]
    },
    {
      "cell_type": "code",
      "execution_count": null,
      "id": "31e8ec2e",
      "metadata": {
        "id": "31e8ec2e",
        "outputId": "737eeeaf-5d9a-4850-b62a-aa670fd6e88f"
      },
      "outputs": [
        {
          "name": "stdout",
          "output_type": "stream",
          "text": [
            "80\n"
          ]
        },
        {
          "data": {
            "text/plain": [
              "80"
            ]
          },
          "execution_count": 13,
          "metadata": {},
          "output_type": "execute_result"
        }
      ],
      "source": [
        "print(V.itemsize*V.size)#tamanho do array e tamanho dos elementos\n",
        "V.nbytes"
      ]
    },
    {
      "cell_type": "markdown",
      "id": "166079c8",
      "metadata": {
        "id": "166079c8"
      },
      "source": [
        "#### 5. How to get the documentation of the numpy add function from the command line? (★☆☆)"
      ]
    },
    {
      "cell_type": "code",
      "execution_count": null,
      "id": "593cd80f",
      "metadata": {
        "id": "593cd80f",
        "outputId": "4b2e1a60-9cac-43dd-f5cf-d1ed9fe1181e"
      },
      "outputs": [
        {
          "name": "stdout",
          "output_type": "stream",
          "text": [
            "add(x1, x2, /, out=None, *, where=True, casting='same_kind', order='K', dtype=None, subok=True[, signature, extobj])\n",
            "\n",
            "Add arguments element-wise.\n",
            "\n",
            "Parameters\n",
            "----------\n",
            "x1, x2 : array_like\n",
            "    The arrays to be added.\n",
            "    If ``x1.shape != x2.shape``, they must be broadcastable to a common\n",
            "    shape (which becomes the shape of the output).\n",
            "out : ndarray, None, or tuple of ndarray and None, optional\n",
            "    A location into which the result is stored. If provided, it must have\n",
            "    a shape that the inputs broadcast to. If not provided or None,\n",
            "    a freshly-allocated array is returned. A tuple (possible only as a\n",
            "    keyword argument) must have length equal to the number of outputs.\n",
            "where : array_like, optional\n",
            "    This condition is broadcast over the input. At locations where the\n",
            "    condition is True, the `out` array will be set to the ufunc result.\n",
            "    Elsewhere, the `out` array will retain its original value.\n",
            "    Note that if an uninitialized `out` array is created via the default\n",
            "    ``out=None``, locations within it where the condition is False will\n",
            "    remain uninitialized.\n",
            "**kwargs\n",
            "    For other keyword-only arguments, see the\n",
            "    :ref:`ufunc docs <ufuncs.kwargs>`.\n",
            "\n",
            "Returns\n",
            "-------\n",
            "add : ndarray or scalar\n",
            "    The sum of `x1` and `x2`, element-wise.\n",
            "    This is a scalar if both `x1` and `x2` are scalars.\n",
            "\n",
            "Notes\n",
            "-----\n",
            "Equivalent to `x1` + `x2` in terms of array broadcasting.\n",
            "\n",
            "Examples\n",
            "--------\n",
            ">>> np.add(1.0, 4.0)\n",
            "5.0\n",
            ">>> x1 = np.arange(9.0).reshape((3, 3))\n",
            ">>> x2 = np.arange(3.0)\n",
            ">>> np.add(x1, x2)\n",
            "array([[  0.,   2.,   4.],\n",
            "       [  3.,   5.,   7.],\n",
            "       [  6.,   8.,  10.]])\n",
            "\n",
            "The ``+`` operator can be used as a shorthand for ``np.add`` on ndarrays.\n",
            "\n",
            ">>> x1 = np.arange(9.0).reshape((3, 3))\n",
            ">>> x2 = np.arange(3.0)\n",
            ">>> x1 + x2\n",
            "array([[ 0.,  2.,  4.],\n",
            "       [ 3.,  5.,  7.],\n",
            "       [ 6.,  8., 10.]])\n",
            "None\n",
            "Help on ufunc:\n",
            "\n",
            "add = <ufunc 'add'>\n",
            "    add(x1, x2, /, out=None, *, where=True, casting='same_kind', order='K', dtype=None, subok=True[, signature, extobj])\n",
            "    \n",
            "    Add arguments element-wise.\n",
            "    \n",
            "    Parameters\n",
            "    ----------\n",
            "    x1, x2 : array_like\n",
            "        The arrays to be added.\n",
            "        If ``x1.shape != x2.shape``, they must be broadcastable to a common\n",
            "        shape (which becomes the shape of the output).\n",
            "    out : ndarray, None, or tuple of ndarray and None, optional\n",
            "        A location into which the result is stored. If provided, it must have\n",
            "        a shape that the inputs broadcast to. If not provided or None,\n",
            "        a freshly-allocated array is returned. A tuple (possible only as a\n",
            "        keyword argument) must have length equal to the number of outputs.\n",
            "    where : array_like, optional\n",
            "        This condition is broadcast over the input. At locations where the\n",
            "        condition is True, the `out` array will be set to the ufunc result.\n",
            "        Elsewhere, the `out` array will retain its original value.\n",
            "        Note that if an uninitialized `out` array is created via the default\n",
            "        ``out=None``, locations within it where the condition is False will\n",
            "        remain uninitialized.\n",
            "    **kwargs\n",
            "        For other keyword-only arguments, see the\n",
            "        :ref:`ufunc docs <ufuncs.kwargs>`.\n",
            "    \n",
            "    Returns\n",
            "    -------\n",
            "    add : ndarray or scalar\n",
            "        The sum of `x1` and `x2`, element-wise.\n",
            "        This is a scalar if both `x1` and `x2` are scalars.\n",
            "    \n",
            "    Notes\n",
            "    -----\n",
            "    Equivalent to `x1` + `x2` in terms of array broadcasting.\n",
            "    \n",
            "    Examples\n",
            "    --------\n",
            "    >>> np.add(1.0, 4.0)\n",
            "    5.0\n",
            "    >>> x1 = np.arange(9.0).reshape((3, 3))\n",
            "    >>> x2 = np.arange(3.0)\n",
            "    >>> np.add(x1, x2)\n",
            "    array([[  0.,   2.,   4.],\n",
            "           [  3.,   5.,   7.],\n",
            "           [  6.,   8.,  10.]])\n",
            "    \n",
            "    The ``+`` operator can be used as a shorthand for ``np.add`` on ndarrays.\n",
            "    \n",
            "    >>> x1 = np.arange(9.0).reshape((3, 3))\n",
            "    >>> x2 = np.arange(3.0)\n",
            "    >>> x1 + x2\n",
            "    array([[ 0.,  2.,  4.],\n",
            "           [ 3.,  5.,  7.],\n",
            "           [ 6.,  8., 10.]])\n",
            "\n"
          ]
        }
      ],
      "source": [
        " print(np.info(np.add))\n",
        " help(np.add)#Mais polido"
      ]
    },
    {
      "cell_type": "markdown",
      "id": "3add7101",
      "metadata": {
        "id": "3add7101"
      },
      "source": [
        "#### 6. Create a null vector of size 10 but the fifth value which is 1 (★☆☆)"
      ]
    },
    {
      "cell_type": "code",
      "execution_count": null,
      "id": "2edf3c42",
      "metadata": {
        "id": "2edf3c42",
        "outputId": "62692b2b-9b07-4993-d3ca-6140a210aae3"
      },
      "outputs": [
        {
          "name": "stdout",
          "output_type": "stream",
          "text": [
            "[0. 0. 0. 0. 1. 0. 0. 0. 0. 0.]\n",
            "[0 0 0 0 1 0 0 0 0 0]\n"
          ]
        }
      ],
      "source": [
        "V = np.zeros(10)\n",
        "V[4] = 1\n",
        "print(V)  #Na mão\n",
        "\n",
        "\n",
        "X = np.arange(10) == 4 #Polido\n",
        "print(X*1)"
      ]
    },
    {
      "cell_type": "markdown",
      "id": "cfc46304",
      "metadata": {
        "id": "cfc46304"
      },
      "source": [
        "#### 7. Create a vector with values ranging from 10 to 49 (★☆☆)"
      ]
    },
    {
      "cell_type": "code",
      "execution_count": null,
      "id": "d8b86640",
      "metadata": {
        "id": "d8b86640",
        "outputId": "c9a3b072-9642-4d4e-d89d-273c04991f20"
      },
      "outputs": [
        {
          "data": {
            "text/plain": [
              "array([10, 11, 12, 13, 14, 15, 16, 17, 18, 19, 20, 21, 22, 23, 24, 25, 26,\n",
              "       27, 28, 29, 30, 31, 32, 33, 34, 35, 36, 37, 38, 39, 40, 41, 42, 43,\n",
              "       44, 45, 46, 47, 48, 49])"
            ]
          },
          "execution_count": 29,
          "metadata": {},
          "output_type": "execute_result"
        }
      ],
      "source": [
        "W = np.arange(10,50)\n",
        "W"
      ]
    },
    {
      "cell_type": "markdown",
      "id": "0cc200be",
      "metadata": {
        "id": "0cc200be"
      },
      "source": [
        "#### 8. Reverse a vector (first element becomes last) (★☆☆)"
      ]
    },
    {
      "cell_type": "code",
      "execution_count": null,
      "id": "ec044bb5",
      "metadata": {
        "id": "ec044bb5",
        "outputId": "1ffe2252-cece-4ba3-9cb6-0ca024517df6"
      },
      "outputs": [
        {
          "data": {
            "text/plain": [
              "array([49, 48, 47, 46, 45, 44, 43, 42, 41, 40, 39, 38, 37, 36, 35, 34, 33,\n",
              "       32, 31, 30, 29, 28, 27, 26, 25, 24, 23, 22, 21, 20, 19, 18, 17, 16,\n",
              "       15, 14, 13, 12, 11, 10])"
            ]
          },
          "execution_count": 34,
          "metadata": {},
          "output_type": "execute_result"
        }
      ],
      "source": [
        "M = np.flip(W)\n",
        "M"
      ]
    },
    {
      "cell_type": "markdown",
      "id": "29d9ede4",
      "metadata": {
        "id": "29d9ede4"
      },
      "source": [
        "#### 9. Create a 3x3 matrix with values ranging from 0 to 8 (★☆☆)"
      ]
    },
    {
      "cell_type": "code",
      "execution_count": null,
      "id": "d9e39043",
      "metadata": {
        "id": "d9e39043",
        "outputId": "520f854b-8a30-4990-c5ca-d21446cb2a28"
      },
      "outputs": [
        {
          "data": {
            "text/plain": [
              "array([[0, 1, 2],\n",
              "       [3, 4, 5],\n",
              "       [6, 7, 8]])"
            ]
          },
          "execution_count": 37,
          "metadata": {},
          "output_type": "execute_result"
        }
      ],
      "source": [
        "Matrix = np.arange(0,9).reshape((3,3))\n",
        "Matrix"
      ]
    },
    {
      "cell_type": "markdown",
      "id": "88905ceb",
      "metadata": {
        "id": "88905ceb"
      },
      "source": [
        "#### 10. Find indices of non-zero elements from [1,2,0,0,4,0] (★☆☆)"
      ]
    },
    {
      "cell_type": "code",
      "execution_count": null,
      "id": "b2f3c90a",
      "metadata": {
        "id": "b2f3c90a",
        "outputId": "de23f758-ca70-4fe5-9030-2f4fdec37816"
      },
      "outputs": [
        {
          "data": {
            "text/plain": [
              "(array([0, 1, 4], dtype=int64),)"
            ]
          },
          "execution_count": 45,
          "metadata": {},
          "output_type": "execute_result"
        }
      ],
      "source": [
        "Wzero = np.array([1,2,0,0,4,0])\n",
        "Nzero = np.nonzero(Wzero)\n",
        "Nzero"
      ]
    },
    {
      "cell_type": "markdown",
      "id": "49603e91",
      "metadata": {
        "id": "49603e91"
      },
      "source": [
        "#### 11. Create a 3x3 identity matrix (★☆☆)"
      ]
    },
    {
      "cell_type": "code",
      "execution_count": null,
      "id": "5b607b5c",
      "metadata": {
        "id": "5b607b5c",
        "outputId": "b99049c1-2c04-4bb2-df0c-435ace33f9bb"
      },
      "outputs": [
        {
          "data": {
            "text/plain": [
              "array([[1., 0., 0.],\n",
              "       [0., 1., 0.],\n",
              "       [0., 0., 1.]])"
            ]
          },
          "execution_count": 46,
          "metadata": {},
          "output_type": "execute_result"
        }
      ],
      "source": [
        "np.identity(3)"
      ]
    },
    {
      "cell_type": "markdown",
      "id": "e15c249a",
      "metadata": {
        "id": "e15c249a"
      },
      "source": [
        "#### 12. Create a 3x3x3 array with random values (★☆☆)"
      ]
    },
    {
      "cell_type": "code",
      "execution_count": null,
      "id": "ab21ed50",
      "metadata": {
        "id": "ab21ed50",
        "outputId": "a86e65a1-757c-42e7-bc74-fb64161526db"
      },
      "outputs": [
        {
          "data": {
            "text/plain": [
              "array([[[0.42664484, 0.74889644, 0.08315264],\n",
              "        [0.61930037, 0.75235728, 0.47313889],\n",
              "        [0.56936932, 0.08595828, 0.50356931]],\n",
              "\n",
              "       [[0.05261982, 0.05053527, 0.81371075],\n",
              "        [0.80486578, 0.34119063, 0.06250355],\n",
              "        [0.74331121, 0.69114145, 0.90114801]],\n",
              "\n",
              "       [[0.86054675, 0.45457607, 0.77848777],\n",
              "        [0.64003616, 0.071878  , 0.02956112],\n",
              "        [0.26566224, 0.4463443 , 0.73387382]]])"
            ]
          },
          "execution_count": 75,
          "metadata": {},
          "output_type": "execute_result"
        }
      ],
      "source": [
        "np.random.random((3,3,3))"
      ]
    },
    {
      "cell_type": "markdown",
      "id": "157a129c",
      "metadata": {
        "id": "157a129c"
      },
      "source": [
        "#### 13. Create a 10x10 array with random values and find the minimum and maximum values (★☆☆)"
      ]
    },
    {
      "cell_type": "code",
      "execution_count": null,
      "id": "c0066de5",
      "metadata": {
        "colab": {
          "base_uri": "https://localhost:8080/"
        },
        "id": "c0066de5",
        "outputId": "3f502f6f-e414-4a75-eaaa-208f672b0956"
      },
      "outputs": [
        {
          "output_type": "stream",
          "name": "stdout",
          "text": [
            "[[0.94782782 0.87212155 0.00282708 0.76271904 0.58340767 0.69260263\n",
            "  0.57902336 0.69466171 0.11009071 0.0408051 ]\n",
            " [0.95304345 0.17224065 0.5466078  0.42911427 0.57305034 0.19470954\n",
            "  0.96321177 0.4283474  0.44038872 0.77465374]\n",
            " [0.92919764 0.30890919 0.88643287 0.85903816 0.63127789 0.99911985\n",
            "  0.8068173  0.26085615 0.05765076 0.38565365]\n",
            " [0.30519328 0.03104861 0.57056644 0.80502245 0.16075276 0.44387154\n",
            "  0.6004416  0.22969831 0.65146704 0.09624453]\n",
            " [0.78231475 0.35527809 0.90381143 0.69396817 0.8117228  0.33606693\n",
            "  0.78420505 0.70120372 0.5903151  0.62139164]\n",
            " [0.22162217 0.91707618 0.72624796 0.3877401  0.86569969 0.00853632\n",
            "  0.44644475 0.83295431 0.9116433  0.9925657 ]\n",
            " [0.63405621 0.70357163 0.41179254 0.79876753 0.97452877 0.87035354\n",
            "  0.68570334 0.13677049 0.05916885 0.41062372]\n",
            " [0.31196479 0.53920947 0.60304538 0.00721347 0.7735161  0.28071104\n",
            "  0.2393238  0.20640163 0.40240017 0.5773738 ]\n",
            " [0.31324288 0.46212526 0.2238845  0.07634606 0.79136253 0.97509593\n",
            "  0.26870826 0.71800328 0.27887173 0.84246238]\n",
            " [0.9874831  0.89703378 0.04742335 0.67692232 0.98427723 0.0018606\n",
            "  0.63526582 0.02186869 0.75956802 0.52607776]]\n",
            "0.015911915415660283\n",
            "0.9954971534823848\n"
          ]
        }
      ],
      "source": [
        "print(np.random.random((10,10)))\n",
        "print(np.random.random((10,10)). min())\n",
        "print(np.random.random((10,10)). max())"
      ]
    },
    {
      "cell_type": "markdown",
      "id": "d92d7b32",
      "metadata": {
        "id": "d92d7b32"
      },
      "source": [
        "#### 14. Create a random vector of size 30 and find the mean value (★☆☆)"
      ]
    },
    {
      "cell_type": "code",
      "execution_count": null,
      "id": "9672d023",
      "metadata": {
        "id": "9672d023",
        "outputId": "87d707ff-ccd7-4cef-9b5f-8cc6370e4ed1"
      },
      "outputs": [
        {
          "data": {
            "text/plain": [
              "0.469039306733947"
            ]
          },
          "execution_count": 84,
          "metadata": {},
          "output_type": "execute_result"
        }
      ],
      "source": [
        "np.random.random(30).mean()"
      ]
    },
    {
      "cell_type": "markdown",
      "id": "f361efc0",
      "metadata": {
        "id": "f361efc0"
      },
      "source": [
        "#### 15. Create a 2d array with 1 on the border and 0 inside (★☆☆)"
      ]
    },
    {
      "cell_type": "code",
      "execution_count": null,
      "id": "a55b6666",
      "metadata": {
        "colab": {
          "base_uri": "https://localhost:8080/"
        },
        "id": "a55b6666",
        "outputId": "6c4dbddd-8555-4b7c-d565-15d601ca612b"
      },
      "outputs": [
        {
          "output_type": "stream",
          "name": "stdout",
          "text": [
            "[[1. 1. 1. 1.]\n",
            " [1. 0. 0. 1.]\n",
            " [1. 0. 0. 1.]\n",
            " [1. 1. 1. 1.]]\n"
          ]
        }
      ],
      "source": [
        "X = np.ones((4,4))\n",
        "X[1:-1,1:-1] = 0\n",
        "print(X)"
      ]
    },
    {
      "cell_type": "markdown",
      "id": "475808cb",
      "metadata": {
        "id": "475808cb"
      },
      "source": [
        "#### 16. How to add a border (filled with 0's) around an existing array? (★☆☆)"
      ]
    },
    {
      "cell_type": "code",
      "execution_count": null,
      "id": "b2df3a8a",
      "metadata": {
        "colab": {
          "base_uri": "https://localhost:8080/"
        },
        "id": "b2df3a8a",
        "outputId": "87c8f0a4-b3ce-4dff-d7f4-fb12ca3275a8"
      },
      "outputs": [
        {
          "output_type": "stream",
          "name": "stdout",
          "text": [
            "[[0. 0. 0. 0. 0.]\n",
            " [0. 1. 1. 1. 0.]\n",
            " [0. 1. 1. 1. 0.]\n",
            " [0. 1. 1. 1. 0.]\n",
            " [0. 0. 0. 0. 0.]]\n"
          ]
        }
      ],
      "source": [
        "X = np.ones((5,5))\n",
        "X = np.pad(X, pad_width=1, mode='constant', constant_values=0)\n",
        "print(X)"
      ]
    },
    {
      "cell_type": "markdown",
      "id": "1af07d85",
      "metadata": {
        "id": "1af07d85"
      },
      "source": [
        "#### 17. What is the result of the following expression? (★☆☆)\n",
        "```python\n",
        "0 * np.nan\n",
        "np.nan == np.nan\n",
        "np.inf > np.nan\n",
        "np.nan - np.nan\n",
        "np.nan in set([np.nan])\n",
        "0.3 == 3 * 0.1\n",
        "```"
      ]
    },
    {
      "cell_type": "code",
      "execution_count": null,
      "id": "109cf327",
      "metadata": {
        "colab": {
          "base_uri": "https://localhost:8080/"
        },
        "id": "109cf327",
        "outputId": "e9bedc38-767f-45c3-f2fe-aab7a034d3da"
      },
      "outputs": [
        {
          "output_type": "stream",
          "name": "stdout",
          "text": [
            "nan\n",
            "False\n",
            "False\n",
            "nan\n",
            "True\n",
            "False\n"
          ]
        }
      ],
      "source": [
        "print(0 * np.nan)\n",
        "print(np.nan == np.nan)\n",
        "print(np.inf > np.nan)\n",
        "print(np.nan - np.nan)\n",
        "print(np.nan in set([np.nan]))\n",
        "print(0.3 == 3 * 0.1)"
      ]
    },
    {
      "cell_type": "markdown",
      "id": "6a235316",
      "metadata": {
        "id": "6a235316"
      },
      "source": [
        "#### 18. Create a 5x5 matrix with values 1,2,3,4 just below the diagonal (★☆☆)"
      ]
    },
    {
      "cell_type": "code",
      "execution_count": null,
      "id": "f2e6cfa6",
      "metadata": {
        "colab": {
          "base_uri": "https://localhost:8080/"
        },
        "id": "f2e6cfa6",
        "outputId": "940fe4ec-df14-4b9b-b2da-4b1a319e5a14"
      },
      "outputs": [
        {
          "output_type": "stream",
          "name": "stdout",
          "text": [
            "[[0 0 0 0 0]\n",
            " [1 0 0 0 0]\n",
            " [0 2 0 0 0]\n",
            " [0 0 3 0 0]\n",
            " [0 0 0 4 0]]\n"
          ]
        }
      ],
      "source": [
        "X = np.diag(1+np.arange(4),k=-1)\n",
        "print(X)"
      ]
    },
    {
      "cell_type": "markdown",
      "id": "25362e98",
      "metadata": {
        "id": "25362e98"
      },
      "source": [
        "#### 19. Create a 8x8 matrix and fill it with a checkerboard pattern (★☆☆)"
      ]
    },
    {
      "cell_type": "code",
      "execution_count": null,
      "id": "cabdf298",
      "metadata": {
        "colab": {
          "base_uri": "https://localhost:8080/"
        },
        "id": "cabdf298",
        "outputId": "ad1a13f8-41e2-4530-8779-be399421bf92"
      },
      "outputs": [
        {
          "output_type": "stream",
          "name": "stdout",
          "text": [
            "[[0 1 0 1 0 1 0 1]\n",
            " [1 0 1 0 1 0 1 0]\n",
            " [0 1 0 1 0 1 0 1]\n",
            " [1 0 1 0 1 0 1 0]\n",
            " [0 1 0 1 0 1 0 1]\n",
            " [1 0 1 0 1 0 1 0]\n",
            " [0 1 0 1 0 1 0 1]\n",
            " [1 0 1 0 1 0 1 0]]\n"
          ]
        }
      ],
      "source": [
        "X = np.zeros((8,8),dtype=int)\n",
        "X[1::2,::2] = 1\n",
        "X[::2,1::2] = 1\n",
        "print(X)"
      ]
    },
    {
      "cell_type": "markdown",
      "id": "6431e977",
      "metadata": {
        "id": "6431e977"
      },
      "source": [
        "#### 20. Consider a (6,7,8) shape array, what is the index (x,y,z) of the 100th element? (★☆☆)"
      ]
    },
    {
      "cell_type": "code",
      "execution_count": null,
      "id": "de8b0245",
      "metadata": {
        "colab": {
          "base_uri": "https://localhost:8080/"
        },
        "id": "de8b0245",
        "outputId": "0e88807d-c225-446b-dc53-3bbbb7d3f0d6"
      },
      "outputs": [
        {
          "output_type": "stream",
          "name": "stdout",
          "text": [
            "(1, 5, 3)\n"
          ]
        }
      ],
      "source": [
        "print(np.unravel_index(99,(6,7,8)))"
      ]
    },
    {
      "cell_type": "markdown",
      "id": "31abe6fe",
      "metadata": {
        "id": "31abe6fe"
      },
      "source": [
        "#### 21. Create a checkerboard 8x8 matrix using the tile function (★☆☆)"
      ]
    },
    {
      "cell_type": "code",
      "execution_count": null,
      "id": "6da26fd3",
      "metadata": {
        "colab": {
          "base_uri": "https://localhost:8080/"
        },
        "id": "6da26fd3",
        "outputId": "8b3a5e04-4d3b-425f-9fa4-8e0fa8f4d488"
      },
      "outputs": [
        {
          "output_type": "stream",
          "name": "stdout",
          "text": [
            "[[0 1 0 1 0 1 0 1]\n",
            " [1 0 1 0 1 0 1 0]\n",
            " [0 1 0 1 0 1 0 1]\n",
            " [1 0 1 0 1 0 1 0]\n",
            " [0 1 0 1 0 1 0 1]\n",
            " [1 0 1 0 1 0 1 0]\n",
            " [0 1 0 1 0 1 0 1]\n",
            " [1 0 1 0 1 0 1 0]]\n"
          ]
        }
      ],
      "source": [
        "X = np.tile( np.array([[0,1],[1,0]]), (4,4))\n",
        "print(X)"
      ]
    },
    {
      "cell_type": "markdown",
      "id": "fd88b3f4",
      "metadata": {
        "id": "fd88b3f4"
      },
      "source": [
        "#### 22. Normalize a 5x5 random matrix (★☆☆)"
      ]
    },
    {
      "cell_type": "code",
      "execution_count": null,
      "id": "ee6ced60",
      "metadata": {
        "colab": {
          "base_uri": "https://localhost:8080/"
        },
        "id": "ee6ced60",
        "outputId": "21134e8c-113b-4b8a-c4e8-d3cd060af4d0"
      },
      "outputs": [
        {
          "output_type": "stream",
          "name": "stdout",
          "text": [
            "[[-1.44137019 -1.35335298 -1.44956577 -0.78417583  0.53992961]\n",
            " [-0.75327427 -0.47683735 -1.3177648  -0.29080141  1.60972185]\n",
            " [-0.14627245  0.41242138 -0.16794677  0.94538679 -0.99227296]\n",
            " [ 1.72031817  0.53267129  0.81255854 -0.81648327 -0.51926243]\n",
            " [-0.46755865  0.65286984  0.61668538  1.58949067  1.5448856 ]]\n"
          ]
        }
      ],
      "source": [
        "X = np.random.random((5,5))\n",
        "X = (X - np.mean (X)) / (np.std (X))\n",
        "print(X)"
      ]
    },
    {
      "cell_type": "markdown",
      "id": "464d8590",
      "metadata": {
        "id": "464d8590"
      },
      "source": [
        "#### 23. Create a custom dtype that describes a color as four unsigned bytes (RGBA) (★☆☆)"
      ]
    },
    {
      "cell_type": "code",
      "execution_count": null,
      "id": "e2f9cfc6",
      "metadata": {
        "id": "e2f9cfc6"
      },
      "outputs": [],
      "source": [
        "color = np.dtype([(\"r\", np.ubyte),\n",
        "                  (\"g\", np.ubyte),\n",
        "                  (\"b\", np.ubyte),\n",
        "                  (\"a\", np.ubyte)])"
      ]
    },
    {
      "cell_type": "markdown",
      "id": "06c63bb3",
      "metadata": {
        "id": "06c63bb3"
      },
      "source": [
        "#### 24. Multiply a 5x3 matrix by a 3x2 matrix (real matrix product) (★☆☆)"
      ]
    },
    {
      "cell_type": "code",
      "execution_count": null,
      "id": "9fc0d553",
      "metadata": {
        "colab": {
          "base_uri": "https://localhost:8080/"
        },
        "id": "9fc0d553",
        "outputId": "3242f2f2-209e-4179-d073-9b4919494752"
      },
      "outputs": [
        {
          "output_type": "stream",
          "name": "stdout",
          "text": [
            "[ 2.27129936 -0.53090713  0.19984032 -0.08823902 -0.35190476 -0.08167462\n",
            "  1.84178614 -1.72998972 -0.86205181  0.46997579 -0.25294329  0.51858995\n",
            " -0.03164576  1.49081399  0.60836232  2.63240835 -1.38255823  0.58151998\n",
            " -0.28283251 -1.00805385  0.43458112  0.56818533 -1.68947932  1.75983625\n",
            "  1.26425136  0.36300028 -1.22650597  2.19416485  0.57116913 -1.82422258\n",
            " -1.16513731 -0.56014726  0.57903236 -2.41164638  0.92672152 -0.33922586\n",
            " -0.36534279 -1.09297973 -0.15903572  1.17933875  2.1533193   0.67679299\n",
            "  0.31065612  0.8282105   0.70420408  1.03865072  0.8070609  -0.18450331\n",
            " -1.68276529 -0.697449   -0.73822813 -0.26573402 -0.03165786  0.09066646\n",
            "  0.34811563 -0.95797039  0.3839548   0.14344968 -0.89826649 -0.21713882\n",
            " -0.9544764  -0.62590045  1.07646986  1.7427142   0.26299685  0.89792233\n",
            " -2.37894855 -1.57664536 -0.26047033 -0.73127962  0.342838    1.06223211\n",
            "  0.2814068  -0.78430061  0.20157717 -0.50244666  0.69361933  0.95166561\n",
            " -0.18445036 -0.37500748 -0.3509007   1.20142529  0.60811032  1.03679661\n",
            "  0.32082488  0.52986136 -0.17935937  0.52724348  0.17943412 -0.09615266\n",
            " -1.50476106 -1.86537442  0.2115473  -2.07569579 -2.3517341  -0.46515886\n",
            " -1.95799899 -0.83841863  1.42915957 -0.37850107]\n"
          ]
        }
      ],
      "source": [
        "Z = np.dot(np.ones((5,3)), np.ones((3,2)))\n",
        "print(X)"
      ]
    },
    {
      "cell_type": "markdown",
      "id": "76fa6285",
      "metadata": {
        "id": "76fa6285"
      },
      "source": [
        "#### 25. Given a 1D array, negate all elements which are between 3 and 8, in place. (★☆☆)"
      ]
    },
    {
      "cell_type": "code",
      "execution_count": null,
      "id": "0e25eca7",
      "metadata": {
        "colab": {
          "base_uri": "https://localhost:8080/"
        },
        "id": "0e25eca7",
        "outputId": "630abd65-0934-489e-9727-aa317b70ab14"
      },
      "outputs": [
        {
          "output_type": "stream",
          "name": "stdout",
          "text": [
            "[ 0  1  2  3 -4 -5 -6 -7  8  9 10]\n"
          ]
        }
      ],
      "source": [
        "X = np.arange(11)\n",
        "X[(3 < X) & (X < 8)] *= -1\n",
        "print(X)"
      ]
    },
    {
      "cell_type": "markdown",
      "id": "930ed8bb",
      "metadata": {
        "id": "930ed8bb"
      },
      "source": [
        "#### 26. What is the output of the following script? (★☆☆)\n",
        "```python\n",
        "# Author: Jake VanderPlas\n",
        "\n",
        "print(sum(range(5),-1))\n",
        "from numpy import *\n",
        "print(sum(range(5),-1))\n",
        "```"
      ]
    },
    {
      "cell_type": "code",
      "execution_count": null,
      "id": "f02eedba",
      "metadata": {
        "colab": {
          "base_uri": "https://localhost:8080/"
        },
        "id": "f02eedba",
        "outputId": "11bbdc15-82f4-4302-8e32-33029b327768"
      },
      "outputs": [
        {
          "output_type": "stream",
          "name": "stdout",
          "text": [
            "9\n",
            "10\n"
          ]
        }
      ],
      "source": [
        "print(sum(range(5),-1))\n",
        "from numpy import *\n",
        "print(sum(range(5),-1))"
      ]
    },
    {
      "cell_type": "markdown",
      "id": "177120e7",
      "metadata": {
        "id": "177120e7"
      },
      "source": [
        "#### 27. Consider an integer vector Z, which of these expressions are legal? (★☆☆)\n",
        "```python\n",
        "Z**Z\n",
        "2 << Z >> 2\n",
        "Z <- Z\n",
        "1j*Z\n",
        "Z/1/1\n",
        "Z<Z>Z\n",
        "```"
      ]
    },
    {
      "cell_type": "code",
      "execution_count": null,
      "id": "86d6cbef",
      "metadata": {
        "colab": {
          "base_uri": "https://localhost:8080/",
          "height": 338
        },
        "id": "86d6cbef",
        "outputId": "81b8d221-2cf1-4454-9350-47c0826985e8"
      },
      "outputs": [
        {
          "output_type": "stream",
          "name": "stdout",
          "text": [
            "[[27. 27.]\n",
            " [27. 27.]\n",
            " [27. 27.]\n",
            " [27. 27.]\n",
            " [27. 27.]]\n"
          ]
        },
        {
          "output_type": "error",
          "ename": "TypeError",
          "evalue": "ignored",
          "traceback": [
            "\u001b[0;31m---------------------------------------------------------------------------\u001b[0m",
            "\u001b[0;31mTypeError\u001b[0m                                 Traceback (most recent call last)",
            "\u001b[0;32m<ipython-input-110-c356f71a56cd>\u001b[0m in \u001b[0;36m<module>\u001b[0;34m\u001b[0m\n\u001b[1;32m      1\u001b[0m \u001b[0mprint\u001b[0m\u001b[0;34m(\u001b[0m\u001b[0mZ\u001b[0m\u001b[0;34m**\u001b[0m\u001b[0mZ\u001b[0m\u001b[0;34m)\u001b[0m\u001b[0;34m\u001b[0m\u001b[0;34m\u001b[0m\u001b[0m\n\u001b[0;32m----> 2\u001b[0;31m \u001b[0mprint\u001b[0m\u001b[0;34m(\u001b[0m\u001b[0;36m2\u001b[0m \u001b[0;34m<<\u001b[0m \u001b[0mZ\u001b[0m \u001b[0;34m>>\u001b[0m \u001b[0;36m2\u001b[0m\u001b[0;34m)\u001b[0m \u001b[0;31m#esse\u001b[0m\u001b[0;34m\u001b[0m\u001b[0;34m\u001b[0m\u001b[0m\n\u001b[0m\u001b[1;32m      3\u001b[0m \u001b[0mprint\u001b[0m\u001b[0;34m(\u001b[0m\u001b[0mZ\u001b[0m \u001b[0;34m<\u001b[0m\u001b[0;34m-\u001b[0m \u001b[0mZ\u001b[0m\u001b[0;34m)\u001b[0m\u001b[0;34m\u001b[0m\u001b[0;34m\u001b[0m\u001b[0m\n\u001b[1;32m      4\u001b[0m \u001b[0mprint\u001b[0m\u001b[0;34m(\u001b[0m\u001b[0;36m1j\u001b[0m\u001b[0;34m*\u001b[0m\u001b[0mZ\u001b[0m\u001b[0;34m)\u001b[0m\u001b[0;34m\u001b[0m\u001b[0;34m\u001b[0m\u001b[0m\n\u001b[1;32m      5\u001b[0m \u001b[0mprint\u001b[0m\u001b[0;34m(\u001b[0m\u001b[0mZ\u001b[0m\u001b[0;34m/\u001b[0m\u001b[0;36m1\u001b[0m\u001b[0;34m/\u001b[0m\u001b[0;36m1\u001b[0m\u001b[0;34m)\u001b[0m\u001b[0;34m\u001b[0m\u001b[0;34m\u001b[0m\u001b[0m\n",
            "\u001b[0;31mTypeError\u001b[0m: ufunc 'left_shift' not supported for the input types, and the inputs could not be safely coerced to any supported types according to the casting rule ''safe''"
          ]
        }
      ],
      "source": [
        "print(Z**Z)\n",
        "print(2 << Z >> 2) #esse\n",
        "print(Z <- Z)\n",
        "print(1j*Z)\n",
        "print(Z/1/1)\n",
        "print(Z<Z>Z) # e esse"
      ]
    },
    {
      "cell_type": "markdown",
      "id": "a6eaf0e8",
      "metadata": {
        "id": "a6eaf0e8"
      },
      "source": [
        "#### 28. What are the result of the following expressions? (★☆☆)\n",
        "```python\n",
        "np.array(0) / np.array(0)\n",
        "np.array(0) // np.array(0)\n",
        "np.array([np.nan]).astype(int).astype(float)\n",
        "```"
      ]
    },
    {
      "cell_type": "code",
      "execution_count": null,
      "id": "93684068",
      "metadata": {
        "colab": {
          "base_uri": "https://localhost:8080/"
        },
        "id": "93684068",
        "outputId": "e7aa3655-1633-48d1-c428-ee6dd887e535"
      },
      "outputs": [
        {
          "output_type": "stream",
          "name": "stdout",
          "text": [
            "nan\n",
            "0\n",
            "[-9.22337204e+18]\n"
          ]
        },
        {
          "output_type": "stream",
          "name": "stderr",
          "text": [
            "/usr/local/lib/python3.7/dist-packages/ipykernel_launcher.py:1: RuntimeWarning: invalid value encountered in true_divide\n",
            "  \"\"\"Entry point for launching an IPython kernel.\n",
            "/usr/local/lib/python3.7/dist-packages/ipykernel_launcher.py:2: RuntimeWarning: divide by zero encountered in floor_divide\n",
            "  \n"
          ]
        }
      ],
      "source": [
        "print(np.array(0) / np.array(0))\n",
        "print(np.array(0) // np.array(0))\n",
        "print(np.array([np.nan]).astype(int).astype(float))\n"
      ]
    },
    {
      "cell_type": "markdown",
      "id": "524b65f8",
      "metadata": {
        "id": "524b65f8"
      },
      "source": [
        "#### 29. How to round away from zero a float array ? (★☆☆)"
      ]
    },
    {
      "cell_type": "code",
      "execution_count": null,
      "id": "61fbb78e",
      "metadata": {
        "colab": {
          "base_uri": "https://localhost:8080/"
        },
        "id": "61fbb78e",
        "outputId": "ff726cb2-83d9-413f-cb34-c11be755a3eb"
      },
      "outputs": [
        {
          "output_type": "stream",
          "name": "stdout",
          "text": [
            "[ -5.   4. -10.   5.  -7.   4.  -1.   5.   5.  -9.]\n"
          ]
        }
      ],
      "source": [
        "X = np.random.uniform(-10,+10,10)\n",
        "print(np.copysign(np.ceil(np.abs(X)), X))"
      ]
    },
    {
      "cell_type": "markdown",
      "id": "8dc40752",
      "metadata": {
        "id": "8dc40752"
      },
      "source": [
        "#### 30. How to find common values between two arrays? (★☆☆)"
      ]
    },
    {
      "cell_type": "code",
      "execution_count": null,
      "id": "54399cbe",
      "metadata": {
        "colab": {
          "base_uri": "https://localhost:8080/"
        },
        "id": "54399cbe",
        "outputId": "d843526f-247b-4c57-ebb5-afd4f3eb5b0d"
      },
      "outputs": [
        {
          "output_type": "stream",
          "name": "stdout",
          "text": [
            "[4 9]\n"
          ]
        }
      ],
      "source": [
        "X = np.random.randint(0,10,10)\n",
        "Z = np.random.randint(0,10,10)\n",
        "print(np.intersect1d(X,Z))"
      ]
    },
    {
      "cell_type": "markdown",
      "id": "b7f38e21",
      "metadata": {
        "id": "b7f38e21"
      },
      "source": [
        "#### 31. How to ignore all numpy warnings (not recommended)? (★☆☆)"
      ]
    },
    {
      "cell_type": "code",
      "execution_count": null,
      "id": "2ca3289c",
      "metadata": {
        "id": "2ca3289c"
      },
      "outputs": [],
      "source": [
        "defaults = np.seterr(all=\"ignore\")"
      ]
    },
    {
      "cell_type": "markdown",
      "id": "2d850aab",
      "metadata": {
        "id": "2d850aab"
      },
      "source": [
        "#### 32. Is the following expressions true? (★☆☆)\n",
        "```python\n",
        "np.sqrt(-1) == np.emath.sqrt(-1)\n",
        "```"
      ]
    },
    {
      "cell_type": "code",
      "execution_count": null,
      "id": "5c83ffce",
      "metadata": {
        "colab": {
          "base_uri": "https://localhost:8080/"
        },
        "id": "5c83ffce",
        "outputId": "471c4320-9b7f-47ed-939e-ac8c873cf865"
      },
      "outputs": [
        {
          "output_type": "stream",
          "name": "stderr",
          "text": [
            "/usr/local/lib/python3.7/dist-packages/ipykernel_launcher.py:1: RuntimeWarning: invalid value encountered in sqrt\n",
            "  \"\"\"Entry point for launching an IPython kernel.\n"
          ]
        },
        {
          "output_type": "execute_result",
          "data": {
            "text/plain": [
              "False"
            ]
          },
          "metadata": {},
          "execution_count": 24
        }
      ],
      "source": [
        "np.sqrt(-1) == np.emath.sqrt(-1)\n"
      ]
    },
    {
      "cell_type": "markdown",
      "id": "5c4a556f",
      "metadata": {
        "id": "5c4a556f"
      },
      "source": [
        "#### 33. How to get the dates of yesterday, today and tomorrow? (★☆☆)"
      ]
    },
    {
      "cell_type": "code",
      "execution_count": null,
      "id": "c3b683a0",
      "metadata": {
        "colab": {
          "base_uri": "https://localhost:8080/"
        },
        "id": "c3b683a0",
        "outputId": "8cd2a364-47ee-4952-c938-9eb5d6fa0c59"
      },
      "outputs": [
        {
          "output_type": "stream",
          "name": "stdout",
          "text": [
            "2022-10-01 2022-10-02 2022-10-03\n"
          ]
        }
      ],
      "source": [
        "yesterday = np.datetime64('today') - np.timedelta64(1)\n",
        "today     = np.datetime64('today')\n",
        "tomorrow  = np.datetime64('today') + np.timedelta64(1)\n",
        "\n",
        "print(yesterday,today,tomorrow)"
      ]
    },
    {
      "cell_type": "markdown",
      "id": "453cdd64",
      "metadata": {
        "id": "453cdd64"
      },
      "source": [
        "#### 34. How to get all the dates corresponding to the month of July 2016? (★★☆)"
      ]
    },
    {
      "cell_type": "code",
      "execution_count": null,
      "id": "4ba4d37c",
      "metadata": {
        "colab": {
          "base_uri": "https://localhost:8080/"
        },
        "id": "4ba4d37c",
        "outputId": "3e478523-27a8-45c1-82cb-58bff5a07966"
      },
      "outputs": [
        {
          "output_type": "stream",
          "name": "stdout",
          "text": [
            "['2016-07-01' '2016-07-02' '2016-07-03' '2016-07-04' '2016-07-05'\n",
            " '2016-07-06' '2016-07-07' '2016-07-08' '2016-07-09' '2016-07-10'\n",
            " '2016-07-11' '2016-07-12' '2016-07-13' '2016-07-14' '2016-07-15'\n",
            " '2016-07-16' '2016-07-17' '2016-07-18' '2016-07-19' '2016-07-20'\n",
            " '2016-07-21' '2016-07-22' '2016-07-23' '2016-07-24' '2016-07-25'\n",
            " '2016-07-26' '2016-07-27' '2016-07-28' '2016-07-29' '2016-07-30'\n",
            " '2016-07-31']\n"
          ]
        }
      ],
      "source": [
        "X = np.arange('2016-07', '2016-08', dtype='datetime64[D]')\n",
        "print(X)"
      ]
    },
    {
      "cell_type": "markdown",
      "id": "52667b6e",
      "metadata": {
        "id": "52667b6e"
      },
      "source": [
        "#### 35. How to compute ((A+B)*(-A/2)) in place (without copy)? (★★☆)"
      ]
    },
    {
      "cell_type": "code",
      "execution_count": null,
      "id": "e6e7c030",
      "metadata": {
        "colab": {
          "base_uri": "https://localhost:8080/"
        },
        "id": "e6e7c030",
        "outputId": "39f3e862-c296-448a-bf50-91ea3b42b1bc"
      },
      "outputs": [
        {
          "output_type": "execute_result",
          "data": {
            "text/plain": [
              "array([-1.5, -1.5, -1.5])"
            ]
          },
          "metadata": {},
          "execution_count": 28
        }
      ],
      "source": [
        "A = np.ones(3)*1\n",
        "B = np.ones(3)*2\n",
        "np.add(A,B,out=B)\n",
        "np.divide(A,2,out=A)\n",
        "np.negative(A,out=A)\n",
        "np.multiply(A,B,out=A)"
      ]
    },
    {
      "cell_type": "markdown",
      "id": "9a8f3738",
      "metadata": {
        "id": "9a8f3738"
      },
      "source": [
        "#### 36. Extract the integer part of a random array of positive numbers using 4 different methods (★★☆)"
      ]
    },
    {
      "cell_type": "code",
      "execution_count": null,
      "id": "368a801a",
      "metadata": {
        "colab": {
          "base_uri": "https://localhost:8080/"
        },
        "id": "368a801a",
        "outputId": "4051b08b-6d18-4837-bafe-61c62c59d6e8"
      },
      "outputs": [
        {
          "output_type": "stream",
          "name": "stdout",
          "text": [
            "[1. 1. 2. 4. 8. 7. 6. 9. 1. 4.]\n",
            "[1. 1. 2. 4. 8. 7. 6. 9. 1. 4.]\n",
            "[1. 1. 2. 4. 8. 7. 6. 9. 1. 4.]\n",
            "[1 1 2 4 8 7 6 9 1 4]\n",
            "[1. 1. 2. 4. 8. 7. 6. 9. 1. 4.]\n"
          ]
        }
      ],
      "source": [
        "Z = np.random.uniform(0,10,10)\n",
        "\n",
        "print(Z - Z%1)\n",
        "print(Z // 1)\n",
        "print(np.floor(Z))\n",
        "print(Z.astype(int))\n",
        "print(np.trunc(Z))"
      ]
    },
    {
      "cell_type": "markdown",
      "id": "cab1eed1",
      "metadata": {
        "id": "cab1eed1"
      },
      "source": [
        "#### 37. Create a 5x5 matrix with row values ranging from 0 to 4 (★★☆)"
      ]
    },
    {
      "cell_type": "code",
      "execution_count": null,
      "id": "f1b579ba",
      "metadata": {
        "colab": {
          "base_uri": "https://localhost:8080/"
        },
        "id": "f1b579ba",
        "outputId": "3dda762b-bcf4-43d0-9e0d-8076500da331"
      },
      "outputs": [
        {
          "output_type": "stream",
          "name": "stdout",
          "text": [
            "[[0. 1. 2. 3. 4.]\n",
            " [0. 1. 2. 3. 4.]\n",
            " [0. 1. 2. 3. 4.]\n",
            " [0. 1. 2. 3. 4.]\n",
            " [0. 1. 2. 3. 4.]]\n",
            "[[0 1 2 3 4]\n",
            " [0 1 2 3 4]\n",
            " [0 1 2 3 4]\n",
            " [0 1 2 3 4]\n",
            " [0 1 2 3 4]]\n"
          ]
        }
      ],
      "source": [
        "Z = np.zeros((5,5))\n",
        "Z += np.arange(5)\n",
        "print(Z)\n",
        "\n",
        "# without broadcasting\n",
        "Z = np.tile(np.arange(0, 5), (5,1))\n",
        "print(Z)"
      ]
    },
    {
      "cell_type": "markdown",
      "id": "cd0ce6b1",
      "metadata": {
        "id": "cd0ce6b1"
      },
      "source": [
        "#### 38. Consider a generator function that generates 10 integers and use it to build an array (★☆☆)"
      ]
    },
    {
      "cell_type": "code",
      "execution_count": null,
      "id": "aab193a6",
      "metadata": {
        "colab": {
          "base_uri": "https://localhost:8080/"
        },
        "id": "aab193a6",
        "outputId": "cf061b62-e0ca-4521-f9fd-63de8abc2ec0"
      },
      "outputs": [
        {
          "output_type": "stream",
          "name": "stdout",
          "text": [
            "[0. 1. 2. 3. 4. 5. 6. 7. 8. 9.]\n"
          ]
        }
      ],
      "source": [
        "def generate():\n",
        "    for x in range(10):\n",
        "        yield x\n",
        "Z = np.fromiter(generate(),dtype=float,count=-1)\n",
        "print(Z)"
      ]
    },
    {
      "cell_type": "markdown",
      "id": "c4c942d1",
      "metadata": {
        "id": "c4c942d1"
      },
      "source": [
        "#### 39. Create a vector of size 10 with values ranging from 0 to 1, both excluded (★★☆)"
      ]
    },
    {
      "cell_type": "code",
      "execution_count": null,
      "id": "e42eaa4b",
      "metadata": {
        "colab": {
          "base_uri": "https://localhost:8080/"
        },
        "id": "e42eaa4b",
        "outputId": "1fd06bda-0fd3-4cf0-e731-d80be16dcbbf"
      },
      "outputs": [
        {
          "output_type": "stream",
          "name": "stdout",
          "text": [
            "[0.09090909 0.18181818 0.27272727 0.36363636 0.45454545 0.54545455\n",
            " 0.63636364 0.72727273 0.81818182 0.90909091]\n"
          ]
        }
      ],
      "source": [
        "Z = np.linspace(0,1,11,endpoint=False)[1:]\n",
        "print(Z)"
      ]
    },
    {
      "cell_type": "markdown",
      "id": "9b3cb8d2",
      "metadata": {
        "id": "9b3cb8d2"
      },
      "source": [
        "#### 40. Create a random vector of size 10 and sort it (★★☆)"
      ]
    },
    {
      "cell_type": "code",
      "execution_count": null,
      "id": "37d2b341",
      "metadata": {
        "colab": {
          "base_uri": "https://localhost:8080/"
        },
        "id": "37d2b341",
        "outputId": "18935f01-24da-4122-b870-d579ad96b653"
      },
      "outputs": [
        {
          "output_type": "stream",
          "name": "stdout",
          "text": [
            "[0.13496633 0.14066876 0.22283583 0.47087296 0.47773861 0.67491204\n",
            " 0.7262777  0.93321614 0.93789547 0.98665137]\n"
          ]
        }
      ],
      "source": [
        "Z = np.random.random(10)\n",
        "Z.sort()\n",
        "print(Z)"
      ]
    },
    {
      "cell_type": "markdown",
      "id": "2facfddc",
      "metadata": {
        "id": "2facfddc"
      },
      "source": [
        "#### 41. How to sum a small array faster than np.sum? (★★☆)"
      ]
    },
    {
      "cell_type": "code",
      "execution_count": null,
      "id": "4bb8864f",
      "metadata": {
        "colab": {
          "base_uri": "https://localhost:8080/"
        },
        "id": "4bb8864f",
        "outputId": "cfa74afb-cb05-4f2d-e359-4ccfc0e1f6ee"
      },
      "outputs": [
        {
          "output_type": "execute_result",
          "data": {
            "text/plain": [
              "45"
            ]
          },
          "metadata": {},
          "execution_count": 34
        }
      ],
      "source": [
        "Z = np.arange(10)\n",
        "np.add.reduce(Z)"
      ]
    },
    {
      "cell_type": "markdown",
      "id": "539cd2a5",
      "metadata": {
        "id": "539cd2a5"
      },
      "source": [
        "#### 42. Consider two random array A and B, check if they are equal (★★☆)"
      ]
    },
    {
      "cell_type": "code",
      "execution_count": null,
      "id": "5246d7bf",
      "metadata": {
        "colab": {
          "base_uri": "https://localhost:8080/"
        },
        "id": "5246d7bf",
        "outputId": "e4803200-b7da-45f5-c45e-3ae46bdad34f"
      },
      "outputs": [
        {
          "output_type": "stream",
          "name": "stdout",
          "text": [
            "False\n"
          ]
        }
      ],
      "source": [
        "A = np.random.randint(2,5)\n",
        "B = np.random.randint(2,5)\n",
        "print(np.array_equal(A,B))\n"
      ]
    },
    {
      "cell_type": "markdown",
      "id": "448f8274",
      "metadata": {
        "id": "448f8274"
      },
      "source": [
        "#### 43. Make an array immutable (read-only) (★★☆)"
      ]
    },
    {
      "cell_type": "code",
      "execution_count": null,
      "id": "7cf2b3dd",
      "metadata": {
        "colab": {
          "base_uri": "https://localhost:8080/",
          "height": 246
        },
        "id": "7cf2b3dd",
        "outputId": "cddede57-91b2-40ae-88fd-63c5ba72f04a"
      },
      "outputs": [
        {
          "output_type": "stream",
          "name": "stdout",
          "text": [
            "[0. 0. 0. 0. 0. 0. 0. 0. 0. 0.]\n"
          ]
        },
        {
          "output_type": "error",
          "ename": "ValueError",
          "evalue": "ignored",
          "traceback": [
            "\u001b[0;31m---------------------------------------------------------------------------\u001b[0m",
            "\u001b[0;31mValueError\u001b[0m                                Traceback (most recent call last)",
            "\u001b[0;32m<ipython-input-39-46d595cee165>\u001b[0m in \u001b[0;36m<module>\u001b[0;34m\u001b[0m\n\u001b[1;32m      2\u001b[0m \u001b[0mprint\u001b[0m\u001b[0;34m(\u001b[0m\u001b[0mZ\u001b[0m\u001b[0;34m)\u001b[0m\u001b[0;34m\u001b[0m\u001b[0;34m\u001b[0m\u001b[0m\n\u001b[1;32m      3\u001b[0m \u001b[0mZ\u001b[0m\u001b[0;34m.\u001b[0m\u001b[0mflags\u001b[0m\u001b[0;34m.\u001b[0m\u001b[0mwriteable\u001b[0m \u001b[0;34m=\u001b[0m \u001b[0;32mFalse\u001b[0m\u001b[0;34m\u001b[0m\u001b[0;34m\u001b[0m\u001b[0m\n\u001b[0;32m----> 4\u001b[0;31m \u001b[0mZ\u001b[0m\u001b[0;34m[\u001b[0m\u001b[0;36m0\u001b[0m\u001b[0;34m]\u001b[0m \u001b[0;34m=\u001b[0m \u001b[0;36m1\u001b[0m\u001b[0;34m\u001b[0m\u001b[0;34m\u001b[0m\u001b[0m\n\u001b[0m\u001b[1;32m      5\u001b[0m \u001b[0mprint\u001b[0m\u001b[0;34m(\u001b[0m\u001b[0mZ\u001b[0m\u001b[0;34m)\u001b[0m\u001b[0;34m\u001b[0m\u001b[0;34m\u001b[0m\u001b[0m\n",
            "\u001b[0;31mValueError\u001b[0m: assignment destination is read-only"
          ]
        }
      ],
      "source": [
        "Z = np.zeros(10)\n",
        "print(Z)\n",
        "Z.flags.writeable = False\n",
        "Z[0] = 1\n",
        "print(Z)"
      ]
    },
    {
      "cell_type": "markdown",
      "id": "d7b7aaf3",
      "metadata": {
        "id": "d7b7aaf3"
      },
      "source": [
        "#### 44. Consider a random 10x2 matrix representing cartesian coordinates, convert them to polar coordinates (★★☆)"
      ]
    },
    {
      "cell_type": "code",
      "execution_count": null,
      "id": "e2337585",
      "metadata": {
        "colab": {
          "base_uri": "https://localhost:8080/"
        },
        "id": "e2337585",
        "outputId": "d5ccf293-9928-4d92-ef7f-4628031092c4"
      },
      "outputs": [
        {
          "output_type": "stream",
          "name": "stdout",
          "text": [
            "[0.98107969 0.96040394 0.90213879 0.27784096 0.91164555 0.22085457\n",
            " 0.8185296  1.1213993  0.79674544 0.83167402]\n",
            "[0.89310157 0.08419077 0.99367909 0.00698785 1.27261615 1.40502032\n",
            " 0.42860662 1.0055931  0.24602812 1.19082102]\n"
          ]
        }
      ],
      "source": [
        "Z = np.random.random((10,2))\n",
        "X,Y = Z[:,0], Z[:,1]\n",
        "R = np.sqrt(X**2+Y**2)\n",
        "T = np.arctan2(Y,X)\n",
        "print(R)\n",
        "print(T)"
      ]
    },
    {
      "cell_type": "markdown",
      "id": "a556027a",
      "metadata": {
        "id": "a556027a"
      },
      "source": [
        "#### 45. Create random vector of size 10 and replace the maximum value by 0 (★★☆)"
      ]
    },
    {
      "cell_type": "code",
      "execution_count": null,
      "id": "9e07cb87",
      "metadata": {
        "colab": {
          "base_uri": "https://localhost:8080/"
        },
        "id": "9e07cb87",
        "outputId": "41bfd22f-ee21-41e6-cabd-b1d44ba58b90"
      },
      "outputs": [
        {
          "output_type": "stream",
          "name": "stdout",
          "text": [
            "[0.85253505 0.21540999 0.91835557 0.76885902 0.21695301 0.53980842\n",
            " 0.16657389 0.48036767 0.87117346 0.        ]\n"
          ]
        }
      ],
      "source": [
        "Z = np.random.random(10)\n",
        "Z[Z.argmax()] = 0\n",
        "print(Z)"
      ]
    },
    {
      "cell_type": "markdown",
      "id": "004f3da1",
      "metadata": {
        "id": "004f3da1"
      },
      "source": [
        "#### 46. Create a structured array with `x` and `y` coordinates covering the [0,1]x[0,1] area (★★☆)"
      ]
    },
    {
      "cell_type": "code",
      "execution_count": null,
      "id": "b3824741",
      "metadata": {
        "colab": {
          "base_uri": "https://localhost:8080/"
        },
        "id": "b3824741",
        "outputId": "351d1e77-266f-4f61-85d0-ca71f03556fb"
      },
      "outputs": [
        {
          "output_type": "stream",
          "name": "stdout",
          "text": [
            "[[(0.  , 0.  ) (0.25, 0.  ) (0.5 , 0.  ) (0.75, 0.  ) (1.  , 0.  )]\n",
            " [(0.  , 0.25) (0.25, 0.25) (0.5 , 0.25) (0.75, 0.25) (1.  , 0.25)]\n",
            " [(0.  , 0.5 ) (0.25, 0.5 ) (0.5 , 0.5 ) (0.75, 0.5 ) (1.  , 0.5 )]\n",
            " [(0.  , 0.75) (0.25, 0.75) (0.5 , 0.75) (0.75, 0.75) (1.  , 0.75)]\n",
            " [(0.  , 1.  ) (0.25, 1.  ) (0.5 , 1.  ) (0.75, 1.  ) (1.  , 1.  )]]\n"
          ]
        }
      ],
      "source": [
        "Z = np.zeros((5,5), [('x',float),('y',float)])\n",
        "Z['x'], Z['y'] = np.meshgrid(np.linspace(0,1,5),\n",
        "                             np.linspace(0,1,5))\n",
        "print(Z)"
      ]
    },
    {
      "cell_type": "markdown",
      "id": "1c0adc0d",
      "metadata": {
        "id": "1c0adc0d"
      },
      "source": [
        "#### 47. Given two arrays, X and Y, construct the Cauchy matrix C (Cij =1/(xi - yj)) (★★☆)"
      ]
    },
    {
      "cell_type": "code",
      "execution_count": null,
      "id": "01b3bbb7",
      "metadata": {
        "colab": {
          "base_uri": "https://localhost:8080/"
        },
        "id": "01b3bbb7",
        "outputId": "d17faab6-3304-4e6b-e849-8ef716e2a002"
      },
      "outputs": [
        {
          "output_type": "stream",
          "name": "stdout",
          "text": [
            "3638.163637117973\n"
          ]
        }
      ],
      "source": [
        "X = np.arange(8)\n",
        "Y = X + 0.5\n",
        "C = 1.0 / np.subtract.outer(X, Y)\n",
        "print(np.linalg.det(C))"
      ]
    },
    {
      "cell_type": "markdown",
      "id": "c8a2f65a",
      "metadata": {
        "id": "c8a2f65a"
      },
      "source": [
        "#### 48. Print the minimum and maximum representable value for each numpy scalar type (★★☆)"
      ]
    },
    {
      "cell_type": "code",
      "execution_count": null,
      "id": "35d844d6",
      "metadata": {
        "colab": {
          "base_uri": "https://localhost:8080/"
        },
        "id": "35d844d6",
        "outputId": "3ed83795-1605-4842-9a40-dfe7186776be"
      },
      "outputs": [
        {
          "output_type": "stream",
          "name": "stdout",
          "text": [
            "-128\n",
            "127\n",
            "-2147483648\n",
            "2147483647\n",
            "-9223372036854775808\n",
            "9223372036854775807\n",
            "-3.4028235e+38\n",
            "3.4028235e+38\n",
            "1.1920929e-07\n",
            "-1.7976931348623157e+308\n",
            "1.7976931348623157e+308\n",
            "2.220446049250313e-16\n"
          ]
        }
      ],
      "source": [
        "for dtype in [np.int8, np.int32, np.int64]:\n",
        "   print(np.iinfo(dtype).min)\n",
        "   print(np.iinfo(dtype).max)\n",
        "for dtype in [np.float32, np.float64]:\n",
        "   print(np.finfo(dtype).min)\n",
        "   print(np.finfo(dtype).max)\n",
        "   print(np.finfo(dtype).eps)"
      ]
    },
    {
      "cell_type": "markdown",
      "id": "11727a69",
      "metadata": {
        "id": "11727a69"
      },
      "source": [
        "#### 49. How to print all the values of an array? (★★☆)"
      ]
    },
    {
      "cell_type": "code",
      "execution_count": null,
      "id": "47e98473",
      "metadata": {
        "colab": {
          "base_uri": "https://localhost:8080/"
        },
        "id": "47e98473",
        "outputId": "177a81de-d940-48d3-98ba-e25318d31dce"
      },
      "outputs": [
        {
          "output_type": "stream",
          "name": "stdout",
          "text": [
            "[[0. 0. 0. 0. 0. 0. 0. 0. 0. 0.]\n",
            " [0. 0. 0. 0. 0. 0. 0. 0. 0. 0.]\n",
            " [0. 0. 0. 0. 0. 0. 0. 0. 0. 0.]\n",
            " [0. 0. 0. 0. 0. 0. 0. 0. 0. 0.]\n",
            " [0. 0. 0. 0. 0. 0. 0. 0. 0. 0.]\n",
            " [0. 0. 0. 0. 0. 0. 0. 0. 0. 0.]\n",
            " [0. 0. 0. 0. 0. 0. 0. 0. 0. 0.]\n",
            " [0. 0. 0. 0. 0. 0. 0. 0. 0. 0.]\n",
            " [0. 0. 0. 0. 0. 0. 0. 0. 0. 0.]\n",
            " [0. 0. 0. 0. 0. 0. 0. 0. 0. 0.]]\n"
          ]
        }
      ],
      "source": [
        "np.set_printoptions(threshold=float(\"inf\"))\n",
        "Z = np.zeros((10,10))\n",
        "print(Z)"
      ]
    },
    {
      "cell_type": "markdown",
      "id": "e0e7d741",
      "metadata": {
        "id": "e0e7d741"
      },
      "source": [
        "#### 50. How to find the closest value (to a given scalar) in a vector? (★★☆)"
      ]
    },
    {
      "cell_type": "code",
      "execution_count": null,
      "id": "62cabf6f",
      "metadata": {
        "colab": {
          "base_uri": "https://localhost:8080/"
        },
        "id": "62cabf6f",
        "outputId": "2a9018a9-805d-4349-d622-7d771c04bc37"
      },
      "outputs": [
        {
          "output_type": "stream",
          "name": "stdout",
          "text": [
            "80\n"
          ]
        }
      ],
      "source": [
        "Z = np.arange(100)\n",
        "v = np.random.uniform(0,100)\n",
        "index = (np.abs(Z-v)).argmin()\n",
        "print(Z[index])"
      ]
    },
    {
      "cell_type": "markdown",
      "id": "c5611b9e",
      "metadata": {
        "id": "c5611b9e"
      },
      "source": [
        "#### 51. Create a structured array representing a position (x,y) and a color (r,g,b) (★★☆)"
      ]
    },
    {
      "cell_type": "code",
      "execution_count": null,
      "id": "f622939d",
      "metadata": {
        "colab": {
          "base_uri": "https://localhost:8080/"
        },
        "id": "f622939d",
        "outputId": "d88ecbdb-2328-4985-f8ae-81f104ca5a0e"
      },
      "outputs": [
        {
          "output_type": "stream",
          "name": "stdout",
          "text": [
            "[((0., 0.), (0., 0., 0.)) ((0., 0.), (0., 0., 0.))\n",
            " ((0., 0.), (0., 0., 0.)) ((0., 0.), (0., 0., 0.))\n",
            " ((0., 0.), (0., 0., 0.)) ((0., 0.), (0., 0., 0.))\n",
            " ((0., 0.), (0., 0., 0.)) ((0., 0.), (0., 0., 0.))\n",
            " ((0., 0.), (0., 0., 0.)) ((0., 0.), (0., 0., 0.))]\n"
          ]
        },
        {
          "output_type": "stream",
          "name": "stderr",
          "text": [
            "/usr/local/lib/python3.7/dist-packages/ipykernel_launcher.py:5: FutureWarning: Passing (type, 1) or '1type' as a synonym of type is deprecated; in a future version of numpy, it will be understood as (type, (1,)) / '(1,)type'.\n",
            "  \"\"\"\n"
          ]
        }
      ],
      "source": [
        "Z = np.zeros(10, [ ('position', [ ('x', float, 1),\n",
        "                                  ('y', float, 1)]),\n",
        "                   ('color',    [ ('r', float, 1),\n",
        "                                  ('g', float, 1),\n",
        "                                  ('b', float, 1)])])\n",
        "print(Z)"
      ]
    },
    {
      "cell_type": "markdown",
      "id": "d22b8574",
      "metadata": {
        "id": "d22b8574"
      },
      "source": [
        "#### 52. Consider a random vector with shape (100,2) representing coordinates, find point by point distances (★★☆)"
      ]
    },
    {
      "cell_type": "code",
      "execution_count": null,
      "id": "d5c9cdf8",
      "metadata": {
        "colab": {
          "base_uri": "https://localhost:8080/"
        },
        "id": "d5c9cdf8",
        "outputId": "91cbeb73-452e-4235-def7-cdf833dcfed5"
      },
      "outputs": [
        {
          "output_type": "stream",
          "name": "stdout",
          "text": [
            "[[0.         0.58409998 0.35523493 0.11013653 0.62679006 0.27214832\n",
            "  0.40980103 0.59446882 0.32708858 0.50599031 0.36315986 0.44807385\n",
            "  0.30532376 0.46038386 0.44211717 0.34777357 0.67988673 0.19617255\n",
            "  0.56162433 0.45571201 0.24203143 0.74592346 0.68901613 0.31873012\n",
            "  0.59935056 0.67336283 0.56413843 0.2615897  0.39320246 0.3419923\n",
            "  0.26113612 0.4907155  0.61493569 0.47529487 0.32516486 0.07620316\n",
            "  0.62162161 0.14006534 0.55784862 0.35450633 0.33187576 0.76955431\n",
            "  0.56465838 0.42110281 0.18637448 0.42799967 0.17176246 0.31262877\n",
            "  0.64396547 0.37196126 0.25434479 0.75627652 0.40078612 0.18196541\n",
            "  0.69901555 0.45438062 0.23176041 0.70931811 0.03005288 0.38418714\n",
            "  0.55520146 0.32360829 0.64573905 0.68995015 0.61724945 0.38558818\n",
            "  0.76566264 0.64363825 0.38620961 0.47028829 0.62929269 0.56015654\n",
            "  0.43777472 0.60048491 0.56849931 0.27502109 0.39870915 0.67099115\n",
            "  0.38171451 0.44320083 0.69517173 0.55863175 0.54399309 0.65920978\n",
            "  0.51854232 0.7399387  0.6476922  0.49331221 0.35822979 0.37434253\n",
            "  0.54556208 0.34888262 0.41510947 0.25441549 0.6478821  0.6815145\n",
            "  0.64809375 0.76420678 0.81501288 0.44976244]\n",
            " [0.58409998 0.         0.92750454 0.47402365 0.06356587 0.84008366\n",
            "  0.35363321 0.06691663 0.35060899 0.13970157 0.49949441 0.1637\n",
            "  0.59009181 0.4121072  0.32791353 0.23652239 0.10369881 0.41164241\n",
            "  0.83585691 1.01780195 0.74995045 0.40245815 0.21191781 0.26657292\n",
            "  0.43123981 0.81285082 0.26294854 0.83838533 0.69399339 0.79792757\n",
            "  0.81663545 0.83998757 0.6320138  0.19719346 0.51471171 0.55725918\n",
            "  0.03782067 0.44412946 0.41653478 0.2430671  0.89503345 0.32690951\n",
            "  0.03728354 0.96471993 0.73425367 0.86052609 0.70821168 0.57549535\n",
            "  0.63239824 0.51052679 0.34296269 0.35447898 0.26442188 0.46793054\n",
            "  0.66768293 0.54269919 0.54953922 0.64756392 0.55440544 0.57177592\n",
            "  0.12268211 0.59422614 0.7058718  0.8317349  0.58409333 0.9691682\n",
            "  0.85693283 0.18293269 0.2158751  1.04997892 0.24365976 0.26214632\n",
            "  0.37036817 0.86101034 0.06208546 0.57707563 0.56015147 0.15205374\n",
            "  0.32875145 1.00582881 0.46583535 0.50995745 0.63394624 0.16103279\n",
            "  0.48546632 0.18651427 0.22247962 1.07680545 0.791353   0.95770965\n",
            "  0.78555569 0.32718272 0.68754178 0.55289554 0.06745733 0.79483268\n",
            "  0.73247268 0.24625907 0.9655562  1.01222294]\n",
            " [0.35523493 0.92750454 0.         0.46002538 0.97495899 0.24138715\n",
            "  0.75579028 0.94454802 0.61740379 0.85986333 0.56233776 0.7780857\n",
            "  0.44865059 0.69641471 0.71587666 0.69232895 1.01738079 0.55098329\n",
            "  0.53779402 0.10649547 0.21408287 1.00733055 0.9998194  0.66789263\n",
            "  0.82984616 0.7105958  0.85262251 0.09455875 0.44617567 0.26527894\n",
            "  0.11868227 0.4315562  0.75007284 0.78912872 0.52099465 0.41095239\n",
            "  0.9653245  0.48882543 0.79157733 0.68738544 0.04683547 1.06070394\n",
            "  0.91182294 0.11668601 0.19681598 0.31089631 0.33181247 0.46651674\n",
            "  0.78491738 0.5631203  0.60907478 1.03593901 0.70718535 0.46939468\n",
            "  0.83357282 0.62214253 0.42849697 0.85718636 0.3821659  0.67002248\n",
            "  0.90892974 0.59672822 0.7444399  0.72012587 0.77892993 0.14824798\n",
            "  0.8078605  0.95659533 0.7394776  0.12914903 0.92562201 0.84888265\n",
            "  0.78044168 0.57173186 0.91828612 0.55748905 0.55579989 0.99416864\n",
            "  0.73216904 0.09433161 0.92396151 0.750133   0.66482278 0.9788321\n",
            "  0.71932273 1.06727854 0.9511239  0.17571797 0.29717006 0.14893952\n",
            "  0.55824919 0.70121837 0.47685695 0.44027733 0.98801836 0.73394967\n",
            "  0.73079249 1.07908827 0.80418221 0.10054742]\n",
            " [0.11013653 0.47402365 0.46002538 0.         0.51742627 0.37639381\n",
            "  0.33058684 0.48569157 0.23810256 0.3999765  0.31599806 0.33954023\n",
            "  0.29523762 0.38694193 0.35370479 0.23764276 0.56982293 0.10727382\n",
            "  0.57602365 0.55713368 0.31633928 0.65365671 0.58331866 0.20925\n",
            "  0.52127563 0.66027668 0.46635149 0.36790552 0.40186144 0.40091818\n",
            "  0.35768898 0.52257531 0.57129307 0.37084157 0.28581837 0.10735298\n",
            "  0.51157998 0.02993018 0.48019721 0.2460595  0.43272994 0.66826738\n",
            "  0.45501772 0.51539882 0.27716279 0.48323977 0.2591437  0.29598305\n",
            "  0.59667031 0.32729564 0.15132871 0.65834436 0.30057548 0.12309279\n",
            "  0.65140861 0.41020356 0.21658077 0.65663764 0.08038419 0.36273506\n",
            "  0.44897062 0.31846746 0.61330978 0.67827144 0.56380851 0.49566564\n",
            "  0.74637475 0.53772384 0.27949025 0.57838883 0.52800694 0.46236796\n",
            "  0.36197659 0.61338422 0.45958779 0.27150572 0.36548044 0.56274787\n",
            "  0.29624797 0.54474091 0.61472089 0.49716162 0.51030587 0.55171003\n",
            "  0.4558301  0.63083129 0.54419281 0.60302407 0.40965961 0.48437108\n",
            "  0.54963555 0.26057174 0.41719024 0.23748657 0.5377479  0.66291674\n",
            "  0.62108715 0.65722783 0.8107186  0.55128273]\n",
            " [0.62679006 0.06356587 0.97495899 0.51742627 0.         0.87575143\n",
            "  0.35506919 0.03853931 0.41066635 0.1428817  0.5618438  0.22419109\n",
            "  0.6502077  0.47565376 0.39146208 0.28283253 0.10614552 0.44591943\n",
            "  0.89885173 1.06750315 0.80298244 0.44864477 0.24909837 0.30817968\n",
            "  0.49130205 0.87622367 0.32260112 0.88443698 0.75541473 0.85479856\n",
            "  0.86615219 0.90145702 0.69460859 0.26072754 0.57597054 0.59405967\n",
            "  0.04397783 0.48781253 0.47816718 0.2972141  0.94401436 0.36105129\n",
            "  0.0635516  1.01664862 0.78373882 0.91919702 0.74142021 0.63599662\n",
            "  0.69431901 0.57303894 0.37837491 0.39469575 0.32640563 0.52145689\n",
            "  0.72857866 0.6062022  0.60697995 0.70762029 0.59755656 0.57652337\n",
            "  0.10568907 0.60640757 0.768703   0.89508073 0.64602328 1.00987769\n",
            "  0.91947654 0.22861358 0.24595872 1.09556376 0.29577316 0.32209032\n",
            "  0.36631875 0.92425741 0.06039478 0.59411302 0.6229563  0.18475566\n",
            "  0.33716419 1.05539607 0.52082868 0.57250603 0.69744411 0.19979632\n",
            "  0.5486095  0.19508927 0.27033774 1.12008706 0.84927293 0.99820829\n",
            "  0.84878575 0.34249951 0.74959327 0.61134454 0.07534041 0.85799449\n",
            "  0.7955265  0.26559737 1.02864793 1.06184217]\n",
            " [0.27214832 0.84008366 0.24138715 0.37639381 0.87575143 0.\n",
            "  0.5927964  0.84055487 0.59789919 0.74318996 0.60776776 0.71534828\n",
            "  0.51913142 0.7215389  0.71178105 0.60793084 0.9398165  0.42984206\n",
            "  0.7039302  0.33918072 0.32735706 1.01590719 0.95958929 0.57425733\n",
            "  0.86151425 0.85510532 0.8361214  0.18405462 0.56710495 0.42738384\n",
            "  0.25213158 0.60679824 0.84270616 0.74649012 0.56602892 0.28286397\n",
            "  0.87666996 0.40534244 0.82024587 0.62212334 0.25875121 1.04168271\n",
            "  0.8163286  0.3560016  0.25804303 0.50056875 0.1380343  0.53265155\n",
            "  0.8750703  0.61373065 0.49781586 1.02815264 0.6728955  0.44808004\n",
            "  0.9287569  0.69036709 0.46418193 0.94486934 0.30123491 0.45970422\n",
            "  0.79172432 0.38590172 0.85775569 0.86845023 0.85624517 0.16030531\n",
            "  0.95279991 0.91403625 0.62983255 0.29037954 0.90139977 0.83214284\n",
            "  0.61058642 0.7418695  0.81570249 0.35589871 0.6270425  0.93851519\n",
            "  0.58009167 0.32869471 0.95810742 0.80754169 0.76281418 0.92794657\n",
            "  0.76973143 1.0052567  0.91937119 0.28279228 0.45728984 0.14827817\n",
            "  0.70818014 0.55647733 0.5959949  0.48416921 0.90606281 0.87156232\n",
            "  0.85241187 1.03358158 0.97423596 0.33387509]\n",
            " [0.40980103 0.35363321 0.75579028 0.33058684 0.35506919 0.5927964\n",
            "  0.         0.31676018 0.41937857 0.21533681 0.57009967 0.34298345\n",
            "  0.59801387 0.56760989 0.49221222 0.25279289 0.4527687  0.22332778\n",
            "  0.88389834 0.86009076 0.64415813 0.71131557 0.5527567  0.22622317\n",
            "  0.66072683 0.93310635 0.52602426 0.661356   0.71195864 0.73149996\n",
            "  0.67050017 0.8442586  0.79715736 0.41018734 0.5575886  0.34527264\n",
            "  0.37847435 0.31258029 0.62828692 0.30725707 0.73823756 0.66563913\n",
            "  0.31745244 0.83049987 0.59572937 0.81340152 0.45541963 0.59263393\n",
            "  0.81233579 0.58336614 0.20046699 0.68149564 0.40151089 0.41762537\n",
            "  0.86156246 0.65373117 0.52524753 0.85430463 0.38924184 0.22159696\n",
            "  0.25013664 0.25871208 0.85747105 0.95229354 0.76870642 0.74629825\n",
            "  1.00564269 0.51361919 0.18211119 0.85744986 0.54923102 0.52301757\n",
            "  0.03420075 0.91877838 0.30065891 0.25787211 0.63308869 0.50085838\n",
            "  0.04349042 0.84756169 0.73149083 0.69055518 0.76075922 0.50401495\n",
            "  0.6523601  0.53954075 0.54345986 0.86669793 0.73960201 0.7339935\n",
            "  0.84861532 0.07837142 0.7209028  0.54172189 0.41627491 0.92733819\n",
            "  0.87426226 0.59883123 1.09024956 0.85407909]\n",
            " [0.59446882 0.06691663 0.94454802 0.48569157 0.03853931 0.84055487\n",
            "  0.31676018 0.         0.39283772 0.1044367  0.54797991 0.20917382\n",
            "  0.63159114 0.46980105 0.38424656 0.25405414 0.14030268 0.41094905\n",
            "  0.88656359 1.03834632 0.77643756 0.46807966 0.27336998 0.27672411\n",
            "  0.49648478 0.87166226 0.32874442 0.8533598  0.7389361  0.8316717\n",
            "  0.837065   0.88488188 0.69380068 0.25421854 0.55954883 0.55954052\n",
            "  0.0689856  0.4563048  0.48028855 0.27372017 0.91451609 0.3873325\n",
            "  0.04441904 0.98903642 0.75473661 0.89809556 0.70564273 0.6180416\n",
            "  0.69545856 0.55961238 0.34402285 0.41785355 0.31280874 0.49594463\n",
            "  0.73199758 0.5975452  0.58493665 0.71262325 0.56550176 0.53813563\n",
            "  0.06839208 0.56788554 0.76697958 0.89069925 0.64718792 0.97630604\n",
            "  0.91865481 0.2478547  0.21091347 1.06408033 0.31039438 0.32777492\n",
            "  0.32857705 0.91315421 0.02637408 0.55581248 0.61035843 0.21058325\n",
            "  0.29862767 1.0261643  0.53270774 0.57200739 0.6919108  0.22285315\n",
            "  0.54583792 0.22941843 0.28825973 1.08750947 0.82732897 0.96456328\n",
            "  0.83766635 0.30426717 0.73454607 0.59048691 0.10615179 0.85473754\n",
            "  0.79284861 0.2973785  1.02562585 1.03263806]\n",
            " [0.32708858 0.35060899 0.61740379 0.23810256 0.41066635 0.59789919\n",
            "  0.41937857 0.39283772 0.         0.35280774 0.16226774 0.18691278\n",
            "  0.2395708  0.15922042 0.11591281 0.17827819 0.42036452 0.26852793\n",
            "  0.50000357 0.69545758 0.41848224 0.41888542 0.38248672 0.19448033\n",
            "  0.28530904 0.51841394 0.24030404 0.53849789 0.3462586  0.45166477\n",
            "  0.49986121 0.49210295 0.37894491 0.17554873 0.16725213 0.34539521\n",
            "  0.38596244 0.21705439 0.24497211 0.13053135 0.57851897 0.44866718\n",
            "  0.35019599 0.63391649 0.42091036 0.51056062 0.49353792 0.22540514\n",
            "  0.39650622 0.1751447  0.23556187 0.43112351 0.09285055 0.15299209\n",
            "  0.44805001 0.2359261  0.2041386  0.44549824 0.29966275 0.54817051\n",
            "  0.39059638 0.52459785 0.43809877 0.53778105 0.35557658 0.69190864\n",
            "  0.58692666 0.33971711 0.26197893 0.74568263 0.31026894 0.23638091\n",
            "  0.45310123 0.52968903 0.36835168 0.48358314 0.22727254 0.38121822\n",
            "  0.375895   0.68426662 0.3772106  0.2802687  0.34245173 0.36406326\n",
            "  0.2396839  0.45608165 0.3340534  0.78294321 0.44268265 0.68204168\n",
            "  0.45502678 0.3427896  0.34326726 0.20422001 0.39784328 0.51010165\n",
            "  0.45541536 0.46204357 0.67627552 0.69032545]\n",
            " [0.50599031 0.13970157 0.85986333 0.3999765  0.1428817  0.74318996\n",
            "  0.21533681 0.1044367  0.35280774 0.         0.51459346 0.19416611\n",
            "  0.58292104 0.46120778 0.37542989 0.18625472 0.23743589 0.31590456\n",
            "  0.85276661 0.95681455 0.70339563 0.52476758 0.34704807 0.19729229\n",
            "  0.51661326 0.85927981 0.35821292 0.76714248 0.69491397 0.76794489\n",
            "  0.75647463 0.83916474 0.6938287  0.25723652 0.5185393  0.46483992\n",
            "  0.16314757 0.37168888 0.4928697  0.22306444 0.83245344 0.46194903\n",
            "  0.10278432 0.91191571 0.67482473 0.83960769 0.60698535 0.57149798\n",
            "  0.70071335 0.52720961 0.25190247 0.48456166 0.29016471 0.42926594\n",
            "  0.74283614 0.57777308 0.52703299 0.72795508 0.47802651 0.43564454\n",
            "  0.04925026 0.46361469 0.76349876 0.87862568 0.65330244 0.88299228\n",
            "  0.91601024 0.31240455 0.12059157 0.97617321 0.36113709 0.35616372\n",
            "  0.23075522 0.88240948 0.08561268 0.45144705 0.57926155 0.29042503\n",
            "  0.19457359 0.9444635  0.56915988 0.57515353 0.67908624 0.29668322\n",
            "  0.54345949 0.32445207 0.34761625 0.99663805 0.76697991 0.87107585\n",
            "  0.80757077 0.20004673 0.69461995 0.53597107 0.2009472  0.84608385\n",
            "  0.78645489 0.38595585 1.01615603 0.95099377]\n",
            " [0.36315986 0.49949441 0.56233776 0.31599806 0.5618438  0.60776776\n",
            "  0.57009967 0.54797991 0.16226774 0.51459346 0.         0.33886444\n",
            "  0.11824503 0.13747902 0.18675853 0.33936311 0.55495724 0.38694687\n",
            "  0.33928977 0.62097085 0.34866061 0.44770669 0.48153811 0.35102806\n",
            "  0.26755208 0.36310853 0.31919239 0.50105233 0.1981212  0.34423263\n",
            "  0.44502355 0.34263263 0.255624   0.30704959 0.04250273 0.41069387\n",
            "  0.53235701 0.30845999 0.22939704 0.29279787 0.51793167 0.51617302\n",
            "  0.50421698 0.54988481 0.37941885 0.38425558 0.53351162 0.09966355\n",
            "  0.28241023 0.01329168 0.37449291 0.48392723 0.2355408  0.19344526\n",
            "  0.33747089 0.09421044 0.144167   0.34625979 0.34443151 0.66907065\n",
            "  0.55104462 0.63234024 0.29918114 0.38224816 0.25409082 0.66613185\n",
            "  0.4397422  0.44569452 0.42282478 0.69057142 0.39424287 0.31614361\n",
            "  0.60425839 0.36790636 0.5246085  0.58648042 0.06507478 0.49824656\n",
            "  0.52706849 0.61130145 0.36237093 0.19977515 0.19696795 0.47747826\n",
            "  0.16269696 0.57327338 0.42648966 0.73697386 0.32639266 0.65828553\n",
            "  0.29297738 0.49194974 0.18843283 0.12620887 0.53809196 0.35894774\n",
            "  0.31025498 0.56124797 0.5201562  0.61665187]\n",
            " [0.44807385 0.1637     0.7780857  0.33954023 0.22419109 0.71534828\n",
            "  0.34298345 0.20917382 0.18691278 0.19416611 0.33886444 0.\n",
            "  0.42643376 0.26838925 0.18214429 0.11784933 0.24036652 0.30491175\n",
            "  0.67741226 0.86425659 0.59220395 0.37186023 0.24898101 0.1571855\n",
            "  0.32712765 0.66909423 0.18308011 0.69205913 0.53126384 0.63554603\n",
            "  0.66418637 0.67730859 0.49992784 0.06800692 0.35179859 0.43601905\n",
            "  0.1993523  0.31017389 0.30052508 0.09357354 0.74311948 0.34769523\n",
            "  0.16535721 0.80793357 0.5823495  0.69700167 0.59141832 0.41196929\n",
            "  0.5065506  0.35044665 0.2401255  0.35175351 0.10369066 0.31125012\n",
            "  0.54905635 0.39073882 0.38698966 0.53507778 0.41803332 0.53209393\n",
            "  0.22014254 0.53412393 0.57027137 0.68834134 0.45918452 0.83237771\n",
            "  0.72280378 0.20349309 0.16133754 0.90334317 0.21527564 0.18004184\n",
            "  0.37120805 0.70425141 0.1863048  0.50530704 0.40121354 0.22322559\n",
            "  0.30413494 0.85253405 0.39003376 0.38098761 0.48869053 0.21300427\n",
            "  0.34962177 0.29214516 0.21960474 0.93431209 0.62821169 0.82143523\n",
            "  0.62878829 0.28437604 0.52590312 0.38959602 0.21403961 0.65443277\n",
            "  0.59399051 0.31906583 0.82503824 0.85882518]\n",
            " [0.30532376 0.59009181 0.44865059 0.29523762 0.6502077  0.51913142\n",
            "  0.59801387 0.63159114 0.2395708  0.58292104 0.11824503 0.42643376\n",
            "  0.         0.25572405 0.2978177  0.39807509 0.65571451 0.3891703\n",
            "  0.28609503 0.50341792 0.23462194 0.5654804  0.59442156 0.39866074\n",
            "  0.38281551 0.36952569 0.43389839 0.39390465 0.11472017 0.22683127\n",
            "  0.33316352 0.25632422 0.32357612 0.40691805 0.08271289 0.36827168\n",
            "  0.62515344 0.29920168 0.34601968 0.36151797 0.40337685 0.63376822\n",
            "  0.5894054  0.43175424 0.27474752 0.27389652 0.46518831 0.01858963\n",
            "  0.35607129 0.11632418 0.3976012  0.60211731 0.32801821 0.18194227\n",
            "  0.40962575 0.17621396 0.07879321 0.42644325 0.29507684 0.65780955\n",
            "  0.62437609 0.6100109  0.34375372 0.38673074 0.33995554 0.56030952\n",
            "  0.46051684 0.55658158 0.47720641 0.57586025 0.50917062 0.43065738\n",
            "  0.63187002 0.32179652 0.60668531 0.56178233 0.11014919 0.60626434\n",
            "  0.55715417 0.4939478  0.4757705  0.30238387 0.24492795 0.58651331\n",
            "  0.27067575 0.68171714 0.54026078 0.62412257 0.21102086 0.55333164\n",
            "  0.25501332 0.52037129 0.12363386 0.05801204 0.63539962 0.37634842\n",
            "  0.3437145  0.67461717 0.51645099 0.49919962]\n",
            " [0.46038386 0.4121072  0.69641471 0.38694193 0.47565376 0.7215389\n",
            "  0.56760989 0.46980105 0.15922042 0.46120778 0.13747902 0.26838925\n",
            "  0.25572405 0.         0.08633468 0.31613442 0.44862488 0.42758034\n",
            "  0.43473076 0.75791038 0.48378397 0.3112354  0.35468138 0.34177772\n",
            "  0.13997642 0.4019807  0.19129164 0.63061453 0.3236639  0.48125518\n",
            "  0.57826703 0.4611784  0.23403559 0.21565908 0.17637048 0.492135\n",
            "  0.44002985 0.36987026 0.09881212 0.26186295 0.65276481 0.37994606\n",
            "  0.42546547 0.68727806 0.5086304  0.51698441 0.63171888 0.23714197\n",
            "  0.24548916 0.14074171 0.39319929 0.34655597 0.17325836 0.27852034\n",
            "  0.29395355 0.13513536 0.26995656 0.2881932  0.43640216 0.70717286\n",
            "  0.48839234 0.68350548 0.30230449 0.42108835 0.20110202 0.79356563\n",
            "  0.45480347 0.32335533 0.39620166 0.82518404 0.26429805 0.18884124\n",
            "  0.60043179 0.45555497 0.44984203 0.64188108 0.17383004 0.3803443\n",
            "  0.5243662  0.74809083 0.23660233 0.12319276 0.22212481 0.35809296\n",
            "  0.08504094 0.45335519 0.29858459 0.86996875 0.46236851 0.78505197\n",
            "  0.38107165 0.4936108  0.30690599 0.2562893  0.43805196 0.38623075\n",
            "  0.32560239 0.43270338 0.55700655 0.75351505]\n",
            " [0.44211717 0.32791353 0.71587666 0.35370479 0.39146208 0.71178105\n",
            "  0.49221222 0.38424656 0.11591281 0.37542989 0.18675853 0.18214429\n",
            "  0.2978177  0.08633468 0.         0.23942245 0.37167345 0.37443979\n",
            "  0.51141178 0.7867287  0.50885689 0.3041294  0.29660681 0.26924603\n",
            "  0.17636543 0.48803792 0.13804843 0.64201623 0.38441723 0.52361285\n",
            "  0.59727043 0.52745341 0.3185949  0.13074928 0.21518696 0.46105264\n",
            "  0.35724801 0.33170437 0.13900921 0.18501733 0.67462924 0.34487354\n",
            "  0.33985178 0.72034738 0.52168239 0.56979588 0.60938209 0.28012068\n",
            "  0.32733015 0.19506422 0.3305581  0.32167859 0.09131148 0.26413425\n",
            "  0.37286953 0.21497714 0.28920401 0.36290529 0.41511894 0.64623503\n",
            "  0.40207094 0.62945047 0.38819809 0.50719263 0.28103709 0.79967135\n",
            "  0.54073498 0.25931285 0.31614633 0.844956   0.21290439 0.134523\n",
            "  0.52421107 0.53471792 0.36388468 0.59081198 0.23963046 0.31153802\n",
            "  0.44950907 0.77613705 0.2639686  0.20216535 0.30788719 0.29072199\n",
            "  0.16826324 0.38651591 0.24273933 0.88548152 0.50883844 0.79024094\n",
            "  0.45950253 0.42084023 0.37228265 0.28162546 0.35800956 0.4725611\n",
            "  0.41187844 0.37683882 0.64331734 0.78192378]\n",
            " [0.34777357 0.23652239 0.69232895 0.23764276 0.28283253 0.60793084\n",
            "  0.25279289 0.25405414 0.17827819 0.18625472 0.33936311 0.11784933\n",
            "  0.39807509 0.31613442 0.23942245 0.         0.33273134 0.18831342\n",
            "  0.67311272 0.78474584 0.52289476 0.48324958 0.36578288 0.03940191\n",
            "  0.40976583 0.69629209 0.28999537 0.60238548 0.51116628 0.58279431\n",
            "  0.58340114 0.65437573 0.54818011 0.17395483 0.33780806 0.32572009\n",
            "  0.27418519 0.20772172 0.37612285 0.0545203  0.66118642 0.46547497\n",
            "  0.21953482 0.73499547 0.50100788 0.65350043 0.4798918  0.38746222\n",
            "  0.56154586 0.35246376 0.12237327 0.46803113 0.14896962 0.24444388\n",
            "  0.60977563 0.41328737 0.34077853 0.60171895 0.31799477 0.42134157\n",
            "  0.23085461 0.41844237 0.61172942 0.71567773 0.51706862 0.733172\n",
            "  0.76233023 0.32058975 0.08370145 0.81384805 0.33144975 0.28646777\n",
            "  0.28495427 0.7044044  0.22768215 0.38813396 0.40440906 0.33446626\n",
            "  0.21013582 0.77261741 0.48556359 0.4385694  0.51899283 0.32701989\n",
            "  0.4011494  0.39806292 0.33738129 0.84028311 0.58106942 0.72180443\n",
            "  0.63052349 0.18267797 0.51268495 0.34995174 0.30018576 0.6870421\n",
            "  0.63089852 0.4330085  0.85416362 0.77907111]\n",
            " [0.67988673 0.10369881 1.01738079 0.56982293 0.10614552 0.9398165\n",
            "  0.4527687  0.14030268 0.42036452 0.23743589 0.55495724 0.24036652\n",
            "  0.65571451 0.44862488 0.37167345 0.33273134 0.         0.51306105\n",
            "  0.8823312  1.10452852 0.83236882 0.36035286 0.15612484 0.36556703\n",
            "  0.43477986 0.83863186 0.27071296 0.93009993 0.75281952 0.87201894\n",
            "  0.90421756 0.89754101 0.64932322 0.24901066 0.57630219 0.65702072\n",
            "  0.07429861 0.53990596 0.4298061  0.3300333  0.98307761 0.26148896\n",
            "  0.13659483 1.04819083 0.82220568 0.92922368 0.80929189 0.63973274\n",
            "  0.64408415 0.56461483 0.44427932 0.30005809 0.32849052 0.5516117\n",
            "  0.67225931 0.58348277 0.62401576 0.64771171 0.64995416 0.67270894\n",
            "  0.20848506 0.69717643 0.72482277 0.85684433 0.59643696 1.06547307\n",
            "  0.87185659 0.1496928  0.31924875 1.14169968 0.22356631 0.27145545\n",
            "  0.46695342 0.90412556 0.15235225 0.68065469 0.61106676 0.09261637\n",
            "  0.43030607 1.0927729  0.44758665 0.52854404 0.66455412 0.11357482\n",
            "  0.51116857 0.08917845 0.19142575 1.17076863 0.86266683 1.05419393\n",
            "  0.82942312 0.43030707 0.74280082 0.62453429 0.03679383 0.81715146\n",
            "  0.75381369 0.1600349  0.98586227 1.09907848]\n",
            " [0.19617255 0.41164241 0.55098329 0.10727382 0.44591943 0.42984206\n",
            "  0.22332778 0.41094905 0.26852793 0.31590456 0.38694687 0.30491175\n",
            "  0.3891703  0.42758034 0.37443979 0.18831342 0.51306105 0.\n",
            "  0.67412674 0.65188225 0.422033   0.65632203 0.55373804 0.15048442\n",
            "  0.5502392  0.74454864 0.46270049 0.45688736 0.50014726 0.50819039\n",
            "  0.45594486 0.62629312 0.63571128 0.35294441 0.36435917 0.1489949\n",
            "  0.44769242 0.09177743 0.51115882 0.21958526 0.52796683 0.65067792\n",
            "  0.38670162 0.61539418 0.37785772 0.59039411 0.29658752 0.38693411\n",
            "  0.65740253 0.39952259 0.06878203 0.64917195 0.30041537 0.20774442\n",
            "  0.71078395 0.47893954 0.31240677 0.71123495 0.1714589  0.2832453\n",
            "  0.36501987 0.25612071 0.68565865 0.76313882 0.61967577 0.56708774\n",
            "  0.82587532 0.50835808 0.20007002 0.66294363 0.51356989 0.45886569\n",
            "  0.25475279 0.71059647 0.3859316  0.2163722  0.44400241 0.52232866\n",
            "  0.18979485 0.63937233 0.63774626 0.54689972 0.58388576 0.51531077\n",
            "  0.50570642 0.58387254 0.52292502 0.6812937  0.51672338 0.55517406\n",
            "  0.6439232  0.15491635 0.51271517 0.33131542 0.47836846 0.74384721\n",
            "  0.69714156 0.62124185 0.89843659 0.645934  ]\n",
            " [0.56162433 0.83585691 0.53779402 0.57602365 0.89885173 0.7039302\n",
            "  0.88389834 0.88656359 0.50000357 0.85276661 0.33928977 0.67741226\n",
            "  0.28609503 0.43473076 0.51141178 0.67311272 0.8823312  0.67412674\n",
            "  0.         0.53562571 0.37692482 0.6847932  0.78479462 0.67886808\n",
            "  0.50060444 0.18249088 0.62358739 0.53236643 0.17423065 0.28007062\n",
            "  0.45916294 0.10715125 0.30998346 0.64002363 0.33530648 0.63356847\n",
            "  0.86722942 0.58316778 0.48167356 0.62993028 0.49348453 0.78692782\n",
            "  0.84256125 0.45791604 0.44925944 0.22949536 0.69482917 0.29146124\n",
            "  0.34076309 0.32724782 0.68343332 0.74268892 0.5737549  0.46781998\n",
            "  0.36905352 0.29964833 0.36172037 0.40271095 0.55983186 0.9352393\n",
            "  0.89014638 0.88176649 0.26249705 0.18765423 0.36397958 0.68212633\n",
            "  0.27484093 0.75676842 0.75513975 0.63782521 0.69290764 0.62155738\n",
            "  0.91781704 0.03911672 0.86353598 0.83296802 0.27620559 0.81476504\n",
            "  0.84275307 0.53193833 0.56473758 0.38981006 0.24366667 0.79227198\n",
            "  0.38785699 0.8869443  0.7286429  0.69721819 0.24852301 0.67991509\n",
            "  0.05667552 0.80606716 0.16305564 0.34327897 0.86941086 0.21238681\n",
            "  0.23569475 0.85971127 0.27072967 0.53430609]\n",
            " [0.45571201 1.01780195 0.10649547 0.55713368 1.06750315 0.33918072\n",
            "  0.86009076 1.03834632 0.69545758 0.95681455 0.62097085 0.86425659\n",
            "  0.50341792 0.75791038 0.7867287  0.78474584 1.10452852 0.65188225\n",
            "  0.53562571 0.         0.2780471  1.06867638 1.07703023 0.76253684\n",
            "  0.8857422  0.71592899 0.92466281 0.19929614 0.47729387 0.29091576\n",
            "  0.20135097 0.42892142 0.78205351 0.86989113 0.58164309 0.51484881\n",
            "  1.05557355 0.58513047 0.84941614 0.77565406 0.12440481 1.13071465\n",
            "  1.00406902 0.07885955 0.28376836 0.3075593  0.4377617  0.52192991\n",
            "  0.81715599 0.61973902 0.70769155 1.10254981 0.78718499 0.5531371\n",
            "  0.86224355 0.66924597 0.4976086  0.88890576 0.48134767 0.77628659\n",
            "  1.00562291 0.70287512 0.76627225 0.72285416 0.81722908 0.21217463\n",
            "  0.8103817  1.03497951 0.83622514 0.10788104 0.99894906 0.92105984\n",
            "  0.88531441 0.56520417 1.01199393 0.66392168 0.60436958 1.07580999\n",
            "  0.8353822  0.0125393  0.9771418  0.7977434  0.69685022 1.05931885\n",
            "  0.77061139 1.14996178 1.0264014  0.16846505 0.31926677 0.21834593\n",
            "  0.56589345 0.80372521 0.50688562 0.50578703 1.07649189 0.74269815\n",
            "  0.74860755 1.15702634 0.79068772 0.00601727]\n",
            " [0.24203143 0.74995045 0.21408287 0.31633928 0.80298244 0.32735706\n",
            "  0.64415813 0.77643756 0.41848224 0.70339563 0.34866061 0.59220395\n",
            "  0.23462194 0.48378397 0.50885689 0.52289476 0.83236882 0.422033\n",
            "  0.37692482 0.2780471  0.         0.79500658 0.79924718 0.50614063\n",
            "  0.61601034 0.53028389 0.64671165 0.16732699 0.24689854 0.10882759\n",
            "  0.09977364 0.28319421 0.54312845 0.59362563 0.30771845 0.31717595\n",
            "  0.78743223 0.33971619 0.57804366 0.50689958 0.16927357 0.85322033\n",
            "  0.73946976 0.21595385 0.07461683 0.19347182 0.3292734  0.25243892\n",
            "  0.5775052  0.34914438 0.46522015 0.8261488  0.51078134 0.28202146\n",
            "  0.62809365 0.40896842 0.21965711 0.64956642 0.25685164 0.62180101\n",
            "  0.75088895 0.55644115 0.54544479 0.54283839 0.56826772 0.33214188\n",
            "  0.62837461 0.75749683 0.58410674 0.34192005 0.72091869 0.64309333\n",
            "  0.67407094 0.41516149 0.75011932 0.50922516 0.34250692 0.79955145\n",
            "  0.6118253  0.26731649 0.7099152  0.53652787 0.45880442 0.78254387\n",
            "  0.50529334 0.87414686 0.74839302 0.38950202 0.13429081 0.32658647\n",
            "  0.38147079 0.57660853 0.27721427 0.22883553 0.8059134  0.54880054\n",
            "  0.53585047 0.8793453  0.64693908 0.27315477]\n",
            " [0.74592346 0.40245815 1.00733055 0.65365671 0.44864477 1.01590719\n",
            "  0.71131557 0.46807966 0.41888542 0.52476758 0.44770669 0.37186023\n",
            "  0.5654804  0.3112354  0.3041294  0.48324958 0.36035286 0.65632203\n",
            "  0.6847932  1.06867638 0.79500658 0.         0.20426755 0.52174481\n",
            "  0.18944942 0.57866239 0.19410624 0.93928245 0.61761027 0.78815383\n",
            "  0.88897452 0.73975938 0.3864767  0.30935447 0.48753586 0.76060803\n",
            "  0.40484521 0.62938255 0.22081925 0.43926829 0.96390957 0.12447687\n",
            "  0.43614204 0.99712608 0.81759002 0.81483462 0.91165995 0.54691702\n",
            "  0.36560465 0.44923477 0.59977183 0.07225415 0.35731013 0.56808009\n",
            "  0.37107447 0.41302023 0.57954817 0.33825396 0.71852639 0.90338265\n",
            "  0.52270524 0.90109686 0.45650457 0.59343631 0.32796037 1.10009706\n",
            "  0.58017422 0.22041735 0.53203774 1.13622525 0.16388355 0.19784216\n",
            "  0.73712669 0.69295984 0.46355115 0.86835316 0.47141243 0.26825574\n",
            "  0.6743933  1.05899529 0.12579141 0.29670026 0.44114048 0.24983881\n",
            "  0.30930929 0.3023382  0.1799799  1.18027948 0.76685451 1.09106882\n",
            "  0.62815599 0.65615297 0.59494378 0.56705355 0.37716071 0.54912915\n",
            "  0.48913674 0.23661277 0.70139221 1.0643567 ]\n",
            " [0.68901613 0.21191781 0.9998194  0.58331866 0.24909837 0.95958929\n",
            "  0.5527567  0.27336998 0.38248672 0.34704807 0.48153811 0.24898101\n",
            "  0.59442156 0.35468138 0.29660681 0.36578288 0.15612484 0.55373804\n",
            "  0.78479462 1.07703023 0.79924718 0.20426755 0.         0.40463073\n",
            "  0.30299114 0.71716474 0.16352975 0.91950775 0.67663364 0.81999665\n",
            "  0.88234523 0.8158376  0.52303045 0.21409657 0.51176662 0.68329049\n",
            "  0.20636072 0.55479146 0.30841724 0.33935407 0.9609635  0.11512243\n",
            "  0.24850551 1.01333784 0.80317918 0.86570005 0.83884404 0.57667875\n",
            "  0.51258778 0.48848038 0.48802709 0.1456884  0.29347757 0.53215324\n",
            "  0.53418368 0.48698555 0.58081678 0.50667881 0.65927369 0.76241118\n",
            "  0.33457576 0.77379572 0.59847066 0.7344072  0.46674643 1.06839047\n",
            "  0.73957434 0.04570646 0.38750409 1.12789489 0.09197266 0.16620489\n",
            "  0.57367353 0.80175185 0.27391552 0.74884194 0.52775661 0.06482843\n",
            "  0.52165654 1.06600941 0.29842758 0.40755736 0.55218993 0.05088509\n",
            "  0.39910552 0.10909537 0.0562407  1.16389463 0.80544082 1.05796015\n",
            "  0.72943895 0.51155953 0.6612864  0.57572611 0.17518307 0.69250026\n",
            "  0.62927016 0.08039788 0.857206   1.07199399]\n",
            " [0.31873012 0.26657292 0.66789263 0.20925    0.30817968 0.57425733\n",
            "  0.22622317 0.27672411 0.19448033 0.19729229 0.35102806 0.1571855\n",
            "  0.39866074 0.34177772 0.26924603 0.03940191 0.36556703 0.15048442\n",
            "  0.67886808 0.76253684 0.50614063 0.52174481 0.40463073 0.\n",
            "  0.44246004 0.71195104 0.32811945 0.57665276 0.51300017 0.5720523\n",
            "  0.56151256 0.65392967 0.57101209 0.21269927 0.34475215 0.29145686\n",
            "  0.30373289 0.17968946 0.40750657 0.08631963 0.6384454  0.50485197\n",
            "  0.24593209 0.71556725 0.4794213  0.64570531 0.44444108 0.38962673\n",
            "  0.5861586  0.36429358 0.08341361 0.50733138 0.1809314  0.23394339\n",
            "  0.63567368 0.43022229 0.33590517 0.62926468 0.28939981 0.38423752\n",
            "  0.24485117 0.37953258 0.63216976 0.73127268 0.54278452 0.70294341\n",
            "  0.78139643 0.35956134 0.08012869 0.78752498 0.37076787 0.32453273\n",
            "  0.25951588 0.71142906 0.25052523 0.34879986 0.41555307 0.37185505\n",
            "  0.18281956 0.75028449 0.52076536 0.46489896 0.53690476 0.36512647\n",
            "  0.42633783 0.43387098 0.37675722 0.81203496 0.5724576  0.69141504\n",
            "  0.63856746 0.15202478 0.51686161 0.34738696 0.33193008 0.70440012\n",
            "  0.6498786  0.47092543 0.86969026 0.75678274]\n",
            " [0.59935056 0.43123981 0.82984616 0.52127563 0.49130205 0.86151425\n",
            "  0.66072683 0.49648478 0.28530904 0.51661326 0.26755208 0.32712765\n",
            "  0.38281551 0.13997642 0.17636543 0.40976583 0.43477986 0.5502392\n",
            "  0.50060444 0.8857422  0.61601034 0.18944942 0.30299114 0.44246004\n",
            "  0.         0.41491521 0.16871387 0.76747518 0.42845644 0.6016828\n",
            "  0.71255933 0.55096903 0.22017932 0.26031045 0.309299   0.62776532\n",
            "  0.44962345 0.5018878  0.04150201 0.35653644 0.78526727 0.2866332\n",
            "  0.45491197 0.81264329 0.64553156 0.62572551 0.77023639 0.36447633\n",
            "  0.210346   0.26696429 0.5067589  0.24225981 0.26154094 0.41738973\n",
            "  0.23812664 0.22380473 0.40728841 0.21635886 0.57470868 0.82230731\n",
            "  0.53218124 0.80565645 0.29550432 0.43184816 0.16383845 0.93150331\n",
            "  0.43814616 0.28811997 0.48026186 0.95791427 0.21474106 0.16923478\n",
            "  0.69147893 0.51199168 0.48227748 0.76653807 0.28382324 0.34932174\n",
            "  0.61896161 0.87648574 0.09666559 0.11096775 0.25861924 0.32597764\n",
            "  0.11988559 0.41166279 0.25053369 1.00451919 0.57932892 0.92323291\n",
            "  0.44398138 0.5924375  0.40551531 0.39196351 0.43581016 0.38961055\n",
            "  0.32649085 0.3694321  0.55458573 0.88164239]\n",
            " [0.67336283 0.81285082 0.7105958  0.66027668 0.87622367 0.85510532\n",
            "  0.93310635 0.87166226 0.51841394 0.85927981 0.36310853 0.66909423\n",
            "  0.36952569 0.4019807  0.48803792 0.69629209 0.83863186 0.74454864\n",
            "  0.18249088 0.71592899 0.53028389 0.57866239 0.71716474 0.71195104\n",
            "  0.41491521 0.         0.56828989 0.69417636 0.28928319 0.4465478\n",
            "  0.62158477 0.28734437 0.19521404 0.61744403 0.38035456 0.73779485\n",
            "  0.83896995 0.65953713 0.41053973 0.64568472 0.66497394 0.69408232\n",
            "  0.82737011 0.63762907 0.59706378 0.40845236 0.82544952 0.36550502\n",
            "  0.21306126 0.34987596 0.73721574 0.64488179 0.56915412 0.53962523\n",
            "  0.21913622 0.28318382 0.44722624 0.25510226 0.66447633 1.0221593\n",
            "  0.8891741  0.97788201 0.12217614 0.019401   0.25340668 0.8511656\n",
            "  0.09816877 0.6982073  0.77988938 0.8162895  0.6270063  0.56734099\n",
            "  0.967242   0.16168575 0.85182078 0.9300318  0.30151085 0.75915923\n",
            "  0.88998918 0.71166541 0.45298712 0.31090796 0.18041141 0.73578861\n",
            "  0.32843345 0.82510938 0.66330685 0.87493316 0.41436532 0.84784795\n",
            "  0.15234977 0.85501983 0.26229872 0.42499987 0.8331214  0.03428475\n",
            "  0.08964863 0.78416351 0.15787365 0.71433542]\n",
            " [0.56413843 0.26294854 0.85262251 0.46635149 0.32260112 0.8361214\n",
            "  0.52602426 0.32874442 0.24030404 0.35821292 0.31919239 0.18308011\n",
            "  0.43389839 0.19129164 0.13804843 0.28999537 0.27071296 0.46270049\n",
            "  0.62358739 0.92466281 0.64671165 0.19410624 0.16352975 0.32811945\n",
            "  0.16871387 0.56828989 0.         0.77687584 0.51325536 0.66044096\n",
            "  0.73416347 0.65235725 0.37871748 0.11708528 0.35122202 0.57220317\n",
            "  0.28096264 0.44061426 0.15922981 0.24516323 0.81187777 0.2087638\n",
            "  0.28812969 0.85838685 0.65749615 0.70341131 0.72546635 0.41585051\n",
            "  0.37468776 0.32563272 0.40566696 0.19224285 0.16619373 0.39327685\n",
            "  0.40641415 0.32460178 0.42706534 0.3850202  0.53559896 0.71107619\n",
            "  0.36840372 0.70717619 0.45415159 0.58637654 0.32668594 0.93202146\n",
            "  0.60197194 0.1332832  0.34437995 0.9815703  0.07527462 0.00398765\n",
            "  0.55389786 0.64209093 0.31583988 0.67424752 0.3642327  0.19258836\n",
            "  0.48714553 0.91402265 0.21105058 0.25785453 0.39642441 0.1695672\n",
            "  0.24236402 0.26340343 0.10768325 1.02095661 0.64461011 0.92223333\n",
            "  0.56880999 0.46634742 0.49775724 0.4196675  0.26847211 0.54646216\n",
            "  0.48310986 0.24238658 0.7152209  0.91983283]\n",
            " [0.2615897  0.83838533 0.09455875 0.36790552 0.88443698 0.18405462\n",
            "  0.661356   0.8533598  0.53849789 0.76714248 0.50105233 0.69205913\n",
            "  0.39390465 0.63061453 0.64201623 0.60238548 0.93009993 0.45688736\n",
            "  0.53236643 0.19929614 0.16732699 0.93928245 0.91950775 0.57665276\n",
            "  0.76747518 0.69417636 0.77687584 0.         0.41396819 0.252358\n",
            "  0.07321371 0.43091878 0.7093357  0.70698758 0.45873515 0.31641122\n",
            "  0.87617395 0.3970901  0.72791023 0.60022563 0.08481955 0.9856045\n",
            "  0.82155572 0.18658616 0.12199979 0.31936756 0.24658224 0.41057112\n",
            "  0.74346856 0.5036392  0.51583371 0.96357393 0.62605965 0.38736065\n",
            "  0.7946388  0.57008378 0.36066702 0.81531744 0.28911824 0.58159205\n",
            "  0.81629189 0.50905079 0.71276888 0.70584697 0.73224652 0.16648728\n",
            "  0.79233875 0.87556152 0.64697507 0.21166078 0.84851514 0.77304874\n",
            "  0.6862173  0.56912206 0.82717765 0.46807704 0.50379742 0.91067503\n",
            "  0.63761036 0.18683184 0.86312336 0.6956888  0.62545836 0.89620214\n",
            "  0.66206562 0.98288599 0.87242542 0.24447244 0.28386571 0.16001608\n",
            "  0.54339595 0.60670649 0.44439742 0.3755417  0.89993834 0.71407269\n",
            "  0.70291162 0.99801657 0.80292962 0.19328049]\n",
            " [0.39320246 0.69399339 0.44617567 0.40186144 0.75541473 0.56710495\n",
            "  0.71195864 0.7389361  0.3462586  0.69491397 0.1981212  0.53126384\n",
            "  0.11472017 0.3236639  0.38441723 0.51116628 0.75281952 0.50014726\n",
            "  0.17423065 0.47729387 0.24689854 0.61761027 0.67663364 0.51300017\n",
            "  0.42845644 0.28928319 0.51325536 0.41396819 0.         0.18653736\n",
            "  0.34367703 0.14604475 0.30549017 0.50435692 0.17948315 0.46293457\n",
            "  0.72787885 0.40902596 0.39807181 0.47238221 0.39934385 0.70123485\n",
            "  0.69596148 0.39976499 0.30947776 0.19727027 0.53773304 0.12371589\n",
            "  0.34056099 0.18935598 0.51170804 0.66387044 0.42968658 0.2947033\n",
            "  0.38775887 0.20465176 0.1878332  0.4126571  0.38890618 0.7619156\n",
            "  0.73523228 0.70992299 0.29950052 0.30384436 0.34027103 0.57695351\n",
            "  0.38625964 0.64234396 0.59115989 0.56509318 0.58741589 0.51047084\n",
            "  0.74570811 0.21157369 0.71458753 0.66121104 0.14998603 0.69591644\n",
            "  0.6713877  0.46995575 0.51244154 0.32873223 0.2200666  0.67487214\n",
            "  0.30870813 0.77072574 0.62093859 0.6195088  0.15844213 0.57214018\n",
            "  0.15236708 0.63454494 0.03073474 0.17025701 0.73518131 0.30447196\n",
            "  0.288964   0.75557136 0.42261525 0.47416237]\n",
            " [0.3419923  0.79792757 0.26527894 0.40091818 0.85479856 0.42738384\n",
            "  0.73149996 0.8316717  0.45166477 0.76794489 0.34423263 0.63554603\n",
            "  0.22683127 0.48125518 0.52361285 0.58279431 0.87201894 0.50819039\n",
            "  0.28007062 0.29091576 0.10882759 0.78815383 0.81999665 0.5720523\n",
            "  0.6016828  0.4465478  0.66044096 0.252358   0.18653736 0.\n",
            "  0.17919582 0.17951054 0.49184389 0.62563701 0.30930419 0.4181416\n",
            "  0.83449953 0.42026547 0.56740844 0.55807211 0.21903328 0.860367\n",
            "  0.79200897 0.21397133 0.18306165 0.08623275 0.438027   0.24515965\n",
            "  0.52693785 0.34056958 0.54300111 0.82776188 0.54397536 0.33867984\n",
            "  0.5732351  0.38115238 0.24855679 0.59892361 0.35240145 0.72537321\n",
            "  0.81359999 0.66174885 0.48065538 0.45693854 0.52631611 0.4047269\n",
            "  0.54431794 0.78113236 0.6519005  0.37964449 0.73571009 0.65714884\n",
            "  0.76279869 0.31677936 0.80574109 0.61398331 0.31799502 0.82873889\n",
            "  0.69643305 0.28343639 0.69054991 0.50902996 0.40647745 0.80978093\n",
            "  0.48413118 0.90418822 0.7663408  0.43535788 0.0321918  0.40170239\n",
            "  0.29437943 0.66020631 0.21645099 0.2476968  0.84881574 0.46902956\n",
            "  0.46593396 0.90033166 0.55057209 0.28769578]\n",
            " [0.26113612 0.81663545 0.11868227 0.35768898 0.86615219 0.25213158\n",
            "  0.67050017 0.837065   0.49986121 0.75647463 0.44502355 0.66418637\n",
            "  0.33316352 0.57826703 0.59727043 0.58340114 0.90421756 0.45594486\n",
            "  0.45916294 0.20135097 0.09977364 0.88897452 0.88234523 0.56151256\n",
            "  0.71255933 0.62158477 0.73416347 0.07321371 0.34367703 0.17919582\n",
            "  0.         0.35804268 0.64258656 0.67262342 0.40335915 0.32744021\n",
            "  0.85442359 0.38506519 0.67393765 0.57482726 0.07902486 0.94212423\n",
            "  0.80272013 0.16001336 0.08242569 0.2484967  0.29110472 0.35064532\n",
            "  0.67704689 0.44632256 0.50887437 0.91725822 0.59033407 0.35376104\n",
            "  0.7273459  0.50829933 0.3098696  0.74915789 0.28448829 0.61416177\n",
            "  0.8051256  0.54383883 0.64307697 0.6330516  0.66803797 0.23337487\n",
            "  0.71972335 0.83941874 0.63590653 0.24783103 0.80734923 0.73043671\n",
            "  0.697724   0.49597499 0.81070699 0.49978343 0.44181909 0.87813894\n",
            "  0.64284295 0.18926562 0.80717916 0.63548004 0.55804489 0.86235223\n",
            "  0.60353122 0.95172609 0.8331915  0.29196841 0.21065439 0.22847195\n",
            "  0.47050874 0.60978071 0.37429259 0.32199914 0.87574928 0.64194027\n",
            "  0.63225813 0.96184349 0.72975224 0.19569794]\n",
            " [0.4907155  0.83998757 0.4315562  0.52257531 0.90145702 0.60679824\n",
            "  0.8442586  0.88488188 0.49210295 0.83916474 0.34263263 0.67730859\n",
            "  0.25632422 0.4611784  0.52745341 0.65437573 0.89754101 0.62629312\n",
            "  0.10715125 0.42892142 0.28319421 0.73975938 0.8158376  0.65392967\n",
            "  0.55096903 0.28734437 0.65235725 0.43091878 0.14604475 0.17951054\n",
            "  0.35804268 0.         0.38629081 0.64958163 0.32552225 0.56554347\n",
            "  0.87375541 0.53454525 0.52548562 0.61724454 0.3877952  0.83224191\n",
            "  0.84196964 0.35097351 0.35744017 0.12234488 0.60939173 0.26790245\n",
            "  0.41985429 0.33297632 0.64565404 0.79171938 0.57562945 0.42778016\n",
            "  0.45582187 0.3321978  0.32049573 0.48718426 0.49363195 0.87242781\n",
            "  0.88020073 0.81423214 0.35200473 0.29393274 0.43427919 0.57686652\n",
            "  0.38150608 0.78331639 0.73299722 0.5307069  0.72533703 0.64979895\n",
            "  0.87746703 0.14020839 0.86045394 0.76554577 0.2887086  0.83825473\n",
            "  0.80506816 0.42502273 0.62603436 0.44363447 0.30826891 0.81677401\n",
            "  0.43224293 0.91257323 0.75976242 0.59006784 0.14972877 0.57506412\n",
            "  0.1408531  0.76810939 0.15522379 0.30682125 0.88057046 0.31527925\n",
            "  0.32925709 0.89374773 0.37354542 0.42749013]\n",
            " [0.61493569 0.6320138  0.75007284 0.57129307 0.69460859 0.84270616\n",
            "  0.79715736 0.69380068 0.37894491 0.6938287  0.255624   0.49992784\n",
            "  0.32357612 0.23403559 0.3185949  0.54818011 0.64932322 0.63571128\n",
            "  0.30998346 0.78205351 0.54312845 0.3864767  0.52303045 0.57101209\n",
            "  0.22017932 0.19521404 0.37871748 0.7093357  0.30549017 0.49184389\n",
            "  0.64258656 0.38629081 0.         0.44167074 0.29027116 0.66590666\n",
            "  0.65539035 0.56227222 0.21952008 0.49443376 0.70328153 0.49953727\n",
            "  0.65012406 0.70397533 0.59461622 0.48750068 0.78254176 0.31053192\n",
            "  0.03510365 0.24504258 0.61293949 0.45096747 0.40729049 0.44904344\n",
            "  0.08607088 0.16165212 0.38546867 0.10721067 0.59817469 0.91895635\n",
            "  0.71854901 0.885906   0.07567868 0.21178566 0.05868107 0.87516168\n",
            "  0.22492665 0.50597027 0.62945491 0.87048053 0.43372306 0.378169\n",
            "  0.83052782 0.31156978 0.67593921 0.84075937 0.21762921 0.5671579\n",
            "  0.75369446 0.77502912 0.26181946 0.12210977 0.08543895 0.5437509\n",
            "  0.1503757  0.63144875 0.46986273 0.92438157 0.46279404 0.86927264\n",
            "  0.25529021 0.72136113 0.27539291 0.36350475 0.64641248 0.16946992\n",
            "  0.10632019 0.58907062 0.33654251 0.77909074]\n",
            " [0.47529487 0.19719346 0.78912872 0.37084157 0.26072754 0.74649012\n",
            "  0.41018734 0.25421854 0.17554873 0.25723652 0.30704959 0.06800692\n",
            "  0.40691805 0.21565908 0.13074928 0.17395483 0.24901066 0.35294441\n",
            "  0.64002363 0.86989113 0.59362563 0.30935447 0.21409657 0.21269927\n",
            "  0.26031045 0.61744403 0.11708528 0.70698758 0.50435692 0.62563701\n",
            "  0.67262342 0.64958163 0.44167074 0.         0.32729693 0.47315838\n",
            "  0.22726231 0.34294737 0.23564649 0.13335998 0.75155981 0.29934564\n",
            "  0.20995062 0.80928006 0.59231595 0.68066085 0.628395   0.3907882\n",
            "  0.44587702 0.31725686 0.29251725 0.29632179 0.0828521  0.31995975\n",
            "  0.48629901 0.34552325 0.37935826 0.47076403 0.44566621 0.59434112\n",
            "  0.27744901 0.59223179 0.51385044 0.63648224 0.39798274 0.85442424\n",
            "  0.66602075 0.16917864 0.22814984 0.91648463 0.16071995 0.11378256\n",
            "  0.43884041 0.66439829 0.23485724 0.5607938  0.36540264 0.20596062\n",
            "  0.3706896  0.8585548  0.32208941 0.3208569  0.43778225 0.18973656\n",
            "  0.29243489 0.28058523 0.1734857  0.95111169 0.61499416 0.8439477\n",
            "  0.58901665 0.34931631 0.49541162 0.37797945 0.23104587 0.60071877\n",
            "  0.53909915 0.29126916 0.77162171 0.86467928]\n",
            " [0.32516486 0.51471171 0.52099465 0.28581837 0.57597054 0.56602892\n",
            "  0.5575886  0.55954883 0.16725213 0.5185393  0.04250273 0.35179859\n",
            "  0.08271289 0.17637048 0.21518696 0.33780806 0.57630219 0.36435917\n",
            "  0.33530648 0.58164309 0.30771845 0.48753586 0.51176662 0.34475215\n",
            "  0.309299   0.38035456 0.35122202 0.45873515 0.17948315 0.30930419\n",
            "  0.40335915 0.32552225 0.29027116 0.32729693 0.         0.37617635\n",
            "  0.54888991 0.28137253 0.27060556 0.29547534 0.47689815 0.55200875\n",
            "  0.51649807 0.51163884 0.33702595 0.35531646 0.49442737 0.064946\n",
            "  0.3188155  0.04782295 0.35887627 0.52148776 0.25067056 0.16280074\n",
            "  0.37388124 0.12921942 0.10199375 0.38460762 0.3079042  0.6439911\n",
            "  0.55748619 0.60397619 0.32764237 0.39907024 0.29320273 0.62369055\n",
            "  0.46228592 0.47417397 0.42003245 0.64947318 0.42649647 0.34796784\n",
            "  0.59178223 0.3669237  0.53531967 0.55729954 0.08006491 0.52450057\n",
            "  0.5151519  0.57176472 0.40448606 0.24171644 0.22460799 0.5044912\n",
            "  0.20510178 0.59989293 0.45755101 0.695325   0.29368796 0.61581506\n",
            "  0.29381707 0.4792174  0.1762083  0.08370623 0.55728108 0.37970319\n",
            "  0.33547224 0.5919355  0.53535505 0.57721383]\n",
            " [0.07620316 0.55725918 0.41095239 0.10735298 0.59405967 0.28286397\n",
            "  0.34527264 0.55954052 0.34539521 0.46483992 0.41069387 0.43601905\n",
            "  0.36827168 0.492135   0.46105264 0.32572009 0.65702072 0.1489949\n",
            "  0.63356847 0.51484881 0.31717595 0.76060803 0.68329049 0.29145686\n",
            "  0.62776532 0.73779485 0.57220317 0.31641122 0.46293457 0.4181416\n",
            "  0.32744021 0.56554347 0.66590666 0.47315838 0.37617635 0.\n",
            "  0.59393416 0.13158974 0.58654894 0.34397051 0.39310987 0.77199259\n",
            "  0.53396942 0.48693903 0.25770266 0.50418215 0.15555369 0.37326744\n",
            "  0.69309162 0.42089387 0.21568499 0.76379358 0.40606753 0.21885388\n",
            "  0.74813322 0.50426884 0.29125425 0.75558954 0.07404821 0.3081166\n",
            "  0.51390753 0.24890175 0.7022812  0.75492345 0.66281582 0.41821404\n",
            "  0.82806437 0.63758468 0.34864481 0.51748585 0.6320548  0.56822833\n",
            "  0.37115066 0.67221135 0.53431279 0.20012491 0.45346611 0.6584138\n",
            "  0.32136857 0.50231659 0.72165626 0.59906116 0.59953659 0.64901686\n",
            "  0.55801706 0.7236726  0.64658737 0.53337516 0.43438792 0.40626505\n",
            "  0.61490017 0.29132355 0.48317918 0.31382765 0.62320011 0.74394921\n",
            "  0.70702984 0.75508031 0.88268992 0.50883912]\n",
            " [0.62162161 0.03782067 0.9653245  0.51157998 0.04397783 0.87666996\n",
            "  0.37847435 0.0689856  0.38596244 0.16314757 0.53235701 0.1993523\n",
            "  0.62515344 0.44002985 0.35724801 0.27418519 0.07429861 0.44769242\n",
            "  0.86722942 1.05557355 0.78743223 0.40484521 0.20636072 0.30373289\n",
            "  0.44962345 0.83896995 0.28096264 0.87617395 0.72787885 0.83449953\n",
            "  0.85442359 0.87375541 0.65539035 0.22726231 0.54888991 0.59393416\n",
            "  0.         0.4817006  0.43783733 0.28062075 0.9328369  0.31938736\n",
            "  0.06354091 1.00231764 0.77204705 0.89632768 0.7442669  0.61028285\n",
            "  0.65411857 0.5431124  0.37914756 0.35170142 0.29823813 0.50541421\n",
            "  0.68733409 0.57220913 0.58600489 0.66577626 0.59196416 0.5985547\n",
            "  0.13575496 0.62395149 0.72989425 0.85769777 0.60586737 1.00654425\n",
            "  0.8800565  0.18469043 0.25033744 1.08775794 0.2519474  0.28064202\n",
            "  0.39280283 0.89162341 0.07814844 0.60850375 0.59213401 0.14260586\n",
            "  0.35640531 1.04360715 0.47724348 0.53330949 0.66104133 0.15653524\n",
            "  0.51075743 0.16226447 0.226366   1.11444723 0.82752434 0.99505886\n",
            "  0.81626224 0.35745813 0.72068528 0.58893633 0.03813646 0.81996892\n",
            "  0.7572266  0.22856588 0.99035489 1.04999866]\n",
            " [0.14006534 0.44412946 0.48882543 0.02993018 0.48781253 0.40534244\n",
            "  0.31258029 0.4563048  0.21705439 0.37168888 0.30845999 0.31017389\n",
            "  0.29920168 0.36987026 0.33170437 0.20772172 0.53990596 0.09177743\n",
            "  0.58316778 0.58513047 0.33971619 0.62938255 0.55479146 0.17968946\n",
            "  0.5018878  0.65953713 0.44061426 0.3970901  0.40902596 0.42026547\n",
            "  0.38506519 0.53454525 0.56227222 0.34294737 0.28137253 0.13158974\n",
            "  0.4817006  0.         0.46113072 0.21680829 0.46076458 0.64110654\n",
            "  0.42530485 0.54191315 0.30391586 0.50113755 0.28576409 0.29808425\n",
            "  0.58643237 0.32034936 0.12562133 0.63226201 0.27449235 0.11994163\n",
            "  0.64083051 0.40227676 0.22161015 0.64453488 0.11028038 0.36283381\n",
            "  0.42055211 0.32391418 0.60733779 0.67783822 0.55189591 0.5255912\n",
            "  0.74354785 0.50915026 0.25110549 0.60783746 0.5009837  0.43663915\n",
            "  0.34486473 0.61991929 0.43015717 0.27849215 0.36143485 0.53339934\n",
            "  0.27630698 0.5727755  0.59426412 0.48316132 0.50460967 0.522607\n",
            "  0.44171457 0.60119745 0.51641587 0.6328383  0.42723287 0.51429009\n",
            "  0.55421328 0.23995786 0.42242667 0.24119751 0.50781793 0.66062868\n",
            "  0.61662931 0.62825958 0.81181083 0.57930661]\n",
            " [0.55784862 0.41653478 0.79157733 0.48019721 0.47816718 0.82024587\n",
            "  0.62828692 0.48028855 0.24497211 0.4928697  0.22939704 0.30052508\n",
            "  0.34601968 0.09881212 0.13900921 0.37612285 0.4298061  0.51115882\n",
            "  0.48167356 0.84941614 0.57804366 0.22081925 0.30841724 0.40750657\n",
            "  0.04150201 0.41053973 0.15922981 0.72791023 0.39807181 0.56740844\n",
            "  0.67393765 0.52548562 0.21952008 0.23564649 0.27060556 0.58654894\n",
            "  0.43783733 0.46113072 0.         0.32223687 0.74730738 0.30705905\n",
            "  0.43758183 0.77707888 0.60591941 0.59499367 0.72874662 0.32754357\n",
            "  0.21628214 0.22974002 0.46937905 0.26654615 0.22719291 0.37588818\n",
            "  0.25198534 0.19439055 0.36739809 0.23513526 0.5332235  0.78509846\n",
            "  0.51159317 0.76693674 0.29503222 0.42831874 0.1680481  0.89151331\n",
            "  0.44293289 0.28767047 0.44923086 0.91993627 0.21715631 0.15877067\n",
            "  0.65960987 0.49585585 0.46437768 0.72728347 0.25071617 0.34863427\n",
            "  0.58605882 0.83996708 0.13786509 0.09966989 0.24419039 0.32525632\n",
            "  0.09411347 0.41524417 0.25353199 0.96588927 0.54604812 0.88313379\n",
            "  0.42542764 0.55848303 0.3766694  0.35262667 0.42734837 0.3877572\n",
            "  0.32434319 0.37981707 0.55605619 0.84521573]\n",
            " [0.35450633 0.2430671  0.68738544 0.2460595  0.2972141  0.62212334\n",
            "  0.30725707 0.27372017 0.13053135 0.22306444 0.29279787 0.09357354\n",
            "  0.36151797 0.26186295 0.18501733 0.0545203  0.3300333  0.21958526\n",
            "  0.62993028 0.77565406 0.50689958 0.43926829 0.33935407 0.08631963\n",
            "  0.35653644 0.64568472 0.24516323 0.60022563 0.47238221 0.55807211\n",
            "  0.57482726 0.61724454 0.49443376 0.13335998 0.29547534 0.34397051\n",
            "  0.28062075 0.21680829 0.32223687 0.         0.65353269 0.43182341\n",
            "  0.23408957 0.72170008 0.4926175  0.6246797  0.49952037 0.3493446\n",
            "  0.50733697 0.305652   0.16050373 0.42961883 0.09509994 0.22489448\n",
            "  0.55534952 0.36250295 0.31130694 0.54719875 0.32446373 0.47004379\n",
            "  0.26295631 0.4623878  0.55879825 0.66508476 0.4626836  0.739004\n",
            "  0.7098812  0.29364825 0.13533381 0.81175924 0.2940257  0.24144312\n",
            "  0.33947354 0.66004053 0.24795669 0.4290951  0.35778468 0.31670214\n",
            "  0.26449313 0.76377592 0.4344992  0.3841279  0.46738252 0.30583862\n",
            "  0.34690084 0.38556251 0.30462388 0.84173851 0.5536497  0.72801984\n",
            "  0.58549314 0.2362462  0.47158214 0.31757193 0.30092671 0.63549496\n",
            "  0.5785965  0.41162688 0.80347621 0.77013124]\n",
            " [0.33187576 0.89503345 0.04683547 0.43272994 0.94401436 0.25875121\n",
            "  0.73823756 0.91451609 0.57851897 0.83245344 0.51793167 0.74311948\n",
            "  0.40337685 0.65276481 0.67462924 0.66118642 0.98307761 0.52796683\n",
            "  0.49348453 0.12440481 0.16927357 0.96390957 0.9609635  0.6384454\n",
            "  0.78526727 0.66497394 0.81187777 0.08481955 0.39934385 0.21903328\n",
            "  0.07902486 0.3877952  0.70328153 0.75155981 0.47689815 0.39310987\n",
            "  0.9328369  0.46076458 0.74730738 0.65353269 0.         1.01948638\n",
            "  0.88064916 0.1018347  0.16091533 0.26837304 0.33139997 0.42138072\n",
            "  0.73813833 0.51836157 0.58331885 0.99377226 0.66921027 0.43278532\n",
            "  0.78674342 0.57618785 0.38618738 0.81040734 0.35713673 0.66581037\n",
            "  0.88128823 0.59350686 0.69769134 0.67477488 0.73238966 0.18926429\n",
            "  0.76242652 0.91816607 0.71186795 0.1726488  0.88534785 0.80817791\n",
            "  0.76421107 0.52799053 0.88817914 0.55204176 0.50992404 0.95712572\n",
            "  0.71252087 0.11201711 0.8790144  0.704343   0.61801645 0.9412782\n",
            "  0.67395492 1.03074378 0.91153188 0.22193633 0.25104256 0.18818273\n",
            "  0.51263349 0.68041803 0.43002791 0.39705771 0.95445712 0.68797478\n",
            "  0.68420342 1.04055337 0.76105243 0.118555  ]\n",
            " [0.76955431 0.32690951 1.06070394 0.66826738 0.36105129 1.04168271\n",
            "  0.66563913 0.3873325  0.44866718 0.46194903 0.51617302 0.34769523\n",
            "  0.63376822 0.37994606 0.34487354 0.46547497 0.26148896 0.65067792\n",
            "  0.78692782 1.13071465 0.85322033 0.12447687 0.11512243 0.50485197\n",
            "  0.2866332  0.69408232 0.2087638  0.9856045  0.70123485 0.860367\n",
            "  0.94212423 0.83224191 0.49953727 0.29934564 0.55200875 0.77199259\n",
            "  0.31938736 0.64110654 0.30705905 0.43182341 1.01948638 0.\n",
            "  0.36359718 1.06285065 0.86601282 0.89641145 0.92686588 0.61532045\n",
            "  0.48195802 0.52047152 0.58748516 0.05223872 0.36879391 0.60163853\n",
            "  0.4921468  0.50027458 0.63372561 0.46034698 0.74050205 0.87219517\n",
            "  0.44949817 0.88004074 0.57215705 0.70971115 0.44093782 1.14056927\n",
            "  0.70138944 0.15207583 0.49616708 1.18975058 0.14034045 0.21261651\n",
            "  0.68742816 0.79860245 0.38882259 0.85270068 0.55154843 0.17681741\n",
            "  0.63325862 1.12029429 0.24566344 0.39759772 0.54522209 0.1659426\n",
            "  0.40100848 0.18918544 0.12809479 1.22960687 0.84219836 1.1307069\n",
            "  0.73036868 0.62119838 0.6816936  0.62493849 0.28596763 0.66588847\n",
            "  0.60446691 0.1167718  0.82213586 1.1260039 ]\n",
            " [0.56465838 0.03728354 0.91182294 0.45501772 0.0635516  0.8163286\n",
            "  0.31745244 0.04441904 0.35019599 0.10278432 0.50421698 0.16535721\n",
            "  0.5894054  0.42546547 0.33985178 0.21953482 0.13659483 0.38670162\n",
            "  0.84256125 1.00406902 0.73946976 0.43614204 0.24850551 0.24593209\n",
            "  0.45491197 0.82737011 0.28812969 0.82155572 0.69596148 0.79200897\n",
            "  0.80272013 0.84196964 0.65012406 0.20995062 0.51649807 0.53396942\n",
            "  0.06354091 0.42530485 0.43758183 0.23408957 0.88064916 0.36359718\n",
            "  0.         0.95309706 0.7203008  0.8571995  0.68303597 0.57557513\n",
            "  0.6522626  0.51575953 0.31851332 0.39005317 0.26884751 0.45803301\n",
            "  0.68948942 0.55314101 0.54452057 0.67071596 0.535276   0.53648155\n",
            "  0.08685436 0.5606955  0.72309487 0.84642198 0.60402749 0.94853308\n",
            "  0.87490845 0.21788434 0.18795616 1.03282415 0.27538661 0.28693864\n",
            "  0.33353944 0.86897652 0.02798418 0.54497042 0.56636199 0.18926176\n",
            "  0.29380199 0.99197461 0.49461266 0.52846442 0.64756045 0.19765462\n",
            "  0.50184934 0.22211029 0.25635249 1.05795175 0.78691017 0.93693335\n",
            "  0.7934833  0.2940235  0.69113277 0.54938329 0.09980261 0.81059245\n",
            "  0.74879694 0.28334745 0.9814904  0.99841584]\n",
            " [0.42110281 0.96471993 0.11668601 0.51539882 1.01664862 0.3560016\n",
            "  0.83049987 0.98903642 0.63391649 0.91191571 0.54988481 0.80793357\n",
            "  0.43175424 0.68727806 0.72034738 0.73499547 1.04819083 0.61539418\n",
            "  0.45791604 0.07885955 0.21595385 0.99712608 1.01333784 0.71556725\n",
            "  0.81264329 0.63762907 0.85838685 0.18658616 0.39976499 0.21397133\n",
            "  0.16001336 0.35097351 0.70397533 0.80928006 0.51163884 0.48693903\n",
            "  1.00231764 0.54191315 0.77707888 0.72170008 0.1018347  1.06285065\n",
            "  0.95309706 0.         0.23825129 0.22917698 0.4331427  0.45033937\n",
            "  0.73906993 0.54789927 0.66672033 1.03312629 0.72642858 0.49714879\n",
            "  0.78377976 0.59420549 0.43252556 0.81070097 0.44398879 0.76643639\n",
            "  0.96016914 0.69449061 0.68747608 0.64483143 0.73997802 0.25761968\n",
            "  0.73247132 0.97215521 0.79160697 0.18073955 0.93315782 0.8548703\n",
            "  0.85760667 0.48825036 0.96266814 0.65240754 0.53000006 1.01512377\n",
            "  0.80277059 0.07405771 0.90300199 0.72245656 0.61888771 0.99785256\n",
            "  0.69639331 1.08985585 0.96166026 0.24102131 0.24141266 0.26062335\n",
            "  0.48726406 0.76954284 0.42909163 0.43872203 1.02144481 0.66414291\n",
            "  0.66974812 1.09360539 0.71566686 0.07680503]\n",
            " [0.18637448 0.73425367 0.19681598 0.27716279 0.78373882 0.25804303\n",
            "  0.59572937 0.75473661 0.42091036 0.67482473 0.37941885 0.5823495\n",
            "  0.27474752 0.5086304  0.52168239 0.50100788 0.82220568 0.37785772\n",
            "  0.44925944 0.28376836 0.07461683 0.81759002 0.80317918 0.4794213\n",
            "  0.64553156 0.59706378 0.65749615 0.12199979 0.30947776 0.18306165\n",
            "  0.08242569 0.35744017 0.59461622 0.59231595 0.33702595 0.25770266\n",
            "  0.77204705 0.30391586 0.60591941 0.4926175  0.16091533 0.86601282\n",
            "  0.7203008  0.23825129 0.         0.26647395 0.25503812 0.29076867\n",
            "  0.6281845  0.38234027 0.42849073 0.84289677 0.5103872  0.27268199\n",
            "  0.68046084 0.45079503 0.238676   0.69950298 0.20695292 0.55627995\n",
            "  0.72335803 0.48891955 0.60360473 0.61044063 0.61448637 0.28682205\n",
            "  0.69478923 0.75984311 0.5543174  0.32477228 0.72991767 0.65371113\n",
            "  0.6240597  0.48780283 0.72837427 0.44262    0.38489648 0.7974415\n",
            "  0.56633481 0.2716913  0.74126749 0.57521188 0.51211448 0.78202606\n",
            "  0.54093598 0.8707084  0.75486012 0.36381709 0.20888373 0.27927142\n",
            "  0.45062284 0.53248004 0.33876887 0.25366467 0.79354247 0.61377954\n",
            "  0.59651523 0.88234723 0.71833886 0.27812242]\n",
            " [0.42799967 0.86052609 0.31089631 0.48323977 0.91919702 0.50056875\n",
            "  0.81340152 0.89809556 0.51056062 0.83960769 0.38425558 0.69700167\n",
            "  0.27389652 0.51698441 0.56979588 0.65350043 0.92922368 0.59039411\n",
            "  0.22949536 0.3075593  0.19347182 0.81483462 0.86570005 0.64570531\n",
            "  0.62572551 0.40845236 0.70341131 0.31936756 0.19727027 0.08623275\n",
            "  0.2484967  0.12234488 0.48750068 0.68066085 0.35531646 0.50418215\n",
            "  0.89632768 0.50113755 0.59499367 0.6246797  0.26837304 0.89641145\n",
            "  0.8571995  0.22917698 0.26647395 0.         0.52126061 0.29062819\n",
            "  0.52222767 0.37796598 0.62195884 0.8601959  0.60096948 0.41183578\n",
            "  0.56326621 0.40192092 0.31351356 0.59237929 0.43772452 0.81156902\n",
            "  0.88409061 0.74796004 0.4632232  0.41578266 0.52950222 0.45759587\n",
            "  0.50350852 0.82909903 0.72582538 0.4084452  0.77836619 0.70038582\n",
            "  0.84514337 0.26165724 0.87252833 0.70021367 0.34517657 0.87981042\n",
            "  0.77739179 0.30321838 0.70902852 0.52503111 0.40440835 0.85978194\n",
            "  0.50597037 0.95520921 0.81074347 0.46773012 0.07402084 0.45647714\n",
            "  0.25852892 0.74089014 0.2216688  0.30785468 0.90812051 0.4351758\n",
            "  0.44347437 0.94549344 0.49331538 0.30589533]\n",
            " [0.17176246 0.70821168 0.33181247 0.2591437  0.74142021 0.1380343\n",
            "  0.45541963 0.70564273 0.49353792 0.60698535 0.53351162 0.59141832\n",
            "  0.46518831 0.63171888 0.60938209 0.4798918  0.80929189 0.29658752\n",
            "  0.69482917 0.4377617  0.3292734  0.91165995 0.83884404 0.44444108\n",
            "  0.77023639 0.82544952 0.72546635 0.24658224 0.53773304 0.438027\n",
            "  0.29110472 0.60939173 0.78254176 0.628395   0.49442737 0.15555369\n",
            "  0.7442669  0.28576409 0.72874662 0.49952037 0.33139997 0.92686588\n",
            "  0.68303597 0.4331427  0.25503812 0.52126061 0.         0.47505858\n",
            "  0.81251886 0.5417645  0.36525402 0.91748798 0.55970769 0.35320594\n",
            "  0.867416   0.6233047  0.39713403 0.87903488 0.19554409 0.33888864\n",
            "  0.65523782 0.26522097 0.8088109  0.84086209 0.78742146 0.29198603\n",
            "  0.9205634  0.7931383  0.49556881 0.41167748 0.78674352 0.72148169\n",
            "  0.47415076 0.73388908 0.68115962 0.22821524 0.56512136 0.81348247\n",
            "  0.44207668 0.42587222 0.8656916  0.73012514 0.70861304 0.80438064\n",
            "  0.69017766 0.87792245 0.80187142 0.41377725 0.4628712  0.27966805\n",
            "  0.6879486  0.4185583  0.56333014 0.41930411 0.77483154 0.8369485\n",
            "  0.80856153 0.91047962 0.95883058 0.43191304]\n",
            " [0.31262877 0.57549535 0.46651674 0.29598305 0.63599662 0.53265155\n",
            "  0.59263393 0.6180416  0.22540514 0.57149798 0.09966355 0.41196929\n",
            "  0.01858963 0.23714197 0.28012068 0.38746222 0.63973274 0.38693411\n",
            "  0.29146124 0.52192991 0.25243892 0.54691702 0.57667875 0.38962673\n",
            "  0.36447633 0.36550502 0.41585051 0.41057112 0.12371589 0.24515965\n",
            "  0.35064532 0.26790245 0.31053192 0.3907882  0.064946   0.37326744\n",
            "  0.61028285 0.29808425 0.32754357 0.3493446  0.42138072 0.61532045\n",
            "  0.57557513 0.45033937 0.29076867 0.29062819 0.47505858 0.\n",
            "  0.34248488 0.09781444 0.39218497 0.58355617 0.31261368 0.17918978\n",
            "  0.39645251 0.16008147 0.08201732 0.41228825 0.30077789 0.65869149\n",
            "  0.61229993 0.61256401 0.33393944 0.38312353 0.32480724 0.57685914\n",
            "  0.45479775 0.5391102  0.46752805 0.59392619 0.49111348 0.41263441\n",
            "  0.62661668 0.3261641  0.59332299 0.56459613 0.09476013 0.58922047\n",
            "  0.55133405 0.51242997 0.45765741 0.2852441  0.23368936 0.56931618\n",
            "  0.25293025 0.66464277 0.52237616 0.64188859 0.22883181 0.56972727\n",
            "  0.25728096 0.51469013 0.12841134 0.05955105 0.61989561 0.37069263\n",
            "  0.33546608 0.65682144 0.51473634 0.51769672]\n",
            " [0.64396547 0.63239824 0.78491738 0.59667031 0.69431901 0.8750703\n",
            "  0.81233579 0.69545856 0.39650622 0.70071335 0.28241023 0.5065506\n",
            "  0.35607129 0.24548916 0.32733015 0.56154586 0.64408415 0.65740253\n",
            "  0.34076309 0.81715599 0.5775052  0.36560465 0.51258778 0.5861586\n",
            "  0.210346   0.21306126 0.37468776 0.74346856 0.34056099 0.52693785\n",
            "  0.67704689 0.41985429 0.03510365 0.44587702 0.3188155  0.69309162\n",
            "  0.65411857 0.58643237 0.21628214 0.50733697 0.73813833 0.48195802\n",
            "  0.6522626  0.73906993 0.6281845  0.52222767 0.81251886 0.34248488\n",
            "  0.         0.27254527 0.63172143 0.43224859 0.41765217 0.47520921\n",
            "  0.05509433 0.18959849 0.41586581 0.07226907 0.62639727 0.94045421\n",
            "  0.7233251  0.90937338 0.09094207 0.22799988 0.0483051  0.90943207\n",
            "  0.22790023 0.49838487 0.6415958  0.90550943 0.4250834  0.37450727\n",
            "  0.84539199 0.34010087 0.67861132 0.86479511 0.24868101 0.55961019\n",
            "  0.76897087 0.81013235 0.23993308 0.12558355 0.12049513 0.53624671\n",
            "  0.16045034 0.62153299 0.4608045  0.9593239  0.49789732 0.9034482\n",
            "  0.28695214 0.73742082 0.31048744 0.39417978 0.64315618 0.18395995\n",
            "  0.1236275  0.57575185 0.34463561 0.81419434]\n",
            " [0.37196126 0.51052679 0.5631203  0.32729564 0.57303894 0.61373065\n",
            "  0.58336614 0.55961238 0.1751447  0.52720961 0.01329168 0.35044665\n",
            "  0.11632418 0.14074171 0.19506422 0.35246376 0.56461483 0.39952259\n",
            "  0.32724782 0.61973902 0.34914438 0.44923477 0.48848038 0.36429358\n",
            "  0.26696429 0.34987596 0.32563272 0.5036392  0.18935598 0.34056958\n",
            "  0.44632256 0.33297632 0.24504258 0.31725686 0.04782295 0.42089387\n",
            "  0.5431124  0.32034936 0.22974002 0.305652   0.51836157 0.52047152\n",
            "  0.51575953 0.54789927 0.38234027 0.37796598 0.5417645  0.09781444\n",
            "  0.27254527 0.         0.38762608 0.48719239 0.24694898 0.20446403\n",
            "  0.32763875 0.08339062 0.14957156 0.3374006  0.35387369 0.68140898\n",
            "  0.56337843 0.64413706 0.28703901 0.36900514 0.24567523 0.66916181\n",
            "  0.42686396 0.45332205 0.43595933 0.69099801 0.40045361 0.32267884\n",
            "  0.61752712 0.35546513 0.53638455 0.59810866 0.05213344 0.50656442\n",
            "  0.54034344 0.6102436  0.36089562 0.19434486 0.18456948 0.48557129\n",
            "  0.15865004 0.58141634 0.43316114 0.73812003 0.32172726 0.66150185\n",
            "  0.280414   0.50520655 0.17824164 0.13043376 0.54827601 0.34589637\n",
            "  0.29761929 0.56794246 0.50688552 0.61551075]\n",
            " [0.25434479 0.34296269 0.60907478 0.15132871 0.37837491 0.49781586\n",
            "  0.20046699 0.34402285 0.23556187 0.25190247 0.37449291 0.2401255\n",
            "  0.3976012  0.39319929 0.3305581  0.12237327 0.44427932 0.06878203\n",
            "  0.68343332 0.70769155 0.46522015 0.59977183 0.48802709 0.08341361\n",
            "  0.5067589  0.73721574 0.40566696 0.51583371 0.51170804 0.54300111\n",
            "  0.50887437 0.64565404 0.61293949 0.29251725 0.35887627 0.21568499\n",
            "  0.37914756 0.12562133 0.46937905 0.16050373 0.58331885 0.58748516\n",
            "  0.31851332 0.66672033 0.42849073 0.62195884 0.36525402 0.39218497\n",
            "  0.63172143 0.38762608 0.         0.58849782 0.24897817 0.21800793\n",
            "  0.68357338 0.46210845 0.32564082 0.68080103 0.22691047 0.31572204\n",
            "  0.30115077 0.30246257 0.66837835 0.75623422 0.59113844 0.63248691\n",
            "  0.81343412 0.44291447 0.13334799 0.72432482 0.45216734 0.40194504\n",
            "  0.234432   0.71834324 0.31867893 0.2686084  0.43594357 0.45476207\n",
            "  0.15973591 0.69525507 0.59019238 0.51547801 0.56890681 0.44841321\n",
            "  0.47514293 0.51545206 0.45942846 0.74500658 0.54794211 0.62069258\n",
            "  0.6484422  0.12284686 0.5204362  0.34155742 0.40961673 0.7333603\n",
            "  0.68280232 0.55410138 0.89352113 0.70180773]\n",
            " [0.75627652 0.35447898 1.03593901 0.65834436 0.39469575 1.02815264\n",
            "  0.68149564 0.41785355 0.43112351 0.48456166 0.48392723 0.35175351\n",
            "  0.60211731 0.34655597 0.32167859 0.46803113 0.30005809 0.64917195\n",
            "  0.74268892 1.10254981 0.8261488  0.07225415 0.1456884  0.50733138\n",
            "  0.24225981 0.64488179 0.19224285 0.96357393 0.66387044 0.82776188\n",
            "  0.91725822 0.79171938 0.45096747 0.29632179 0.52148776 0.76379358\n",
            "  0.35170142 0.63226201 0.26654615 0.42961883 0.99377226 0.05223872\n",
            "  0.39005317 1.03312629 0.84289677 0.8601959  0.91748798 0.58355617\n",
            "  0.43224859 0.48719239 0.58849782 0.         0.35782128 0.58362877\n",
            "  0.44089468 0.460901   0.60760572 0.4087589  0.72781033 0.88232535\n",
            "  0.47683454 0.88583885 0.52278254 0.66021466 0.39228915 1.12115618\n",
            "  0.65015958 0.17247309 0.50687481 1.16508788 0.13660061 0.19623004\n",
            "  0.70513097 0.75306236 0.41650066 0.85612601 0.51504505 0.21043364\n",
            "  0.64699576 1.09241428 0.19442731 0.35287933 0.49988977 0.1952234\n",
            "  0.35949846 0.23486162 0.13816809 1.20669203 0.80833141 1.11162137\n",
            "  0.6860332  0.6321768  0.64309188 0.59731957 0.32084596 0.61619566\n",
            "  0.5552332  0.16596618 0.77109326 1.09799071]\n",
            " [0.40078612 0.26442188 0.70718535 0.30057548 0.32640563 0.6728955\n",
            "  0.40151089 0.31280874 0.09285055 0.29016471 0.2355408  0.10369066\n",
            "  0.32801821 0.17325836 0.09131148 0.14896962 0.32849052 0.30041537\n",
            "  0.5737549  0.78718499 0.51078134 0.35731013 0.29347757 0.1809314\n",
            "  0.26154094 0.56915412 0.16619373 0.62605965 0.42968658 0.54397536\n",
            "  0.59033407 0.57562945 0.40729049 0.0828521  0.25067056 0.40606753\n",
            "  0.29823813 0.27449235 0.22719291 0.09509994 0.66921027 0.36879391\n",
            "  0.26884751 0.72642858 0.5103872  0.60096948 0.55970769 0.31261368\n",
            "  0.41765217 0.24694898 0.24897817 0.35782128 0.         0.23869972\n",
            "  0.46395913 0.28855434 0.29692746 0.45420721 0.37170916 0.56276634\n",
            "  0.32115818 0.55110979 0.47484097 0.58849044 0.37184356 0.77572799\n",
            "  0.62710227 0.24958159 0.22484674 0.83487615 0.22850722 0.16222739\n",
            "  0.43325884 0.60058018 0.28997213 0.51517958 0.2975497  0.28877843\n",
            "  0.35904734 0.7758827  0.34148078 0.29297184 0.38892231 0.27217743\n",
            "  0.25763554 0.36343178 0.2481177  0.87042287 0.53418486 0.76546719\n",
            "  0.52512578 0.33131651 0.42320838 0.296302   0.3073824  0.55604385\n",
            "  0.49687054 0.37209035 0.72599772 0.7819917 ]\n",
            " [0.18196541 0.46793054 0.46939468 0.12309279 0.52145689 0.44808004\n",
            "  0.41762537 0.49594463 0.15299209 0.42926594 0.19344526 0.31125012\n",
            "  0.18194227 0.27852034 0.26413425 0.24444388 0.5516117  0.20774442\n",
            "  0.46781998 0.5531371  0.28202146 0.56808009 0.53215324 0.23394339\n",
            "  0.41738973 0.53962523 0.39327685 0.38736065 0.2947033  0.33867984\n",
            "  0.35376104 0.42778016 0.44904344 0.31995975 0.16280074 0.21885388\n",
            "  0.50541421 0.11994163 0.37588818 0.22489448 0.43278532 0.60163853\n",
            "  0.45803301 0.49714879 0.27268199 0.41183578 0.35320594 0.17918978\n",
            "  0.47520921 0.20446403 0.21800793 0.58362877 0.23869972 0.\n",
            "  0.53014023 0.28761705 0.10766455 0.53685511 0.15809257 0.48259849\n",
            "  0.47505615 0.44119684 0.49021752 0.55790463 0.44404433 0.53898293\n",
            "  0.62421962 0.48823366 0.31403421 0.59652833 0.46292132 0.38935909\n",
            "  0.45123546 0.50373318 0.46974263 0.39451218 0.24263066 0.52477614\n",
            "  0.37766115 0.54148107 0.51328755 0.38066027 0.38721718 0.50954865\n",
            "  0.33984017 0.59805911 0.4855843  0.6317462  0.33851547 0.52907255\n",
            "  0.43627587 0.34072002 0.3055713  0.1245714  0.5243474  0.5410672\n",
            "  0.49821891 0.61071621 0.69196461 0.54774236]\n",
            " [0.69901555 0.66768293 0.83357282 0.65140861 0.72857866 0.9287569\n",
            "  0.86156246 0.73199758 0.44805001 0.74283614 0.33747089 0.54905635\n",
            "  0.40962575 0.29395355 0.37286953 0.60977563 0.67225931 0.71078395\n",
            "  0.36905352 0.86224355 0.62809365 0.37107447 0.53418368 0.63567368\n",
            "  0.23812664 0.21913622 0.40641415 0.7946388  0.38775887 0.5732351\n",
            "  0.7273459  0.45582187 0.08607088 0.48629901 0.37388124 0.74813322\n",
            "  0.68733409 0.64083051 0.25198534 0.55534952 0.78674342 0.4921468\n",
            "  0.68948942 0.78377976 0.68046084 0.56326621 0.867416   0.39645251\n",
            "  0.05509433 0.32763875 0.68357338 0.44089468 0.46395913 0.53014023\n",
            "  0.         0.2446714  0.47060391 0.03596733 0.68149131 0.99361227\n",
            "  0.76322277 0.96342359 0.10676823 0.23058891 0.09289574 0.96022687\n",
            "  0.20926596 0.5242181  0.68866351 0.95265575 0.45010602 0.40669221\n",
            "  0.89434723 0.36300737 0.71634861 0.91906756 0.30310785 0.58506943\n",
            "  0.81831712 0.85561469 0.24650701 0.17123236 0.16930295 0.56191868\n",
            "  0.20941666 0.64320976 0.48487286 1.0072656  0.54345139 0.95448777\n",
            "  0.31829195 0.78737298 0.35726429 0.44881636 0.67393279 0.18620055\n",
            "  0.13638925 0.59242928 0.33032535 0.85948099]\n",
            " [0.45438062 0.54269919 0.62214253 0.41020356 0.6062022  0.69036709\n",
            "  0.65373117 0.5975452  0.2359261  0.57777308 0.09421044 0.39073882\n",
            "  0.17621396 0.13513536 0.21497714 0.41328737 0.58348277 0.47893954\n",
            "  0.29964833 0.66924597 0.40896842 0.41302023 0.48698555 0.43022229\n",
            "  0.22380473 0.28318382 0.32460178 0.57008378 0.20465176 0.38115238\n",
            "  0.50829933 0.3321978  0.16165212 0.34552325 0.12921942 0.50426884\n",
            "  0.57220913 0.40227676 0.19439055 0.36250295 0.57618785 0.50027458\n",
            "  0.55314101 0.59420549 0.45079503 0.40192092 0.6233047  0.16008147\n",
            "  0.18959849 0.08339062 0.46210845 0.460901   0.28855434 0.28761705\n",
            "  0.2446714  0.         0.22765413 0.256021   0.43690777 0.76174978\n",
            "  0.60970317 0.72618972 0.20689033 0.3025833  0.16590222 0.73651255\n",
            "  0.35198759 0.45752408 0.49681056 0.74781907 0.39551515 0.32242988\n",
            "  0.68768988 0.32067118 0.57613649 0.68051209 0.0664803  0.51517234\n",
            "  0.6103508  0.66065624 0.30957887 0.12859199 0.10706597 0.49275536\n",
            "  0.10413653 0.58768189 0.43074485 0.7978594  0.35722458 0.72954361\n",
            "  0.24598509 0.57624166 0.18232169 0.2066219  0.57198551 0.27418943\n",
            "  0.2208472  0.56351313 0.44100181 0.66548641]\n",
            " [0.23176041 0.54953922 0.42849697 0.21658077 0.60697995 0.46418193\n",
            "  0.52524753 0.58493665 0.2041386  0.52703299 0.144167   0.38698966\n",
            "  0.07879321 0.26995656 0.28920401 0.34077853 0.62401576 0.31240677\n",
            "  0.36172037 0.4976086  0.21965711 0.57954817 0.58081678 0.33590517\n",
            "  0.40728841 0.44722624 0.42706534 0.36066702 0.1878332  0.24855679\n",
            "  0.3098696  0.32049573 0.38546867 0.37935826 0.10199375 0.29125425\n",
            "  0.58600489 0.22161015 0.36739809 0.31130694 0.38618738 0.63372561\n",
            "  0.54452057 0.43252556 0.238676   0.31351356 0.39713403 0.08201732\n",
            "  0.41586581 0.14957156 0.32564082 0.60760572 0.29692746 0.10766455\n",
            "  0.47060391 0.22765413 0.         0.48360361 0.2189247  0.5790459\n",
            "  0.57090515 0.53140084 0.41397906 0.46468856 0.39329285 0.52421496\n",
            "  0.5368138  0.53984345 0.4157846  0.55762003 0.501373   0.42345517\n",
            "  0.55880785 0.39831991 0.55925089 0.4832575  0.16799011 0.58430475\n",
            "  0.48531994 0.48695878 0.50338455 0.34371019 0.31240159 0.56634462\n",
            "  0.30683301 0.65947737 0.52927697 0.60073987 0.24241357 0.51598305\n",
            "  0.33317217 0.44838159 0.20096195 0.02270699 0.60035404 0.45270982\n",
            "  0.41676462 0.6611016  0.59515443 0.49276828]\n",
            " [0.70931811 0.64756392 0.85718636 0.65663764 0.70762029 0.94486934\n",
            "  0.85430463 0.71262325 0.44549824 0.72795508 0.34625979 0.53507778\n",
            "  0.42644325 0.2881932  0.36290529 0.60171895 0.64771171 0.71123495\n",
            "  0.40271095 0.88890576 0.64956642 0.33825396 0.50667881 0.62926468\n",
            "  0.21635886 0.25510226 0.3850202  0.81531744 0.4126571  0.59892361\n",
            "  0.74915789 0.48718426 0.10721067 0.47076403 0.38460762 0.75558954\n",
            "  0.66577626 0.64453488 0.23513526 0.54719875 0.81040734 0.46034698\n",
            "  0.67071596 0.81070097 0.69950298 0.59237929 0.87903488 0.41228825\n",
            "  0.07226907 0.3374006  0.68080103 0.4087589  0.45420721 0.53685511\n",
            "  0.03596733 0.256021   0.48360361 0.         0.69059944 0.99314689\n",
            "  0.74638063 0.96546292 0.14132851 0.26649929 0.09285212 0.98138669\n",
            "  0.24214526 0.49882956 0.67897659 0.97768398 0.42460869 0.38558899\n",
            "  0.88667089 0.39777409 0.69789723 0.92191542 0.31783971 0.55929208\n",
            "  0.81129208 0.8819829  0.2148546  0.16532912 0.19264267 0.53631981\n",
            "  0.20588395 0.61546011 0.45873295 1.03157519 0.56970044 0.97532128\n",
            "  0.35101738 0.781272   0.38248826 0.46233055 0.65088241 0.22214614\n",
            "  0.17173597 0.5626822  0.36358838 0.88599614]\n",
            " [0.03005288 0.55440544 0.3821659  0.08038419 0.59755656 0.30123491\n",
            "  0.38924184 0.56550176 0.29966275 0.47802651 0.34443151 0.41803332\n",
            "  0.29507684 0.43640216 0.41511894 0.31799477 0.64995416 0.1714589\n",
            "  0.55983186 0.48134767 0.25685164 0.71852639 0.65927369 0.28939981\n",
            "  0.57470868 0.66447633 0.53559896 0.28911824 0.38890618 0.35240145\n",
            "  0.28448829 0.49363195 0.59817469 0.44566621 0.3079042  0.07404821\n",
            "  0.59196416 0.11028038 0.5332235  0.32446373 0.35713673 0.74050205\n",
            "  0.535276   0.44398879 0.20695292 0.43772452 0.19554409 0.30077789\n",
            "  0.62639727 0.35387369 0.22691047 0.72781033 0.37170916 0.15809257\n",
            "  0.68149131 0.43690777 0.2189247  0.69059944 0.         0.37881478\n",
            "  0.52718495 0.32207702 0.63181953 0.68147608 0.59815874 0.41554356\n",
            "  0.75536773 0.61386157 0.35793656 0.49877199 0.60019665 0.53161398\n",
            "  0.41823957 0.59840934 0.53947068 0.27325987 0.38353248 0.64097616\n",
            "  0.35938205 0.46887211 0.6701546  0.53754231 0.52944338 0.62925633\n",
            "  0.4970608  0.70988629 0.61825361 0.52269464 0.36634729 0.40432649\n",
            "  0.54085197 0.32565969 0.4091645  0.24160614 0.61803685 0.67121099\n",
            "  0.63554654 0.73431479 0.80876657 0.47543175]\n",
            " [0.38418714 0.57177592 0.67002248 0.36273506 0.57652337 0.45970422\n",
            "  0.22159696 0.53813563 0.54817051 0.43564454 0.66907065 0.53209393\n",
            "  0.65780955 0.70717286 0.64623503 0.42134157 0.67270894 0.2832453\n",
            "  0.9352393  0.77628659 0.62180101 0.90338265 0.76241118 0.38423752\n",
            "  0.82230731 1.0221593  0.71107619 0.58159205 0.7619156  0.72537321\n",
            "  0.61416177 0.87242781 0.91895635 0.59434112 0.6439911  0.3081166\n",
            "  0.5985547  0.36283381 0.78509846 0.47004379 0.66581037 0.87219517\n",
            "  0.53648155 0.76643639 0.55627995 0.81156902 0.33888864 0.65869149\n",
            "  0.94045421 0.68140898 0.31572204 0.88232535 0.56276634 0.48259849\n",
            "  0.99361227 0.76174978 0.5790459  0.99314689 0.37881478 0.\n",
            "  0.47173293 0.07406718 0.96818667 1.0403506  0.90210752 0.62000107\n",
            "  1.10627184 0.72073125 0.37609386 0.74737052 0.74662057 0.70760754\n",
            "  0.2158911  0.97326137 0.52124367 0.11437835 0.72404142 0.71482324\n",
            "  0.24314918 0.764286   0.90413562 0.8282172  0.86597726 0.7155748\n",
            "  0.78729994 0.7582783  0.74624525 0.74238373 0.74239614 0.60798075\n",
            "  0.91151056 0.25102311 0.77890269 0.60018025 0.63602018 1.02345216\n",
            "  0.97871424 0.81432984 1.17340401 0.77040094]\n",
            " [0.55520146 0.12268211 0.90892974 0.44897062 0.10568907 0.79172432\n",
            "  0.25013664 0.06839208 0.39059638 0.04925026 0.55104462 0.22014254\n",
            "  0.62437609 0.48839234 0.40207094 0.23085461 0.20848506 0.36501987\n",
            "  0.89014638 1.00562291 0.75088895 0.52270524 0.33457576 0.24485117\n",
            "  0.53218124 0.8891741  0.36840372 0.81629189 0.73523228 0.81359999\n",
            "  0.8051256  0.88020073 0.71854901 0.27744901 0.55748619 0.51390753\n",
            "  0.13575496 0.42055211 0.51159317 0.26295631 0.88128823 0.44949817\n",
            "  0.08685436 0.96016914 0.72335803 0.88409061 0.65523782 0.61229993\n",
            "  0.7233251  0.56337843 0.30115077 0.47683454 0.32115818 0.47505615\n",
            "  0.76322277 0.60970317 0.57090515 0.74638063 0.52718495 0.47173293\n",
            "  0.         0.50415514 0.78978703 0.90843618 0.6754207  0.93209563\n",
            "  0.94225211 0.30473547 0.16948424 1.02540563 0.36115277 0.36682599\n",
            "  0.26063835 0.91882951 0.0606759  0.49456755 0.6151688  0.27382718\n",
            "  0.23499284 0.99328663 0.57746543 0.59821625 0.70876282 0.28369244\n",
            "  0.56861988 0.29746739 0.34307011 1.04586666 0.81184506 0.92016582\n",
            "  0.84366207 0.24457217 0.73368483 0.57895906 0.17364693 0.87454454\n",
            "  0.81393101 0.3640978  1.04517804 0.99981247]\n",
            " [0.32360829 0.59422614 0.59672822 0.31846746 0.60640757 0.38590172\n",
            "  0.25871208 0.56788554 0.52459785 0.46361469 0.63234024 0.53412393\n",
            "  0.6100109  0.68350548 0.62945047 0.41844237 0.69717643 0.25612071\n",
            "  0.88176649 0.70287512 0.55644115 0.90109686 0.77379572 0.37953258\n",
            "  0.80565645 0.97788201 0.70717619 0.50905079 0.70992299 0.66174885\n",
            "  0.54383883 0.81423214 0.885906   0.59223179 0.60397619 0.24890175\n",
            "  0.62395149 0.32391418 0.76693674 0.4623878  0.59350686 0.88004074\n",
            "  0.5606955  0.69449061 0.48891955 0.74796004 0.26522097 0.61256401\n",
            "  0.90937338 0.64413706 0.30246257 0.88583885 0.55110979 0.44119684\n",
            "  0.96342359 0.72618972 0.53140084 0.96546292 0.32207702 0.07406718\n",
            "  0.50415514 0.         0.93096805 0.99564626 0.873329   0.54620655\n",
            "  1.0647862  0.73047694 0.38692416 0.67330736 0.74927612 0.70352109\n",
            "  0.26178298 0.92024006 0.54858603 0.04881749 0.68381646 0.73073127\n",
            "  0.26936162 0.69092537 0.89155676 0.80191096 0.82809173 0.72913169\n",
            "  0.76056925 0.77991035 0.75249034 0.66865788 0.68026836 0.53415793\n",
            "  0.8611063  0.26707589 0.72870976 0.55326398 0.66039852 0.98122952\n",
            "  0.93941519 0.83110661 1.12644041 0.69700684]\n",
            " [0.64573905 0.7058718  0.7444399  0.61330978 0.768703   0.85775569\n",
            "  0.85747105 0.76697958 0.43809877 0.76349876 0.29918114 0.57027137\n",
            "  0.34375372 0.30230449 0.38819809 0.61172942 0.72482277 0.68565865\n",
            "  0.26249705 0.76627225 0.54544479 0.45650457 0.59847066 0.63216976\n",
            "  0.29550432 0.12217614 0.45415159 0.71276888 0.29950052 0.48065538\n",
            "  0.64307697 0.35200473 0.07567868 0.51385044 0.32764237 0.7022812\n",
            "  0.72989425 0.60733779 0.29503222 0.55879825 0.69769134 0.57215705\n",
            "  0.72309487 0.68747608 0.60360473 0.4632232  0.8088109  0.33393944\n",
            "  0.09094207 0.28703901 0.66837835 0.52278254 0.47484097 0.49021752\n",
            "  0.10676823 0.20689033 0.41397906 0.14132851 0.63181953 0.96818667\n",
            "  0.78978703 0.93096805 0.         0.13757725 0.13227762 0.87641366\n",
            "  0.1525371  0.58164874 0.69413201 0.85995428 0.50935325 0.45354182\n",
            "  0.89119674 0.25644764 0.74857942 0.88464528 0.2488938  0.64283641\n",
            "  0.81399046 0.76027796 0.33086724 0.19679889 0.10303455 0.61942942\n",
            "  0.22142014 0.70698976 0.54546645 0.91601269 0.44977769 0.87148362\n",
            "  0.21280713 0.78063338 0.2688204  0.39133646 0.72152509 0.09426839\n",
            "  0.03270787 0.66380912 0.26108366 0.7638245 ]\n",
            " [0.68995015 0.8317349  0.72012587 0.67827144 0.89508073 0.86845023\n",
            "  0.95229354 0.89069925 0.53778105 0.87862568 0.38224816 0.68834134\n",
            "  0.38673074 0.42108835 0.50719263 0.71567773 0.85684433 0.76313882\n",
            "  0.18765423 0.72285416 0.54283839 0.59343631 0.7344072  0.73127268\n",
            "  0.43184816 0.019401   0.58637654 0.70584697 0.30384436 0.45693854\n",
            "  0.6330516  0.29393274 0.21178566 0.63648224 0.39907024 0.75492345\n",
            "  0.85769777 0.67783822 0.42831874 0.66508476 0.67477488 0.70971115\n",
            "  0.84642198 0.64483143 0.61044063 0.41578266 0.84086209 0.38312353\n",
            "  0.22799988 0.36900514 0.75623422 0.66021466 0.58849044 0.55790463\n",
            "  0.23058891 0.3025833  0.46468856 0.26649929 0.68147608 1.0403506\n",
            "  0.90843618 0.99564626 0.13757725 0.         0.26957808 0.86166354\n",
            "  0.08785712 0.71593806 0.799279   0.8241117  0.6444877  0.58547444\n",
            "  0.9864353  0.16333291 0.87092874 0.94771842 0.32042277 0.77694955\n",
            "  0.90919394 0.71888889 0.46766679 0.3287666  0.19968652 0.75356678\n",
            "  0.34703783 0.8425223  0.68075501 0.88306947 0.42474972 0.85857193\n",
            "  0.16266201 0.87418567 0.27753196 0.44255347 0.85160492 0.0446332\n",
            "  0.10556785 0.80085001 0.13849614 0.72140719]\n",
            " [0.61724945 0.58409333 0.77892993 0.56380851 0.64602328 0.85624517\n",
            "  0.76870642 0.64718792 0.35557658 0.65330244 0.25409082 0.45918452\n",
            "  0.33995554 0.20110202 0.28103709 0.51706862 0.59643696 0.61967577\n",
            "  0.36397958 0.81722908 0.56826772 0.32796037 0.46674643 0.54278452\n",
            "  0.16383845 0.25340668 0.32668594 0.73224652 0.34027103 0.52631611\n",
            "  0.66803797 0.43427919 0.05868107 0.39798274 0.29320273 0.66281582\n",
            "  0.60586737 0.55189591 0.1680481  0.4626836  0.73238966 0.44093782\n",
            "  0.60402749 0.73997802 0.61448637 0.52950222 0.78742146 0.32480724\n",
            "  0.0483051  0.24567523 0.59113844 0.39228915 0.37184356 0.44404433\n",
            "  0.09289574 0.16590222 0.39329285 0.09285212 0.59815874 0.90210752\n",
            "  0.6754207  0.873329   0.13227762 0.26957808 0.         0.89869446\n",
            "  0.27542619 0.45136223 0.59632428 0.9019672  0.37840067 0.32644703\n",
            "  0.80152915 0.36785859 0.63041936 0.82952827 0.23005998 0.51260329\n",
            "  0.72544702 0.80960131 0.20369995 0.07888325 0.12619128 0.48921487\n",
            "  0.11653244 0.5754923  0.41431464 0.95425644 0.4987131  0.89215671\n",
            "  0.30828972 0.69447773 0.31146768 0.3724689  0.59512135 0.22654552\n",
            "  0.16402147 0.53153492 0.39080347 0.81396255]\n",
            " [0.38558818 0.9691682  0.14824798 0.49566564 1.00987769 0.16030531\n",
            "  0.74629825 0.97630604 0.69190864 0.88299228 0.66613185 0.83237771\n",
            "  0.56030952 0.79356563 0.79967135 0.733172   1.06547307 0.56708774\n",
            "  0.68212633 0.21217463 0.33214188 1.10009706 1.06839047 0.70294341\n",
            "  0.93150331 0.8511656  0.93202146 0.16648728 0.57695351 0.4047269\n",
            "  0.23337487 0.57686652 0.87516168 0.85442424 0.62369055 0.41821404\n",
            "  1.00654425 0.5255912  0.89151331 0.739004   0.18926429 1.14056927\n",
            "  0.94853308 0.25761968 0.28682205 0.45759587 0.29198603 0.57685914\n",
            "  0.90943207 0.66916181 0.63248691 1.12115618 0.77572799 0.53898293\n",
            "  0.96022687 0.73651255 0.52421496 0.98138669 0.41554356 0.62000107\n",
            "  0.93209563 0.54620655 0.87641366 0.86166354 0.89869446 0.\n",
            "  0.94902166 1.02360083 0.76583399 0.13614571 1.00184844 0.92812432\n",
            "  0.76591092 0.71700976 0.95072089 0.51557294 0.67025797 1.05442321\n",
            "  0.73041184 0.20499615 1.02753533 0.86180941 0.79094398 1.04156242\n",
            "  0.8277539  1.12452037 1.02372535 0.12259318 0.43691752 0.01232016\n",
            "  0.69909495 0.70427772 0.6076024  0.54014703 1.03335253 0.87290336\n",
            "  0.86522103 1.14540778 0.95025696 0.20826963]\n",
            " [0.76566264 0.85693283 0.8078605  0.74637475 0.91947654 0.95279991\n",
            "  1.00564269 0.91865481 0.58692666 0.91601024 0.4397422  0.72280378\n",
            "  0.46051684 0.45480347 0.54073498 0.76233023 0.87185659 0.82587532\n",
            "  0.27484093 0.8103817  0.62837461 0.58017422 0.73957434 0.78139643\n",
            "  0.43814616 0.09816877 0.60197194 0.79233875 0.38625964 0.54431794\n",
            "  0.71972335 0.38150608 0.22492665 0.66602075 0.46228592 0.82806437\n",
            "  0.8800565  0.74354785 0.44293289 0.7098812  0.76242652 0.70138944\n",
            "  0.87490845 0.73247132 0.69478923 0.50350852 0.9205634  0.45479775\n",
            "  0.22790023 0.42686396 0.81343412 0.65015958 0.62710227 0.62421962\n",
            "  0.20926596 0.35198759 0.5368138  0.24214526 0.75536773 1.10627184\n",
            "  0.94225211 1.0647862  0.1525371  0.08785712 0.27542619 0.94902166\n",
            "  0.         0.7262484  0.84515541 0.91189361 0.65282    0.60164312\n",
            "  1.03955943 0.24818224 0.90058632 1.01742369 0.38225488 0.78746263\n",
            "  0.96223332 0.80652442 0.45576931 0.3469847  0.24492228 0.76410932\n",
            "  0.37370913 0.84864077 0.68840704 0.97089839 0.51212662 0.9457991\n",
            "  0.24994063 0.92822437 0.35851712 0.5142742  0.87027927 0.08416904\n",
            "  0.13152609 0.80041572 0.12152695 0.80899031]\n",
            " [0.64363825 0.18293269 0.95659533 0.53772384 0.22861358 0.91403625\n",
            "  0.51361919 0.2478547  0.33971711 0.31240455 0.44569452 0.20349309\n",
            "  0.55658158 0.32335533 0.25931285 0.32058975 0.1496928  0.50835808\n",
            "  0.75676842 1.03497951 0.75749683 0.22041735 0.04570646 0.35956134\n",
            "  0.28811997 0.6982073  0.1332832  0.87556152 0.64234396 0.78113236\n",
            "  0.83941874 0.78331639 0.50597027 0.16917864 0.47417397 0.63758468\n",
            "  0.18469043 0.50915026 0.28767047 0.29364825 0.91816607 0.15207583\n",
            "  0.21788434 0.97215521 0.75984311 0.82909903 0.7931383  0.5391102\n",
            "  0.49838487 0.45332205 0.44291447 0.17247309 0.24958159 0.48823366\n",
            "  0.5242181  0.45752408 0.53984345 0.49882956 0.61386157 0.72073125\n",
            "  0.30473547 0.73047694 0.58164874 0.71593806 0.45136223 1.02360083\n",
            "  0.7262484  0.         0.34502228 1.0844268  0.07422087 0.13521859\n",
            "  0.535737   0.77536704 0.2446886  0.70476929 0.49464551 0.06124107\n",
            "  0.48122652 1.02385894 0.2982216  0.38732809 0.52880746 0.03786184\n",
            "  0.37479465 0.13017815 0.0423675  1.11985093 0.76747974 1.01311438\n",
            "  0.70207428 0.46971289 0.62827686 0.53559231 0.1593759  0.6750221\n",
            "  0.61160311 0.12251459 0.84202282 1.02988821]\n",
            " [0.38620961 0.2158751  0.7394776  0.27949025 0.24595872 0.62983255\n",
            "  0.18211119 0.21091347 0.26197893 0.12059157 0.42282478 0.16133754\n",
            "  0.47720641 0.39620166 0.31614633 0.08370145 0.31924875 0.20007002\n",
            "  0.75513975 0.83622514 0.58410674 0.53203774 0.38750409 0.08012869\n",
            "  0.48026186 0.77988938 0.34437995 0.64697507 0.59115989 0.6519005\n",
            "  0.63590653 0.73299722 0.62945491 0.22814984 0.42003245 0.34864481\n",
            "  0.25033744 0.25110549 0.44923086 0.13533381 0.71186795 0.49616708\n",
            "  0.18795616 0.79160697 0.5543174  0.72582538 0.49556881 0.46752805\n",
            "  0.6415958  0.43595933 0.13334799 0.50687481 0.22484674 0.31403421\n",
            "  0.68866351 0.49681056 0.4157846  0.67897659 0.35793656 0.37609386\n",
            "  0.16948424 0.38692416 0.69413201 0.799279   0.59632428 0.76583399\n",
            "  0.84515541 0.34502228 0.         0.8564974  0.37205407 0.34129748\n",
            "  0.21157112 0.7869191  0.18587383 0.36498002 0.48783128 0.34404393\n",
            "  0.1428021  0.82387621 0.54942736 0.51752277 0.60227174 0.34223384\n",
            "  0.48118343 0.39679457 0.37023476 0.87810196 0.65254778 0.75403535\n",
            "  0.71333888 0.12533204 0.59392555 0.42683037 0.28332174 0.77036667\n",
            "  0.7138202  0.4445054  0.9377545  0.83040578]\n",
            " [0.47028829 1.04997892 0.12914903 0.57838883 1.09556376 0.29037954\n",
            "  0.85744986 1.06408033 0.74568263 0.97617321 0.69057142 0.90334317\n",
            "  0.57586025 0.82518404 0.844956   0.81384805 1.14169968 0.66294363\n",
            "  0.63782521 0.10788104 0.34192005 1.13622525 1.12789489 0.78752498\n",
            "  0.95791427 0.8162895  0.9815703  0.21166078 0.56509318 0.37964449\n",
            "  0.24783103 0.5307069  0.87048053 0.91648463 0.64947318 0.51748585\n",
            "  1.08775794 0.60783746 0.91993627 0.81175924 0.1726488  1.18975058\n",
            "  1.03282415 0.18073955 0.32477228 0.4084452  0.41167748 0.59392619\n",
            "  0.90550943 0.69099801 0.72432482 1.16508788 0.83487615 0.59652833\n",
            "  0.95265575 0.74781907 0.55762003 0.97768398 0.49877199 0.74737052\n",
            "  1.02540563 0.67330736 0.85995428 0.8241117  0.9019672  0.13614571\n",
            "  0.91189361 1.0844268  0.8564974  0.         1.05440317 0.97781948\n",
            "  0.87962548 0.66874459 1.03796989 0.63940376 0.68173629 1.12099409\n",
            "  0.83748785 0.10801868 1.05158261 0.87619567 0.78504267 1.10605455\n",
            "  0.84630211 1.19364476 1.07960738 0.06070717 0.41019144 0.14636872\n",
            "  0.6649353  0.80860287 0.59544911 0.56919843 1.11159803 0.84189231\n",
            "  0.84410232 1.20694119 0.89633451 0.10726557]\n",
            " [0.62929269 0.24365976 0.92562201 0.52800694 0.29577316 0.90139977\n",
            "  0.54923102 0.31039438 0.31026894 0.36113709 0.39424287 0.21527564\n",
            "  0.50917062 0.26429805 0.21290439 0.33144975 0.22356631 0.51356989\n",
            "  0.69290764 0.99894906 0.72091869 0.16388355 0.09197266 0.37076787\n",
            "  0.21474106 0.6270063  0.07527462 0.84851514 0.58741589 0.73571009\n",
            "  0.80734923 0.72533703 0.43372306 0.16071995 0.42649647 0.6320548\n",
            "  0.2519474  0.5009837  0.21715631 0.2940257  0.88534785 0.14034045\n",
            "  0.27538661 0.93315782 0.72991767 0.77836619 0.78674352 0.49111348\n",
            "  0.4250834  0.40045361 0.45216734 0.13660061 0.22850722 0.46292132\n",
            "  0.45010602 0.39551515 0.501373   0.42460869 0.60019665 0.74662057\n",
            "  0.36115277 0.74927612 0.50935325 0.6444877  0.37840067 1.00184844\n",
            "  0.65282    0.07422087 0.37205407 1.05440317 0.         0.07857497\n",
            "  0.57427816 0.70977998 0.30319569 0.71956773 0.4379507  0.1349805\n",
            "  0.51338424 0.98822363 0.22595123 0.31663665 0.46048557 0.11181648\n",
            "  0.30719646 0.19815933 0.03637571 1.09286155 0.71985395 0.99184371\n",
            "  0.63749785 0.49712196 0.57120235 0.49445765 0.23052957 0.60307032\n",
            "  0.53970642 0.1684179  0.7692026  0.99407345]\n",
            " [0.56015654 0.26214632 0.84888265 0.46236796 0.32209032 0.83214284\n",
            "  0.52301757 0.32777492 0.23638091 0.35616372 0.31614361 0.18004184\n",
            "  0.43065738 0.18884124 0.134523   0.28646777 0.27145545 0.45886569\n",
            "  0.62155738 0.92105984 0.64309333 0.19784216 0.16620489 0.32453273\n",
            "  0.16923478 0.56734099 0.00398765 0.77304874 0.51047084 0.65714884\n",
            "  0.73043671 0.64979895 0.378169   0.11378256 0.34796784 0.56822833\n",
            "  0.28064202 0.43663915 0.15877067 0.24144312 0.80817791 0.21261651\n",
            "  0.28693864 0.8548703  0.65371113 0.70038582 0.72148169 0.41263441\n",
            "  0.37450727 0.32267884 0.40194504 0.19623004 0.16222739 0.38935909\n",
            "  0.40669221 0.32242988 0.42345517 0.38558899 0.53161398 0.70760754\n",
            "  0.36682599 0.70352109 0.45354182 0.58547444 0.32644703 0.92812432\n",
            "  0.60164312 0.13521859 0.34129748 0.97781948 0.07857497 0.\n",
            "  0.55098927 0.6402508  0.31459736 0.6705141  0.36156618 0.19416992\n",
            "  0.48404044 0.91040743 0.21327517 0.25709631 0.39503977 0.17123828\n",
            "  0.24101494 0.26538829 0.11051424 1.01714721 0.64141803 0.91832949\n",
            "  0.56686547 0.46308817 0.49512709 0.41614829 0.26867595 0.54569871\n",
            "  0.48237139 0.24527675 0.71462382 0.91622323]\n",
            " [0.43777472 0.37036817 0.78044168 0.36197659 0.36631875 0.61058642\n",
            "  0.03420075 0.32857705 0.45310123 0.23075522 0.60425839 0.37120805\n",
            "  0.63187002 0.60043179 0.52421107 0.28495427 0.46695342 0.25475279\n",
            "  0.91781704 0.88531441 0.67407094 0.73712669 0.57367353 0.25951588\n",
            "  0.69147893 0.967242   0.55389786 0.6862173  0.74570811 0.76279869\n",
            "  0.697724   0.87746703 0.83052782 0.43884041 0.59178223 0.37115066\n",
            "  0.39280283 0.34486473 0.65960987 0.33947354 0.76421107 0.68742816\n",
            "  0.33353944 0.85760667 0.6240597  0.84514337 0.47415076 0.62661668\n",
            "  0.84539199 0.61752712 0.234432   0.70513097 0.43325884 0.45123546\n",
            "  0.89434723 0.68768988 0.55880785 0.88667089 0.41823957 0.2158911\n",
            "  0.26063835 0.26178298 0.89119674 0.9864353  0.80152915 0.76591092\n",
            "  1.03955943 0.535737   0.21157112 0.87962548 0.57427816 0.55098927\n",
            "  0.         0.952775   0.31465453 0.26721671 0.66728022 0.51983262\n",
            "  0.07734275 0.8728033  0.76070381 0.72324315 0.79469986 0.52425291\n",
            "  0.68527853 0.55482673 0.56696388 0.88702772 0.77144434 0.75359174\n",
            "  0.88271155 0.11256796 0.754847   0.57545488 0.43087927 0.96137687\n",
            "  0.90815127 0.6165177  1.12441244 0.87929797]\n",
            " [0.60048491 0.86101034 0.57173186 0.61338422 0.92425741 0.7418695\n",
            "  0.91877838 0.91315421 0.52968903 0.88240948 0.36790636 0.70425141\n",
            "  0.32179652 0.45555497 0.53471792 0.7044044  0.90412556 0.71059647\n",
            "  0.03911672 0.56520417 0.41516149 0.69295984 0.80175185 0.71142906\n",
            "  0.51199168 0.16168575 0.64209093 0.56912206 0.21157369 0.31677936\n",
            "  0.49597499 0.14020839 0.31156978 0.66439829 0.3669237  0.67221135\n",
            "  0.89162341 0.61991929 0.49585585 0.66004053 0.52799053 0.79860245\n",
            "  0.86897652 0.48825036 0.48780283 0.26165724 0.73388908 0.3261641\n",
            "  0.34010087 0.35546513 0.71834324 0.75306236 0.60058018 0.50373318\n",
            "  0.36300737 0.32067118 0.39831991 0.39777409 0.59840934 0.97326137\n",
            "  0.91882951 0.92024006 0.25644764 0.16333291 0.36785859 0.71700976\n",
            "  0.24818224 0.77536704 0.7869191  0.66874459 0.70977998 0.6402508\n",
            "  0.952775   0.         0.89055078 0.8714541  0.30369146 0.83415611\n",
            "  0.877354   0.56207272 0.57082292 0.40106683 0.25338036 0.81141162\n",
            "  0.4029745  0.9053984  0.74580516 0.72853806 0.28556227 0.71510108\n",
            "  0.07549734 0.84077332 0.19820817 0.37937573 0.89245829 0.19412193\n",
            "  0.22704408 0.87534925 0.23390134 0.5641576 ]\n",
            " [0.56849931 0.06208546 0.91828612 0.45958779 0.06039478 0.81570249\n",
            "  0.30065891 0.02637408 0.36835168 0.08561268 0.5246085  0.1863048\n",
            "  0.60668531 0.44984203 0.36388468 0.22768215 0.15235225 0.3859316\n",
            "  0.86353598 1.01199393 0.75011932 0.46355115 0.27391552 0.25052523\n",
            "  0.48227748 0.85182078 0.31583988 0.82717765 0.71458753 0.80574109\n",
            "  0.81070699 0.86045394 0.67593921 0.23485724 0.53531967 0.53431279\n",
            "  0.07814844 0.43015717 0.46437768 0.24795669 0.88817914 0.38882259\n",
            "  0.02798418 0.96266814 0.72837427 0.87252833 0.68115962 0.59332299\n",
            "  0.67861132 0.53638455 0.31867893 0.41650066 0.28997213 0.46974263\n",
            "  0.71634861 0.57613649 0.55925089 0.69789723 0.53947068 0.52124367\n",
            "  0.0606759  0.54858603 0.74857942 0.87092874 0.63041936 0.95072089\n",
            "  0.90058632 0.2446886  0.18587383 1.03796989 0.30319569 0.31459736\n",
            "  0.31465453 0.89055078 0.         0.53504987 0.58738345 0.21326588\n",
            "  0.27994799 0.99981515 0.52258418 0.55448298 0.67176861 0.22303511\n",
            "  0.52720671 0.24030819 0.28364707 1.06163104 0.80160637 0.93900351\n",
            "  0.81509117 0.28339644 0.71064489 0.56504889 0.11624319 0.83551888\n",
            "  0.77395637 0.30478625 1.0064183  1.00628771]\n",
            " [0.27502109 0.57707563 0.55748905 0.27150572 0.59411302 0.35589871\n",
            "  0.25787211 0.55581248 0.48358314 0.45144705 0.58648042 0.50530704\n",
            "  0.56178233 0.64188108 0.59081198 0.38813396 0.68065469 0.2163722\n",
            "  0.83296802 0.66392168 0.50922516 0.86835316 0.74884194 0.34879986\n",
            "  0.76653807 0.9300318  0.67424752 0.46807704 0.66121104 0.61398331\n",
            "  0.49978343 0.76554577 0.84075937 0.5607938  0.55729954 0.20012491\n",
            "  0.60850375 0.27849215 0.72728347 0.4290951  0.55204176 0.85270068\n",
            "  0.54497042 0.65240754 0.44262    0.70021367 0.22821524 0.56459613\n",
            "  0.86479511 0.59810866 0.2686084  0.85612601 0.51517958 0.39451218\n",
            "  0.91906756 0.68051209 0.4832575  0.92191542 0.27325987 0.11437835\n",
            "  0.49456755 0.04881749 0.88464528 0.94771842 0.82952827 0.51557294\n",
            "  1.01742369 0.70476929 0.36498002 0.63940376 0.71956773 0.6705141\n",
            "  0.26721671 0.8714541  0.53504987 0.         0.63698331 0.70864863\n",
            "  0.26054168 0.65181862 0.85399801 0.75906126 0.78168336 0.70564927\n",
            "  0.71764456 0.7611486  0.72471799 0.63814933 0.63213037 0.50336988\n",
            "  0.81248774 0.25166507 0.68013965 0.50521686 0.64403744 0.93375487\n",
            "  0.89258531 0.80912196 1.07814715 0.6580014 ]\n",
            " [0.39870915 0.56015147 0.55579989 0.36548044 0.6229563  0.6270425\n",
            "  0.63308869 0.61035843 0.22727254 0.57926155 0.06507478 0.40121354\n",
            "  0.11014919 0.17383004 0.23963046 0.40440906 0.61106676 0.44400241\n",
            "  0.27620559 0.60436958 0.34250692 0.47141243 0.52775661 0.41555307\n",
            "  0.28382324 0.30151085 0.3642327  0.50379742 0.14998603 0.31799502\n",
            "  0.44181909 0.2887086  0.21762921 0.36540264 0.08006491 0.45346611\n",
            "  0.59213401 0.36143485 0.25071617 0.35778468 0.50992404 0.55154843\n",
            "  0.56636199 0.53000006 0.38489648 0.34517657 0.56512136 0.09476013\n",
            "  0.24868101 0.05213344 0.43594357 0.51504505 0.2975497  0.24263066\n",
            "  0.30310785 0.0664803  0.16799011 0.31783971 0.38353248 0.72404142\n",
            "  0.6151688  0.68381646 0.2488938  0.32042277 0.23005998 0.67025797\n",
            "  0.38225488 0.49464551 0.48783128 0.68173629 0.4379507  0.36156618\n",
            "  0.66728022 0.30369146 0.58738345 0.63698331 0.         0.54963911\n",
            "  0.59024775 0.59557877 0.37300224 0.19446084 0.14607109 0.52808477\n",
            "  0.16639347 0.62387087 0.4718497  0.73150935 0.295584   0.66337584\n",
            "  0.22849906 0.55479857 0.13364386 0.14589832 0.59600985 0.29985427\n",
            "  0.25561047 0.60627749 0.45759388 0.60050519]\n",
            " [0.67099115 0.15205374 0.99416864 0.56274787 0.18475566 0.93851519\n",
            "  0.50085838 0.21058325 0.38121822 0.29042503 0.49824656 0.22322559\n",
            "  0.60626434 0.3803443  0.31153802 0.33446626 0.09261637 0.52232866\n",
            "  0.81476504 1.07580999 0.79955145 0.26825574 0.06482843 0.37185505\n",
            "  0.34932174 0.75915923 0.19258836 0.91067503 0.69591644 0.82873889\n",
            "  0.87813894 0.83825473 0.5671579  0.20596062 0.52450057 0.6584138\n",
            "  0.14260586 0.53339934 0.34863427 0.31670214 0.95712572 0.17681741\n",
            "  0.18926176 1.01512377 0.7974415  0.87981042 0.81348247 0.58922047\n",
            "  0.55961019 0.50656442 0.45476207 0.21043364 0.28877843 0.52477614\n",
            "  0.58506943 0.51517234 0.58430475 0.55929208 0.64097616 0.71482324\n",
            "  0.27382718 0.73073127 0.64283641 0.77694955 0.51260329 1.05442321\n",
            "  0.78746263 0.06124107 0.34404393 1.12099409 0.1349805  0.19416992\n",
            "  0.51983262 0.83415611 0.21326588 0.70864863 0.54963911 0.\n",
            "  0.47225914 1.0644475  0.35602809 0.44825228 0.58891418 0.02340701\n",
            "  0.43484147 0.07548429 0.10069121 1.15418488 0.816476   1.04361898\n",
            "  0.76046224 0.46536046 0.68304093 0.58170596 0.11041973 0.73614609\n",
            "  0.67272322 0.10047959 0.90325619 1.07058427]\n",
            " [0.38171451 0.32875145 0.73216904 0.29624797 0.33716419 0.58009167\n",
            "  0.04349042 0.29862767 0.375895   0.19457359 0.52706849 0.30413494\n",
            "  0.55715417 0.5243662  0.44950907 0.21013582 0.43030607 0.18979485\n",
            "  0.84275307 0.8353822  0.6118253  0.6743933  0.52165654 0.18281956\n",
            "  0.61896161 0.88998918 0.48714553 0.63761036 0.6713877  0.69643305\n",
            "  0.64284295 0.80506816 0.75369446 0.3706896  0.5151519  0.32136857\n",
            "  0.35640531 0.27630698 0.58605882 0.26449313 0.71252087 0.63325862\n",
            "  0.29380199 0.80277059 0.56633481 0.77739179 0.44207668 0.55133405\n",
            "  0.76897087 0.54034344 0.15973591 0.64699576 0.35904734 0.37766115\n",
            "  0.81831712 0.6103508  0.48531994 0.81129208 0.35938205 0.24314918\n",
            "  0.23499284 0.26936162 0.81399046 0.90919394 0.72544702 0.73041184\n",
            "  0.96223332 0.48122652 0.1428021  0.83748785 0.51338424 0.48404044\n",
            "  0.07734275 0.877354   0.27994799 0.26054168 0.59024775 0.47225914\n",
            "  0.         0.82284292 0.69108995 0.64737062 0.71736534 0.47388396\n",
            "  0.60906189 0.51526425 0.50937479 0.84949159 0.70344686 0.71815997\n",
            "  0.80679139 0.03695894 0.67970422 0.5012794  0.39354145 0.88403943\n",
            "  0.83083641 0.57143209 1.04722181 0.82938692]\n",
            " [0.44320083 1.00582881 0.09433161 0.54474091 1.05539607 0.32869471\n",
            "  0.84756169 1.0261643  0.68426662 0.9444635  0.61130145 0.85253405\n",
            "  0.4939478  0.74809083 0.77613705 0.77261741 1.0927729  0.63937233\n",
            "  0.53193833 0.0125393  0.26731649 1.05899529 1.06600941 0.75028449\n",
            "  0.87648574 0.71166541 0.91402265 0.18683184 0.46995575 0.28343639\n",
            "  0.18926562 0.42502273 0.77502912 0.8585548  0.57176472 0.50231659\n",
            "  1.04360715 0.5727755  0.83996708 0.76377592 0.11201711 1.12029429\n",
            "  0.99197461 0.07405771 0.2716913  0.30321838 0.42587222 0.51242997\n",
            "  0.81013235 0.6102436  0.69525507 1.09241428 0.7758827  0.54148107\n",
            "  0.85561469 0.66065624 0.48695878 0.8819829  0.46887211 0.764286\n",
            "  0.99328663 0.69092537 0.76027796 0.71888889 0.80960131 0.20499615\n",
            "  0.80652442 1.02385894 0.82387621 0.10801868 0.98822363 0.91040743\n",
            "  0.8728033  0.56207272 0.99981515 0.65181862 0.59557877 1.0644475\n",
            "  0.82284292 0.         0.96817416 0.78920563 0.68974489 1.04804092\n",
            "  0.76171318 1.13853171 1.01552453 0.16869985 0.31228972 0.2106516\n",
            "  0.56116721 0.79119001 0.49971495 0.49542849 1.06464346 0.73808555\n",
            "  0.74302094 1.14596145 0.78866185 0.00656183]\n",
            " [0.69517173 0.46583535 0.92396151 0.61472089 0.52082868 0.95810742\n",
            "  0.73149083 0.53270774 0.3772106  0.56915988 0.36237093 0.39003376\n",
            "  0.4757705  0.23660233 0.2639686  0.48556359 0.44758665 0.63774626\n",
            "  0.56473758 0.9771418  0.7099152  0.12579141 0.29842758 0.52076536\n",
            "  0.09666559 0.45298712 0.21105058 0.86312336 0.51244154 0.69054991\n",
            "  0.80717916 0.62603436 0.26181946 0.32208941 0.40448606 0.72165626\n",
            "  0.47724348 0.59426412 0.13786509 0.4344992  0.8790144  0.24566344\n",
            "  0.49461266 0.90300199 0.74126749 0.70902852 0.8656916  0.45765741\n",
            "  0.23993308 0.36089562 0.59019238 0.19442731 0.34148078 0.51328755\n",
            "  0.24650701 0.30957887 0.50338455 0.2148546  0.6701546  0.90413562\n",
            "  0.57746543 0.89155676 0.33086724 0.46766679 0.20369995 1.02753533\n",
            "  0.45576931 0.2982216  0.54942736 1.05158261 0.22595123 0.21327517\n",
            "  0.76070381 0.57082292 0.52258418 0.85399801 0.37300224 0.35602809\n",
            "  0.69108995 0.96817416 0.         0.18405798 0.32164542 0.33409534\n",
            "  0.20661067 0.40559804 0.25618058 1.09901497 0.66679091 1.01936475\n",
            "  0.50834972 0.66721164 0.48741587 0.48760373 0.45644184 0.42334189\n",
            "  0.36353103 0.348977   0.57666599 0.97319256]\n",
            " [0.55863175 0.50995745 0.750133   0.49716162 0.57250603 0.80754169\n",
            "  0.69055518 0.57200739 0.2802687  0.57515353 0.19977515 0.38098761\n",
            "  0.30238387 0.12319276 0.20216535 0.4385694  0.52854404 0.54689972\n",
            "  0.38981006 0.7977434  0.53652787 0.29670026 0.40755736 0.46489896\n",
            "  0.11096775 0.31090796 0.25785453 0.6956888  0.32873223 0.50902996\n",
            "  0.63548004 0.44363447 0.12210977 0.3208569  0.24171644 0.59906116\n",
            "  0.53330949 0.48316132 0.09966989 0.3841279  0.704343   0.39759772\n",
            "  0.52846442 0.72245656 0.57521188 0.52503111 0.73012514 0.2852441\n",
            "  0.12558355 0.19434486 0.51547801 0.35287933 0.29297184 0.38066027\n",
            "  0.17123236 0.12859199 0.34371019 0.16532912 0.53754231 0.8282172\n",
            "  0.59821625 0.80191096 0.19679889 0.3287666  0.07888325 0.86180941\n",
            "  0.3469847  0.38732809 0.51752277 0.87619567 0.31663665 0.25709631\n",
            "  0.72324315 0.40106683 0.55448298 0.75906126 0.19446084 0.44825228\n",
            "  0.64737062 0.78920563 0.18405798 0.         0.1477396  0.42488436\n",
            "  0.04145604 0.51478452 0.3530021  0.92581588 0.48428132 0.85446478\n",
            "  0.33315779 0.61678148 0.30338519 0.32476645 0.52474379 0.28860938\n",
            "  0.22527569 0.47746321 0.45778992 0.79401301]\n",
            " [0.54399309 0.63394624 0.66482278 0.51030587 0.69744411 0.76281418\n",
            "  0.76075922 0.6919108  0.34245173 0.67908624 0.19696795 0.48869053\n",
            "  0.24492795 0.22212481 0.30788719 0.51899283 0.66455412 0.58388576\n",
            "  0.24366667 0.69685022 0.45880442 0.44114048 0.55218993 0.53690476\n",
            "  0.25861924 0.18041141 0.39642441 0.62545836 0.2200666  0.40647745\n",
            "  0.55804489 0.30826891 0.08543895 0.43778225 0.22460799 0.59953659\n",
            "  0.66104133 0.50460967 0.24419039 0.46738252 0.61801645 0.54522209\n",
            "  0.64756045 0.61888771 0.51211448 0.40440835 0.70861304 0.23368936\n",
            "  0.12049513 0.18456948 0.56890681 0.49988977 0.38892231 0.38721718\n",
            "  0.16930295 0.10706597 0.31240159 0.19264267 0.52944338 0.86597726\n",
            "  0.70876282 0.82809173 0.10303455 0.19968652 0.12619128 0.79094398\n",
            "  0.24492228 0.52880746 0.60227174 0.78504267 0.46048557 0.39503977\n",
            "  0.79469986 0.25338036 0.67176861 0.78168336 0.14607109 0.58891418\n",
            "  0.71736534 0.68974489 0.32164542 0.1477396  0.         0.56576022\n",
            "  0.15407341 0.65792515 0.49679408 0.8390034  0.37758683 0.78525097\n",
            "  0.18706198 0.68330346 0.19004138 0.28987433 0.65694257 0.16811339\n",
            "  0.11389552 0.62394175 0.33712521 0.69384461]\n",
            " [0.65920978 0.16103279 0.9788321  0.55171003 0.19979632 0.92794657\n",
            "  0.50401495 0.22285315 0.36406326 0.29668322 0.47747826 0.21300427\n",
            "  0.58651331 0.35809296 0.29072199 0.32701989 0.11357482 0.51531077\n",
            "  0.79227198 1.05931885 0.78254387 0.24983881 0.05088509 0.36512647\n",
            "  0.32597764 0.73578861 0.1695672  0.89620214 0.67487214 0.80978093\n",
            "  0.86235223 0.81677401 0.5437509  0.18973656 0.5044912  0.64901686\n",
            "  0.15653524 0.522607   0.32525632 0.30583862 0.9412782  0.1659426\n",
            "  0.19765462 0.99785256 0.78202606 0.85978194 0.80438064 0.56931618\n",
            "  0.53624671 0.48557129 0.44841321 0.1952234  0.27217743 0.50954865\n",
            "  0.56191868 0.49275536 0.56634462 0.53631981 0.62925633 0.7155748\n",
            "  0.28369244 0.72913169 0.61942942 0.75356678 0.48921487 1.04156242\n",
            "  0.76410932 0.03786184 0.34223384 1.10605455 0.11181648 0.17123828\n",
            "  0.52425291 0.81141162 0.22303511 0.70564927 0.52808477 0.02340701\n",
            "  0.47388396 1.04804092 0.33409534 0.42488436 0.56576022 0.\n",
            "  0.41169452 0.09585751 0.0781205  1.1400662  0.79702979 1.03087137\n",
            "  0.73784032 0.46518375 0.66159443 0.56317059 0.12732273 0.71274436\n",
            "  0.64932188 0.10614914 0.87985553 1.05414036]\n",
            " [0.51854232 0.48546632 0.71932273 0.4558301  0.5486095  0.76973143\n",
            "  0.6523601  0.54583792 0.2396839  0.54345949 0.16269696 0.34962177\n",
            "  0.27067575 0.08504094 0.16826324 0.4011494  0.51116857 0.50570642\n",
            "  0.38785699 0.77061139 0.50529334 0.30930929 0.39910552 0.42633783\n",
            "  0.11988559 0.32843345 0.24236402 0.66206562 0.30870813 0.48413118\n",
            "  0.60353122 0.43224293 0.1503757  0.29243489 0.20510178 0.55801706\n",
            "  0.51075743 0.44171457 0.09411347 0.34690084 0.67395492 0.40100848\n",
            "  0.50184934 0.69639331 0.54093598 0.50597037 0.69017766 0.25293025\n",
            "  0.16045034 0.15865004 0.47514293 0.35949846 0.25763554 0.33984017\n",
            "  0.20941666 0.10413653 0.30683301 0.20588395 0.4970608  0.78729994\n",
            "  0.56861988 0.76056925 0.22142014 0.34703783 0.11653244 0.8277539\n",
            "  0.37370913 0.37479465 0.48118343 0.84630211 0.30719646 0.24101494\n",
            "  0.68527853 0.4029745  0.52720671 0.71764456 0.16639347 0.43484147\n",
            "  0.60906189 0.76171318 0.20661067 0.04145604 0.15407341 0.41169452\n",
            "  0.         0.50412075 0.34339493 0.89478683 0.46087368 0.8201364\n",
            "  0.33176742 0.57796711 0.2856358  0.28870803 0.50476142 0.30938499\n",
            "  0.24707412 0.47241331 0.48009576 0.7666953 ]\n",
            " [0.7399387  0.18651427 1.06727854 0.63083129 0.19508927 1.0052567\n",
            "  0.53954075 0.22941843 0.45608165 0.32445207 0.57327338 0.29214516\n",
            "  0.68171714 0.45335519 0.38651591 0.39806292 0.08917845 0.58387254\n",
            "  0.8869443  1.14996178 0.87414686 0.3023382  0.10909537 0.43387098\n",
            "  0.41166279 0.82510938 0.26340343 0.98288599 0.77072574 0.90418822\n",
            "  0.95172609 0.91257323 0.63144875 0.28058523 0.59989293 0.7236726\n",
            "  0.16226447 0.60119745 0.41524417 0.38556251 1.03074378 0.18918544\n",
            "  0.22211029 1.08985585 0.8707084  0.95520921 0.87792245 0.66464277\n",
            "  0.62153299 0.58141634 0.51545206 0.23486162 0.36343178 0.59805911\n",
            "  0.64320976 0.58768189 0.65947737 0.61546011 0.70988629 0.7582783\n",
            "  0.29746739 0.77991035 0.70698976 0.8425223  0.5754923  1.12452037\n",
            "  0.84864077 0.13017815 0.39679457 1.19364476 0.19815933 0.26538829\n",
            "  0.55482673 0.9053984  0.24030819 0.7611486  0.62387087 0.07548429\n",
            "  0.51526425 1.13853171 0.40559804 0.51478452 0.65792515 0.09585751\n",
            "  0.50412075 0.         0.16181714 1.22587349 0.89195963 1.11356575\n",
            "  0.83221306 0.51287568 0.75740953 0.6570783  0.1241289  0.80089238\n",
            "  0.73758377 0.07613218 0.96610929 1.14469826]\n",
            " [0.6476922  0.22247962 0.9511239  0.54419281 0.27033774 0.91937119\n",
            "  0.54345986 0.28825973 0.3340534  0.34761625 0.42648966 0.21960474\n",
            "  0.54026078 0.29858459 0.24273933 0.33738129 0.19142575 0.52292502\n",
            "  0.7286429  1.0264014  0.74839302 0.1799799  0.0562407  0.37675722\n",
            "  0.25053369 0.66330685 0.10768325 0.87242542 0.62093859 0.7663408\n",
            "  0.8331915  0.75976242 0.46986273 0.1734857  0.45755101 0.64658737\n",
            "  0.226366   0.51641587 0.25353199 0.30462388 0.91153188 0.12809479\n",
            "  0.25635249 0.96166026 0.75486012 0.81074347 0.80187142 0.52237616\n",
            "  0.4608045  0.43316114 0.45942846 0.13816809 0.2481177  0.4855843\n",
            "  0.48487286 0.43074485 0.52927697 0.45873295 0.61825361 0.74624525\n",
            "  0.34307011 0.75249034 0.54546645 0.68075501 0.41431464 1.02372535\n",
            "  0.68840704 0.0423675  0.37023476 1.07960738 0.03637571 0.11051424\n",
            "  0.56696388 0.74580516 0.28364707 0.72471799 0.4718497  0.10069121\n",
            "  0.50937479 1.01552453 0.25618058 0.3530021  0.49679408 0.0781205\n",
            "  0.34339493 0.16181714 0.         1.11689585 0.75120747 1.01351693\n",
            "  0.67334866 0.49554235 0.60531529 0.52332886 0.20172391 0.63925326\n",
            "  0.57590782 0.1347826  0.80510681 1.02144369]\n",
            " [0.49331221 1.07680545 0.17571797 0.60302407 1.12008706 0.28279228\n",
            "  0.86669793 1.08750947 0.78294321 0.99663805 0.73697386 0.93431209\n",
            "  0.62412257 0.86996875 0.88548152 0.84028311 1.17076863 0.6812937\n",
            "  0.69721819 0.16846505 0.38950202 1.18027948 1.16389463 0.81203496\n",
            "  1.00451919 0.87493316 1.02095661 0.24447244 0.6195088  0.43535788\n",
            "  0.29196841 0.59006784 0.92438157 0.95111169 0.695325   0.53337516\n",
            "  1.11444723 0.6328383  0.96588927 0.84173851 0.22193633 1.22960687\n",
            "  1.05795175 0.24102131 0.36381709 0.46773012 0.41377725 0.64188859\n",
            "  0.9593239  0.73812003 0.74500658 1.20669203 0.87042287 0.6317462\n",
            "  1.0072656  0.7978594  0.60073987 1.03157519 0.52269464 0.74238373\n",
            "  1.04586666 0.66865788 0.91601269 0.88306947 0.95425644 0.12259318\n",
            "  0.97089839 1.11985093 0.87810196 0.06070717 1.09286155 1.01714721\n",
            "  0.88702772 0.72853806 1.06163104 0.63814933 0.73150935 1.15418488\n",
            "  0.84949159 0.16869985 1.09901497 0.92581588 0.8390034  1.1400662\n",
            "  0.89478683 1.22587349 1.11689585 0.         0.4664232  0.13477951\n",
            "  0.72324311 0.82232889 0.65004715 0.61369092 1.13970714 0.90009314\n",
            "  0.90089352 1.24226419 0.95668746 0.16796159]\n",
            " [0.35822979 0.791353   0.29717006 0.40965961 0.84927293 0.45728984\n",
            "  0.73960201 0.82732897 0.44268265 0.76697991 0.32639266 0.62821169\n",
            "  0.21102086 0.46236851 0.50883844 0.58106942 0.86266683 0.51672338\n",
            "  0.24852301 0.31926677 0.13429081 0.76685451 0.80544082 0.5724576\n",
            "  0.57932892 0.41436532 0.64461011 0.28386571 0.15844213 0.0321918\n",
            "  0.21065439 0.14972877 0.46279404 0.61499416 0.29368796 0.43438792\n",
            "  0.82752434 0.42723287 0.54604812 0.5536497  0.25104256 0.84219836\n",
            "  0.78691017 0.24141266 0.20888373 0.07402084 0.4628712  0.22883181\n",
            "  0.49789732 0.32172726 0.54794211 0.80833141 0.53418486 0.33851547\n",
            "  0.54345139 0.35722458 0.24241357 0.56970044 0.36634729 0.74239614\n",
            "  0.81184506 0.68026836 0.44977769 0.42474972 0.4987131  0.43691752\n",
            "  0.51212662 0.76747974 0.65254778 0.41019144 0.71985395 0.64141803\n",
            "  0.77144434 0.28556227 0.80160637 0.63213037 0.295584   0.816476\n",
            "  0.70344686 0.31228972 0.66679091 0.48428132 0.37758683 0.79702979\n",
            "  0.46087368 0.89195963 0.75120747 0.4664232  0.         0.43387209\n",
            "  0.26218777 0.66692096 0.18768598 0.23866108 0.84051143 0.43694758\n",
            "  0.43454024 0.88562333 0.51918086 0.31630225]\n",
            " [0.37434253 0.95770965 0.14893952 0.48437108 0.99820829 0.14827817\n",
            "  0.7339935  0.96456328 0.68204168 0.87107585 0.65828553 0.82143523\n",
            "  0.55333164 0.78505197 0.79024094 0.72180443 1.05419393 0.55517406\n",
            "  0.67991509 0.21834593 0.32658647 1.09106882 1.05796015 0.69141504\n",
            "  0.92323291 0.84784795 0.92223333 0.16001608 0.57214018 0.40170239\n",
            "  0.22847195 0.57506412 0.86927264 0.8439477  0.61581506 0.40626505\n",
            "  0.99505886 0.51429009 0.88313379 0.72801984 0.18818273 1.1307069\n",
            "  0.93693335 0.26062335 0.27927142 0.45647714 0.27966805 0.56972727\n",
            "  0.9034482  0.66150185 0.62069258 1.11162137 0.76546719 0.52907255\n",
            "  0.95448777 0.72954361 0.51598305 0.97532128 0.40432649 0.60798075\n",
            "  0.92016582 0.53415793 0.87148362 0.85857193 0.89215671 0.01232016\n",
            "  0.9457991  1.01311438 0.75403535 0.14636872 0.99184371 0.91832949\n",
            "  0.75359174 0.71510108 0.93900351 0.50336988 0.66337584 1.04361898\n",
            "  0.71815997 0.2106516  1.01936475 0.85446478 0.78525097 1.03087137\n",
            "  0.8201364  1.11356575 1.01351693 0.13477951 0.43387209 0.\n",
            "  0.69593778 0.6920818  0.6027393  0.53219729 1.02199017 0.86921961\n",
            "  0.86069455 1.13484108 0.94858122 0.21421561]\n",
            " [0.54556208 0.78555569 0.55824919 0.54963555 0.84878575 0.70818014\n",
            "  0.84861532 0.83766635 0.45502678 0.80757077 0.29297738 0.62878829\n",
            "  0.25501332 0.38107165 0.45950253 0.63052349 0.82942312 0.6439232\n",
            "  0.05667552 0.56589345 0.38147079 0.62815599 0.72943895 0.63856746\n",
            "  0.44398138 0.15234977 0.56880999 0.54339595 0.15236708 0.29437943\n",
            "  0.47050874 0.1408531  0.25529021 0.58901665 0.29381707 0.61490017\n",
            "  0.81626224 0.55421328 0.42542764 0.58549314 0.51263349 0.73036868\n",
            "  0.7934833  0.48726406 0.45062284 0.25852892 0.6879486  0.25728096\n",
            "  0.28695214 0.280414   0.6484422  0.6860332  0.52512578 0.43627587\n",
            "  0.31829195 0.24598509 0.33317217 0.35101738 0.54085197 0.91151056\n",
            "  0.84366207 0.8611063  0.21280713 0.16266201 0.30828972 0.69909495\n",
            "  0.24994063 0.70207428 0.71333888 0.6649353  0.63749785 0.56686547\n",
            "  0.88271155 0.07549734 0.81509117 0.81248774 0.22849906 0.76046224\n",
            "  0.80679139 0.56116721 0.50834972 0.33315779 0.18706198 0.73784032\n",
            "  0.33176742 0.83221306 0.67334866 0.72324311 0.26218777 0.69593778\n",
            "  0.         0.77040421 0.13261365 0.3130231  0.81737467 0.17698112\n",
            "  0.18871138 0.80393911 0.27095771 0.56406598]\n",
            " [0.34888262 0.32718272 0.70121837 0.26057174 0.34249951 0.55647733\n",
            "  0.07837142 0.30426717 0.3427896  0.20004673 0.49194974 0.28437604\n",
            "  0.52037129 0.4936108  0.42084023 0.18267797 0.43030707 0.15491635\n",
            "  0.80606716 0.80372521 0.57660853 0.65615297 0.51155953 0.15202478\n",
            "  0.5924375  0.85501983 0.46634742 0.60670649 0.63454494 0.66020631\n",
            "  0.60978071 0.76810939 0.72136113 0.34931631 0.4792174  0.29132355\n",
            "  0.35745813 0.23995786 0.55848303 0.2362462  0.68041803 0.62119838\n",
            "  0.2940235  0.76954284 0.53248004 0.74089014 0.4185583  0.51469013\n",
            "  0.73742082 0.50520655 0.12284686 0.6321768  0.33131651 0.34072002\n",
            "  0.78737298 0.57624166 0.44838159 0.781272   0.32565969 0.25102311\n",
            "  0.24457217 0.26707589 0.78063338 0.87418567 0.69447773 0.70427772\n",
            "  0.92822437 0.46971289 0.12533204 0.80860287 0.49712196 0.46308817\n",
            "  0.11256796 0.84077332 0.28339644 0.25166507 0.55479857 0.46536046\n",
            "  0.03695894 0.79119001 0.66721164 0.61678148 0.68330346 0.46518375\n",
            "  0.57796711 0.51287568 0.49554235 0.82232889 0.66692096 0.6920818\n",
            "  0.77040421 0.         0.64303052 0.46440428 0.3935592  0.84956155\n",
            "  0.79694272 0.5654249  1.01206531 0.79774358]\n",
            " [0.41510947 0.68754178 0.47685695 0.41719024 0.74959327 0.5959949\n",
            "  0.7209028  0.73454607 0.34326726 0.69461995 0.18843283 0.52590312\n",
            "  0.12363386 0.30690599 0.37228265 0.51268495 0.74280082 0.51271517\n",
            "  0.16305564 0.50688562 0.27721427 0.59494378 0.6612864  0.51686161\n",
            "  0.40551531 0.26229872 0.49775724 0.44439742 0.03073474 0.21645099\n",
            "  0.37429259 0.15522379 0.27539291 0.49541162 0.1762083  0.48317918\n",
            "  0.72068528 0.42242667 0.3766694  0.47158214 0.43002791 0.6816936\n",
            "  0.69113277 0.42909163 0.33876887 0.2216688  0.56333014 0.12841134\n",
            "  0.31048744 0.17824164 0.5204362  0.64309188 0.42320838 0.3055713\n",
            "  0.35726429 0.18232169 0.20096195 0.38248826 0.4091645  0.77890269\n",
            "  0.73368483 0.72870976 0.2688204  0.27753196 0.31146768 0.6076024\n",
            "  0.35851712 0.62827686 0.59392555 0.59544911 0.57120235 0.49512709\n",
            "  0.754847   0.19820817 0.71064489 0.68013965 0.13364386 0.68304093\n",
            "  0.67970422 0.49971495 0.48741587 0.30338519 0.19004138 0.66159443\n",
            "  0.2856358  0.75740953 0.60531529 0.65004715 0.18768598 0.6027393\n",
            "  0.13261365 0.64303052 0.         0.18140065 0.7264547  0.27603486\n",
            "  0.25867804 0.73959859 0.39992601 0.50383993]\n",
            " [0.25441549 0.55289554 0.44027733 0.23748657 0.61134454 0.48416921\n",
            "  0.54172189 0.59048691 0.20422001 0.53597107 0.12620887 0.38959602\n",
            "  0.05801204 0.2562893  0.28162546 0.34995174 0.62453429 0.33131542\n",
            "  0.34327897 0.50578703 0.22883553 0.56705355 0.57572611 0.34738696\n",
            "  0.39196351 0.42499987 0.4196675  0.3755417  0.17025701 0.2476968\n",
            "  0.32199914 0.30682125 0.36350475 0.37797945 0.08370623 0.31382765\n",
            "  0.58893633 0.24119751 0.35262667 0.31757193 0.39705771 0.62493849\n",
            "  0.54938329 0.43872203 0.25366467 0.30785468 0.41930411 0.05955105\n",
            "  0.39417978 0.13043376 0.34155742 0.59731957 0.296302   0.1245714\n",
            "  0.44881636 0.2066219  0.02270699 0.46233055 0.24160614 0.60018025\n",
            "  0.57895906 0.55326398 0.39133646 0.44255347 0.3724689  0.54014703\n",
            "  0.5142742  0.53559231 0.42683037 0.56919843 0.49445765 0.41614829\n",
            "  0.57545488 0.37937573 0.56504889 0.50521686 0.14589832 0.58170596\n",
            "  0.5012794  0.49542849 0.48760373 0.32476645 0.28987433 0.56317059\n",
            "  0.28870803 0.6570783  0.52332886 0.61369092 0.23866108 0.53219729\n",
            "  0.3130231  0.46440428 0.18140065 0.         0.60193191 0.43019117\n",
            "  0.39405795 0.65611215 0.57355585 0.50110246]\n",
            " [0.6478821  0.06745733 0.98801836 0.5377479  0.07534041 0.90606281\n",
            "  0.41627491 0.10615179 0.39784328 0.2009472  0.53809196 0.21403961\n",
            "  0.63539962 0.43805196 0.35800956 0.30018576 0.03679383 0.47836846\n",
            "  0.86941086 1.07649189 0.8059134  0.37716071 0.17518307 0.33193008\n",
            "  0.43581016 0.8331214  0.26847211 0.89993834 0.73518131 0.84881574\n",
            "  0.87574928 0.88057046 0.64641248 0.23104587 0.55728108 0.62320011\n",
            "  0.03813646 0.50781793 0.42734837 0.30092671 0.95445712 0.28596763\n",
            "  0.09980261 1.02144481 0.79354247 0.90812051 0.77483154 0.61989561\n",
            "  0.64315618 0.54827601 0.40961673 0.32084596 0.3073824  0.5243474\n",
            "  0.67393279 0.57198551 0.60035404 0.65088241 0.61803685 0.63602018\n",
            "  0.17364693 0.66039852 0.72152509 0.85160492 0.59512135 1.03335253\n",
            "  0.87027927 0.1593759  0.28332174 1.11159803 0.23052957 0.26867595\n",
            "  0.43087927 0.89245829 0.11624319 0.64403744 0.59600985 0.11041973\n",
            "  0.39354145 1.06464346 0.45644184 0.52474379 0.65694257 0.12732273\n",
            "  0.50476142 0.1241289  0.20172391 1.13970714 0.84051143 1.02199017\n",
            "  0.81737467 0.3935592  0.7264547  0.60193191 0.         0.81284223\n",
            "  0.74972863 0.19134487 0.98252685 1.07098737]\n",
            " [0.6815145  0.79483268 0.73394967 0.66291674 0.85799449 0.87156232\n",
            "  0.92733819 0.85473754 0.51010165 0.84608385 0.35894774 0.65443277\n",
            "  0.37634842 0.38623075 0.4725611  0.6870421  0.81715146 0.74384721\n",
            "  0.21238681 0.74269815 0.54880054 0.54912915 0.69250026 0.70440012\n",
            "  0.38961055 0.03428475 0.54646216 0.71407269 0.30447196 0.46902956\n",
            "  0.64194027 0.31527925 0.16946992 0.60071877 0.37970319 0.74394921\n",
            "  0.81996892 0.66062868 0.3877572  0.63549496 0.68797478 0.66588847\n",
            "  0.81059245 0.66414291 0.61377954 0.4351758  0.8369485  0.37069263\n",
            "  0.18395995 0.34589637 0.7333603  0.61619566 0.55604385 0.5410672\n",
            "  0.18620055 0.27418943 0.45270982 0.22214614 0.67121099 1.02345216\n",
            "  0.87454454 0.98122952 0.09426839 0.0446332  0.22654552 0.87290336\n",
            "  0.08416904 0.6750221  0.77036667 0.84189231 0.60307032 0.54569871\n",
            "  0.96137687 0.19412193 0.83551888 0.93375487 0.29985427 0.73614609\n",
            "  0.88403943 0.73808555 0.42334189 0.28860938 0.16811339 0.71274436\n",
            "  0.30938499 0.80089238 0.63925326 0.90009314 0.43694758 0.86921961\n",
            "  0.17698112 0.84956155 0.27603486 0.43019117 0.81284223 0.\n",
            "  0.06342485 0.75807729 0.17090294 0.74093381]\n",
            " [0.64809375 0.73247268 0.73079249 0.62108715 0.7955265  0.85241187\n",
            "  0.87426226 0.79284861 0.45541536 0.78645489 0.31025498 0.59399051\n",
            "  0.3437145  0.32560239 0.41187844 0.63089852 0.75381369 0.69714156\n",
            "  0.23569475 0.74860755 0.53585047 0.48913674 0.62927016 0.6498786\n",
            "  0.32649085 0.08964863 0.48310986 0.70291162 0.288964   0.46593396\n",
            "  0.63225813 0.32925709 0.10632019 0.53909915 0.33547224 0.70702984\n",
            "  0.7572266  0.61662931 0.32434319 0.5785965  0.68420342 0.60446691\n",
            "  0.74879694 0.66974812 0.59651523 0.44347437 0.80856153 0.33546608\n",
            "  0.1236275  0.29761929 0.68280232 0.5552332  0.49687054 0.49821891\n",
            "  0.13638925 0.2208472  0.41676462 0.17173597 0.63554654 0.97871424\n",
            "  0.81393101 0.93941519 0.03270787 0.10556785 0.16402147 0.86522103\n",
            "  0.13152609 0.61160311 0.7138202  0.84410232 0.53970642 0.48237139\n",
            "  0.90815127 0.22704408 0.77395637 0.89258531 0.25561047 0.67272322\n",
            "  0.83083641 0.74302094 0.36353103 0.22527569 0.11389552 0.64932188\n",
            "  0.24707412 0.73758377 0.57590782 0.90089352 0.43454024 0.86069455\n",
            "  0.18871138 0.79694272 0.25867804 0.39405795 0.74972863 0.06342485\n",
            "  0.         0.69531895 0.23314242 0.74636196]\n",
            " [0.76420678 0.24625907 1.07908827 0.65722783 0.26559737 1.03358158\n",
            "  0.59883123 0.2973785  0.46204357 0.38595585 0.56124797 0.31906583\n",
            "  0.67461717 0.43270338 0.37683882 0.4330085  0.1600349  0.62124185\n",
            "  0.85971127 1.15702634 0.8793453  0.23661277 0.08039788 0.47092543\n",
            "  0.3694321  0.78416351 0.24238658 0.99801657 0.75557136 0.90033166\n",
            "  0.96184349 0.89374773 0.58907062 0.29126916 0.5919355  0.75508031\n",
            "  0.22856588 0.62825958 0.37981707 0.41162688 1.04055337 0.1167718\n",
            "  0.28334745 1.09360539 0.88234723 0.94549344 0.91047962 0.65682144\n",
            "  0.57575185 0.56794246 0.55410138 0.16596618 0.37209035 0.61071621\n",
            "  0.59242928 0.56351313 0.6611016  0.5626822  0.73431479 0.81432984\n",
            "  0.3640978  0.83110661 0.66380912 0.80085001 0.53153492 1.14540778\n",
            "  0.80041572 0.12251459 0.4445054  1.20694119 0.1684179  0.24527675\n",
            "  0.6165177  0.87534925 0.30478625 0.80912196 0.60627749 0.10047959\n",
            "  0.57143209 1.14596145 0.348977   0.47746321 0.62394175 0.10614914\n",
            "  0.47241331 0.07613218 0.1347826  1.24226419 0.88562333 1.13484108\n",
            "  0.80393911 0.5654249  0.73959859 0.65611215 0.19134487 0.75807729\n",
            "  0.69531895 0.         0.91972161 1.15196616]\n",
            " [0.81501288 0.9655562  0.80418221 0.8107186  1.02864793 0.97423596\n",
            "  1.09024956 1.02562585 0.67627552 1.01615603 0.5201562  0.82503824\n",
            "  0.51645099 0.55700655 0.64331734 0.85416362 0.98586227 0.89843659\n",
            "  0.27072967 0.79068772 0.64693908 0.70139221 0.857206   0.86969026\n",
            "  0.55458573 0.15787365 0.7152209  0.80292962 0.42261525 0.55057209\n",
            "  0.72975224 0.37354542 0.33654251 0.77162171 0.53535505 0.88268992\n",
            "  0.99035489 0.81181083 0.55605619 0.80347621 0.76105243 0.82213586\n",
            "  0.9814904  0.71566686 0.71833886 0.49331538 0.95883058 0.51473634\n",
            "  0.34463561 0.50688552 0.89352113 0.77109326 0.72599772 0.69196461\n",
            "  0.33032535 0.44100181 0.59515443 0.36358838 0.80876657 1.17340401\n",
            "  1.04517804 1.12644041 0.26108366 0.13849614 0.39080347 0.95025696\n",
            "  0.12152695 0.84202282 0.9377545  0.89633451 0.7692026  0.71462382\n",
            "  1.12441244 0.23390134 1.0064183  1.07814715 0.45759388 0.90325619\n",
            "  1.04722181 0.78866185 0.57666599 0.45778992 0.33712521 0.87985553\n",
            "  0.48009576 0.96610929 0.80510681 0.95668746 0.51918086 0.94858122\n",
            "  0.27095771 1.01206531 0.39992601 0.57355585 0.98252685 0.17090294\n",
            "  0.23314242 0.91972161 0.         0.79018759]\n",
            " [0.44976244 1.01222294 0.10054742 0.55128273 1.06184217 0.33387509\n",
            "  0.85407909 1.03263806 0.69032545 0.95099377 0.61665187 0.85882518\n",
            "  0.49919962 0.75351505 0.78192378 0.77907111 1.09907848 0.645934\n",
            "  0.53430609 0.00601727 0.27315477 1.0643567  1.07199399 0.75678274\n",
            "  0.88164239 0.71433542 0.91983283 0.19328049 0.47416237 0.28769578\n",
            "  0.19569794 0.42749013 0.77909074 0.86467928 0.57721383 0.50883912\n",
            "  1.04999866 0.57930661 0.84521573 0.77013124 0.118555   1.1260039\n",
            "  0.99841584 0.07680503 0.27812242 0.30589533 0.43191304 0.51769672\n",
            "  0.81419434 0.61551075 0.70180773 1.09799071 0.7819917  0.54774236\n",
            "  0.85948099 0.66548641 0.49276828 0.88599614 0.47543175 0.77040094\n",
            "  0.99981247 0.69700684 0.7638245  0.72140719 0.81396255 0.20826963\n",
            "  0.80899031 1.02988821 0.83040578 0.10726557 0.99407345 0.91622323\n",
            "  0.87929797 0.5641576  1.00628771 0.6580014  0.60050519 1.07058427\n",
            "  0.82938692 0.00656183 0.97319256 0.79401301 0.69384461 1.05414036\n",
            "  0.7666953  1.14469826 1.02144369 0.16796159 0.31630225 0.21421561\n",
            "  0.56406598 0.79774358 0.50383993 0.50110246 1.07098737 0.74093381\n",
            "  0.74636196 1.15196616 0.79018759 0.        ]]\n"
          ]
        }
      ],
      "source": [
        "Z = np.random.random((100,2))\n",
        "X,Y = np.atleast_2d(Z[:,0], Z[:,1])\n",
        "D = np.sqrt( (X-X.T)**2 + (Y-Y.T)**2)\n",
        "print(D)"
      ]
    },
    {
      "cell_type": "markdown",
      "id": "f5c164f2",
      "metadata": {
        "id": "f5c164f2"
      },
      "source": [
        "#### 53. How to convert a float (32 bits) array into an integer (32 bits) in place?"
      ]
    },
    {
      "cell_type": "code",
      "execution_count": null,
      "id": "ea262de8",
      "metadata": {
        "colab": {
          "base_uri": "https://localhost:8080/"
        },
        "id": "ea262de8",
        "outputId": "bd8df708-29bf-410c-b33b-61fb577374d4"
      },
      "outputs": [
        {
          "output_type": "stream",
          "name": "stdout",
          "text": [
            "[40 91 32 44 61 40 70 94 39 66]\n"
          ]
        }
      ],
      "source": [
        "Z = (np.random.rand(10)*100).astype(np.float32)\n",
        "Y = Z.view(np.int32)\n",
        "Y[:] = Z\n",
        "print(Y)"
      ]
    },
    {
      "cell_type": "markdown",
      "id": "a8b7e6f5",
      "metadata": {
        "id": "a8b7e6f5"
      },
      "source": [
        "#### 54. How to read the following file? (★★☆)\n",
        "```\n",
        "1, 2, 3, 4, 5\n",
        "6,  ,  , 7, 8\n",
        " ,  , 9,10,11\n",
        "```"
      ]
    },
    {
      "cell_type": "code",
      "execution_count": null,
      "id": "bde0538a",
      "metadata": {
        "colab": {
          "base_uri": "https://localhost:8080/"
        },
        "id": "bde0538a",
        "outputId": "27bcde0e-9e10-4ac7-f3e8-c8a39b4422a3"
      },
      "outputs": [
        {
          "output_type": "stream",
          "name": "stdout",
          "text": [
            "[[ 1  2  3  4  5]\n",
            " [ 6 -1 -1  7  8]\n",
            " [-1 -1  9 10 11]]\n"
          ]
        },
        {
          "output_type": "stream",
          "name": "stderr",
          "text": [
            "/usr/local/lib/python3.7/dist-packages/ipykernel_launcher.py:6: DeprecationWarning: `np.int` is a deprecated alias for the builtin `int`. To silence this warning, use `int` by itself. Doing this will not modify any behavior and is safe. When replacing `np.int`, you may wish to use e.g. `np.int64` or `np.int32` to specify the precision. If you wish to review your current use, check the release note link for additional information.\n",
            "Deprecated in NumPy 1.20; for more details and guidance: https://numpy.org/devdocs/release/1.20.0-notes.html#deprecations\n",
            "  \n"
          ]
        }
      ],
      "source": [
        "from io import StringIO\n",
        "s = StringIO('''1, 2, 3, 4, 5\n",
        "                6,  ,  , 7, 8\n",
        "                 ,  , 9,10,11\n",
        "''')\n",
        "Z = np.genfromtxt(s, delimiter=\",\", dtype=np.int)\n",
        "print(Z)"
      ]
    },
    {
      "cell_type": "markdown",
      "id": "c6b32834",
      "metadata": {
        "id": "c6b32834"
      },
      "source": [
        "#### 55. What is the equivalent of enumerate for numpy arrays? (★★☆)"
      ]
    },
    {
      "cell_type": "code",
      "execution_count": null,
      "id": "ab02472a",
      "metadata": {
        "colab": {
          "base_uri": "https://localhost:8080/"
        },
        "id": "ab02472a",
        "outputId": "8d65ffd1-040d-460e-d2c5-ca0aac750872"
      },
      "outputs": [
        {
          "output_type": "stream",
          "name": "stdout",
          "text": [
            "(0, 0) 0\n",
            "(0, 1) 1\n",
            "(0, 2) 2\n",
            "(1, 0) 3\n",
            "(1, 1) 4\n",
            "(1, 2) 5\n",
            "(2, 0) 6\n",
            "(2, 1) 7\n",
            "(2, 2) 8\n",
            "(0, 0) 0\n",
            "(0, 1) 1\n",
            "(0, 2) 2\n",
            "(1, 0) 3\n",
            "(1, 1) 4\n",
            "(1, 2) 5\n",
            "(2, 0) 6\n",
            "(2, 1) 7\n",
            "(2, 2) 8\n"
          ]
        }
      ],
      "source": [
        "Z = np.arange(9).reshape(3,3)\n",
        "for index, value in np.ndenumerate(Z):\n",
        "    print(index, value)\n",
        "for index in np.ndindex(Z.shape):\n",
        "    print(index, Z[index])"
      ]
    },
    {
      "cell_type": "markdown",
      "id": "a2121a05",
      "metadata": {
        "id": "a2121a05"
      },
      "source": [
        "#### 56. Generate a generic 2D Gaussian-like array (★★☆)"
      ]
    },
    {
      "cell_type": "code",
      "execution_count": null,
      "id": "18507102",
      "metadata": {
        "colab": {
          "base_uri": "https://localhost:8080/"
        },
        "id": "18507102",
        "outputId": "4130b5e2-7324-48ce-8360-018f2859c1bf"
      },
      "outputs": [
        {
          "output_type": "stream",
          "name": "stdout",
          "text": [
            "[[0.36787944 0.44822088 0.51979489 0.57375342 0.60279818 0.60279818\n",
            "  0.57375342 0.51979489 0.44822088 0.36787944]\n",
            " [0.44822088 0.54610814 0.63331324 0.69905581 0.73444367 0.73444367\n",
            "  0.69905581 0.63331324 0.54610814 0.44822088]\n",
            " [0.51979489 0.63331324 0.73444367 0.81068432 0.85172308 0.85172308\n",
            "  0.81068432 0.73444367 0.63331324 0.51979489]\n",
            " [0.57375342 0.69905581 0.81068432 0.89483932 0.9401382  0.9401382\n",
            "  0.89483932 0.81068432 0.69905581 0.57375342]\n",
            " [0.60279818 0.73444367 0.85172308 0.9401382  0.98773022 0.98773022\n",
            "  0.9401382  0.85172308 0.73444367 0.60279818]\n",
            " [0.60279818 0.73444367 0.85172308 0.9401382  0.98773022 0.98773022\n",
            "  0.9401382  0.85172308 0.73444367 0.60279818]\n",
            " [0.57375342 0.69905581 0.81068432 0.89483932 0.9401382  0.9401382\n",
            "  0.89483932 0.81068432 0.69905581 0.57375342]\n",
            " [0.51979489 0.63331324 0.73444367 0.81068432 0.85172308 0.85172308\n",
            "  0.81068432 0.73444367 0.63331324 0.51979489]\n",
            " [0.44822088 0.54610814 0.63331324 0.69905581 0.73444367 0.73444367\n",
            "  0.69905581 0.63331324 0.54610814 0.44822088]\n",
            " [0.36787944 0.44822088 0.51979489 0.57375342 0.60279818 0.60279818\n",
            "  0.57375342 0.51979489 0.44822088 0.36787944]]\n"
          ]
        }
      ],
      "source": [
        "X, Y = np.meshgrid(np.linspace(-1,1,10), np.linspace(-1,1,10))\n",
        "D = np.sqrt(X*X+Y*Y)\n",
        "sigma, mu = 1.0, 0.0\n",
        "G = np.exp(-( (D-mu)**2 / ( 2.0 * sigma**2 ) ) )\n",
        "print(G)"
      ]
    },
    {
      "cell_type": "markdown",
      "id": "97055efa",
      "metadata": {
        "id": "97055efa"
      },
      "source": [
        "#### 57. How to randomly place p elements in a 2D array? (★★☆)"
      ]
    },
    {
      "cell_type": "code",
      "execution_count": null,
      "id": "292e842f",
      "metadata": {
        "colab": {
          "base_uri": "https://localhost:8080/"
        },
        "id": "292e842f",
        "outputId": "df55168e-7dbb-4456-e6eb-6eb610f7dc3d"
      },
      "outputs": [
        {
          "output_type": "stream",
          "name": "stdout",
          "text": [
            "[[0. 0. 0. 0. 0. 1. 0. 0. 0. 0.]\n",
            " [0. 0. 0. 0. 0. 1. 0. 0. 0. 0.]\n",
            " [0. 0. 0. 0. 0. 0. 0. 0. 0. 0.]\n",
            " [0. 0. 0. 0. 0. 0. 0. 0. 0. 0.]\n",
            " [0. 0. 0. 0. 0. 0. 1. 0. 0. 0.]\n",
            " [0. 0. 0. 0. 0. 0. 0. 0. 0. 0.]\n",
            " [0. 0. 0. 0. 0. 0. 0. 0. 0. 0.]\n",
            " [0. 0. 0. 0. 0. 0. 0. 0. 0. 0.]\n",
            " [0. 0. 0. 0. 0. 0. 0. 0. 0. 0.]\n",
            " [0. 0. 0. 0. 0. 0. 0. 0. 0. 0.]]\n"
          ]
        }
      ],
      "source": [
        "n = 10\n",
        "p = 3\n",
        "Z = np.zeros((n,n))\n",
        "np.put(Z, np.random.choice(range(n*n), p, replace=False),1)\n",
        "print(Z)"
      ]
    },
    {
      "cell_type": "markdown",
      "id": "bfd2513c",
      "metadata": {
        "id": "bfd2513c"
      },
      "source": [
        "#### 58. Subtract the mean of each row of a matrix (★★☆)"
      ]
    },
    {
      "cell_type": "code",
      "execution_count": null,
      "id": "f306ab72",
      "metadata": {
        "colab": {
          "base_uri": "https://localhost:8080/"
        },
        "id": "f306ab72",
        "outputId": "661cf1d5-57a8-4e13-e5d4-a846e8e5ea53"
      },
      "outputs": [
        {
          "output_type": "stream",
          "name": "stdout",
          "text": [
            "[[ 0.04414194 -0.30084351 -0.02943855  0.15333699 -0.03842261  0.11223473\n",
            "  -0.23502724  0.1996831   0.35590494 -0.2615698 ]\n",
            " [-0.14948319  0.09263324 -0.565281    0.14887897  0.0505792  -0.06285245\n",
            "   0.1964997   0.41099308  0.04797098 -0.16993854]\n",
            " [ 0.12749035  0.40798147 -0.01389747  0.31171636 -0.47365997  0.3834071\n",
            "  -0.17391817 -0.21783611 -0.22352018 -0.1277634 ]\n",
            " [ 0.16052364  0.2223149  -0.61608437  0.28602651  0.02035537 -0.16242315\n",
            "   0.23039333 -0.27069212  0.13491459 -0.00532869]\n",
            " [-0.28159113 -0.11039288 -0.36169867 -0.20689816 -0.2156924   0.13892461\n",
            "   0.32101484  0.51545298  0.28325088 -0.08237008]]\n"
          ]
        }
      ],
      "source": [
        "X = np.random.rand(5, 10)\n",
        "Y = X - X.mean(axis=1, keepdims=True)\n",
        "print(Y)"
      ]
    },
    {
      "cell_type": "markdown",
      "id": "da9f2f9b",
      "metadata": {
        "id": "da9f2f9b"
      },
      "source": [
        "#### 59. How to sort an array by the nth column? (★★☆)"
      ]
    },
    {
      "cell_type": "code",
      "execution_count": null,
      "id": "68cde57f",
      "metadata": {
        "colab": {
          "base_uri": "https://localhost:8080/"
        },
        "id": "68cde57f",
        "outputId": "7fffbfdf-f27f-4425-cc9e-40e059c9092a"
      },
      "outputs": [
        {
          "output_type": "stream",
          "name": "stdout",
          "text": [
            "[[2 3 2]\n",
            " [1 3 5]\n",
            " [5 0 8]]\n",
            "[[5 0 8]\n",
            " [2 3 2]\n",
            " [1 3 5]]\n"
          ]
        }
      ],
      "source": [
        "Z = np.random.randint(0,10,(3,3))\n",
        "print(Z)\n",
        "print(Z[Z[:,1].argsort()])"
      ]
    },
    {
      "cell_type": "markdown",
      "id": "5b7be45c",
      "metadata": {
        "id": "5b7be45c"
      },
      "source": [
        "#### 60. How to tell if a given 2D array has null columns? (★★☆)"
      ]
    },
    {
      "cell_type": "code",
      "execution_count": null,
      "id": "7dbe2c27",
      "metadata": {
        "colab": {
          "base_uri": "https://localhost:8080/"
        },
        "id": "7dbe2c27",
        "outputId": "8c9fcf8c-1155-402a-e07f-587cc6f082b9"
      },
      "outputs": [
        {
          "output_type": "stream",
          "name": "stdout",
          "text": [
            "False\n"
          ]
        }
      ],
      "source": [
        "Z = np.random.randint(0,3,(3,10))\n",
        "print((~Z.any(axis=0)).any())"
      ]
    },
    {
      "cell_type": "markdown",
      "id": "7c18c02e",
      "metadata": {
        "id": "7c18c02e"
      },
      "source": [
        "#### 61. Find the nearest value from a given value in an array (★★☆)"
      ]
    },
    {
      "cell_type": "code",
      "execution_count": null,
      "id": "b78ae9c4",
      "metadata": {
        "colab": {
          "base_uri": "https://localhost:8080/"
        },
        "id": "b78ae9c4",
        "outputId": "070c3865-ce1d-4b2b-b5ee-c68444730e54"
      },
      "outputs": [
        {
          "output_type": "stream",
          "name": "stdout",
          "text": [
            "0.5245563610236494\n"
          ]
        }
      ],
      "source": [
        "Z = np.random.uniform(0,1,10)\n",
        "z = 0.5\n",
        "m = Z.flat[np.abs(Z - z).argmin()]\n",
        "print(m)"
      ]
    },
    {
      "cell_type": "markdown",
      "id": "8174ba2c",
      "metadata": {
        "id": "8174ba2c"
      },
      "source": [
        "#### 62. Considering two arrays with shape (1,3) and (3,1), how to compute their sum using an iterator? (★★☆)"
      ]
    },
    {
      "cell_type": "code",
      "execution_count": null,
      "id": "8a18fe57",
      "metadata": {
        "colab": {
          "base_uri": "https://localhost:8080/"
        },
        "id": "8a18fe57",
        "outputId": "48280c8f-b452-4dc1-f3b3-86fdf5074b37"
      },
      "outputs": [
        {
          "output_type": "stream",
          "name": "stdout",
          "text": [
            "[[0 1 2]\n",
            " [1 2 3]\n",
            " [2 3 4]]\n"
          ]
        }
      ],
      "source": [
        "A = np.arange(3).reshape(3,1)\n",
        "B = np.arange(3).reshape(1,3)\n",
        "it = np.nditer([A,B,None])\n",
        "for x,y,z in it: z[...] = x + y\n",
        "print(it.operands[2])"
      ]
    },
    {
      "cell_type": "markdown",
      "id": "9189bd7c",
      "metadata": {
        "id": "9189bd7c"
      },
      "source": [
        "#### 63. Create an array class that has a name attribute (★★☆)"
      ]
    },
    {
      "cell_type": "code",
      "execution_count": null,
      "id": "1c01ed42",
      "metadata": {
        "colab": {
          "base_uri": "https://localhost:8080/"
        },
        "id": "1c01ed42",
        "outputId": "edb6dc28-e982-448e-a4c1-6fd4e3e43020"
      },
      "outputs": [
        {
          "output_type": "stream",
          "name": "stdout",
          "text": [
            "range_10\n"
          ]
        }
      ],
      "source": [
        "class NamedArray(np.ndarray):\n",
        "    def __new__(cls, array, name=\"no name\"):\n",
        "        obj = np.asarray(array).view(cls)\n",
        "        obj.name = name\n",
        "        return obj\n",
        "    def __array_finalize__(self, obj):\n",
        "        if obj is None: return\n",
        "        self.info = getattr(obj, 'name', \"no name\")\n",
        "\n",
        "Z = NamedArray(np.arange(10), \"range_10\")\n",
        "print (Z.name)"
      ]
    },
    {
      "cell_type": "markdown",
      "id": "f30162d2",
      "metadata": {
        "id": "f30162d2"
      },
      "source": [
        "#### 64. Consider a given vector, how to add 1 to each element indexed by a second vector (be careful with repeated indices)? (★★★)"
      ]
    },
    {
      "cell_type": "code",
      "execution_count": null,
      "id": "093ba36f",
      "metadata": {
        "colab": {
          "base_uri": "https://localhost:8080/"
        },
        "id": "093ba36f",
        "outputId": "60bf2d04-ef7e-404e-a7c3-a0b0c9bfe0b4"
      },
      "outputs": [
        {
          "output_type": "stream",
          "name": "stdout",
          "text": [
            "[7. 2. 2. 2. 2. 2. 4. 1. 4. 4.]\n"
          ]
        }
      ],
      "source": [
        "Z = np.ones(10)\n",
        "I = np.random.randint(0,len(Z),20)\n",
        "np.add.at(Z, I, 1)\n",
        "print(Z)"
      ]
    },
    {
      "cell_type": "markdown",
      "id": "f5b1c584",
      "metadata": {
        "id": "f5b1c584"
      },
      "source": [
        "#### 65. How to accumulate elements of a vector (X) to an array (F) based on an index list (I)? (★★★)"
      ]
    },
    {
      "cell_type": "code",
      "execution_count": null,
      "id": "c9d92a75",
      "metadata": {
        "colab": {
          "base_uri": "https://localhost:8080/"
        },
        "id": "c9d92a75",
        "outputId": "52027fb7-a666-4726-cbc6-625dbba2ce4a"
      },
      "outputs": [
        {
          "output_type": "stream",
          "name": "stdout",
          "text": [
            "[0. 7. 0. 6. 5. 0. 0. 0. 0. 3.]\n"
          ]
        }
      ],
      "source": [
        "X = [1,2,3,4,5,6]\n",
        "I = [1,3,9,3,4,1]\n",
        "F = np.bincount(I,X)\n",
        "print(F)"
      ]
    },
    {
      "cell_type": "markdown",
      "id": "994c452d",
      "metadata": {
        "id": "994c452d"
      },
      "source": [
        "#### 66. Considering a (w,h,3) image of (dtype=ubyte), compute the number of unique colors (★★☆)"
      ]
    },
    {
      "cell_type": "code",
      "execution_count": null,
      "id": "269cdaea",
      "metadata": {
        "colab": {
          "base_uri": "https://localhost:8080/"
        },
        "id": "269cdaea",
        "outputId": "4c6043ae-e45e-4d4c-c3e4-8649f86d0567"
      },
      "outputs": [
        {
          "output_type": "stream",
          "name": "stdout",
          "text": [
            "64\n"
          ]
        }
      ],
      "source": [
        "w, h = 256, 256\n",
        "I = np.random.randint(0, 4, (h, w, 3)).astype(np.ubyte)\n",
        "colors = np.unique(I.reshape(-1, 3), axis=0)\n",
        "n = len(colors)\n",
        "print(n)"
      ]
    },
    {
      "cell_type": "markdown",
      "id": "4bddeb31",
      "metadata": {
        "id": "4bddeb31"
      },
      "source": [
        "#### 67. Considering a four dimensions array, how to get sum over the last two axis at once? (★★★)"
      ]
    },
    {
      "cell_type": "code",
      "execution_count": null,
      "id": "32af15f5",
      "metadata": {
        "colab": {
          "base_uri": "https://localhost:8080/"
        },
        "id": "32af15f5",
        "outputId": "d7806242-36fc-4fc0-bbe1-916111a91d71"
      },
      "outputs": [
        {
          "output_type": "stream",
          "name": "stdout",
          "text": [
            "[[51 52 53 54]\n",
            " [53 50 73 53]\n",
            " [42 59 69 62]]\n"
          ]
        }
      ],
      "source": [
        "A = np.random.randint(0,10,(3,4,3,4))\n",
        "# solution by passing a tuple of axes (introduced in numpy 1.7.0)\n",
        "sum = A.sum(axis=(-2,-1))\n",
        "print(sum)"
      ]
    },
    {
      "cell_type": "markdown",
      "id": "c4cf083c",
      "metadata": {
        "id": "c4cf083c"
      },
      "source": [
        "#### 68. Considering a one-dimensional vector D, how to compute means of subsets of D using a vector S of same size describing subset  indices? (★★★)"
      ]
    },
    {
      "cell_type": "code",
      "execution_count": null,
      "id": "9600a2dd",
      "metadata": {
        "colab": {
          "base_uri": "https://localhost:8080/"
        },
        "id": "9600a2dd",
        "outputId": "27284320-e451-4ad3-92e9-5d4b775a8c58"
      },
      "outputs": [
        {
          "output_type": "stream",
          "name": "stdout",
          "text": [
            "[0.46715717 0.55498104 0.49185064 0.49486735 0.53112025 0.43927109\n",
            " 0.46868289 0.51095884 0.34099392 0.45751016]\n"
          ]
        }
      ],
      "source": [
        "D = np.random.uniform(0,1,100)\n",
        "S = np.random.randint(0,10,100)\n",
        "D_sums = np.bincount(S, weights=D)\n",
        "D_counts = np.bincount(S)\n",
        "D_means = D_sums / D_counts\n",
        "print(D_means)"
      ]
    },
    {
      "cell_type": "markdown",
      "id": "a5e316db",
      "metadata": {
        "id": "a5e316db"
      },
      "source": [
        "#### 69. How to get the diagonal of a dot product? (★★★)"
      ]
    },
    {
      "cell_type": "code",
      "execution_count": null,
      "id": "94735dbd",
      "metadata": {
        "colab": {
          "base_uri": "https://localhost:8080/"
        },
        "id": "94735dbd",
        "outputId": "ab2466ee-62ba-4fbc-ef2d-16a87877b2b8"
      },
      "outputs": [
        {
          "output_type": "execute_result",
          "data": {
            "text/plain": [
              "array([0.93219752, 1.65009174, 1.16721218, 1.32516488, 0.78071299])"
            ]
          },
          "metadata": {},
          "execution_count": 72
        }
      ],
      "source": [
        "A = np.random.uniform(0,1,(5,5))\n",
        "B = np.random.uniform(0,1,(5,5))\n",
        "np.einsum(\"ij,ji->i\", A, B)"
      ]
    },
    {
      "cell_type": "markdown",
      "id": "de727a7b",
      "metadata": {
        "id": "de727a7b"
      },
      "source": [
        "#### 70. Consider the vector [1, 2, 3, 4, 5], how to build a new vector with 3 consecutive zeros interleaved between each value? (★★★)"
      ]
    },
    {
      "cell_type": "code",
      "execution_count": null,
      "id": "982be812",
      "metadata": {
        "colab": {
          "base_uri": "https://localhost:8080/"
        },
        "id": "982be812",
        "outputId": "7bcefbb9-51c3-451a-995b-d8edf6885cc2"
      },
      "outputs": [
        {
          "output_type": "stream",
          "name": "stdout",
          "text": [
            "[1. 0. 0. 0. 2. 0. 0. 0. 3. 0. 0. 0. 4. 0. 0. 0. 5.]\n"
          ]
        }
      ],
      "source": [
        "Z = np.array([1,2,3,4,5])\n",
        "nz = 3\n",
        "Z0 = np.zeros(len(Z) + (len(Z)-1)*(nz))\n",
        "Z0[::nz+1] = Z\n",
        "print(Z0)"
      ]
    },
    {
      "cell_type": "markdown",
      "id": "a9a73d6b",
      "metadata": {
        "id": "a9a73d6b"
      },
      "source": [
        "#### 71. Consider an array of dimension (5,5,3), how to mulitply it by an array with dimensions (5,5)? (★★★)"
      ]
    },
    {
      "cell_type": "code",
      "execution_count": null,
      "id": "282a90cc",
      "metadata": {
        "colab": {
          "base_uri": "https://localhost:8080/"
        },
        "id": "282a90cc",
        "outputId": "0128e001-8a1a-4b4e-9d98-fd67795437c0"
      },
      "outputs": [
        {
          "output_type": "stream",
          "name": "stdout",
          "text": [
            "[[[2. 2. 2.]\n",
            "  [2. 2. 2.]\n",
            "  [2. 2. 2.]\n",
            "  [2. 2. 2.]\n",
            "  [2. 2. 2.]]\n",
            "\n",
            " [[2. 2. 2.]\n",
            "  [2. 2. 2.]\n",
            "  [2. 2. 2.]\n",
            "  [2. 2. 2.]\n",
            "  [2. 2. 2.]]\n",
            "\n",
            " [[2. 2. 2.]\n",
            "  [2. 2. 2.]\n",
            "  [2. 2. 2.]\n",
            "  [2. 2. 2.]\n",
            "  [2. 2. 2.]]\n",
            "\n",
            " [[2. 2. 2.]\n",
            "  [2. 2. 2.]\n",
            "  [2. 2. 2.]\n",
            "  [2. 2. 2.]\n",
            "  [2. 2. 2.]]\n",
            "\n",
            " [[2. 2. 2.]\n",
            "  [2. 2. 2.]\n",
            "  [2. 2. 2.]\n",
            "  [2. 2. 2.]\n",
            "  [2. 2. 2.]]]\n"
          ]
        }
      ],
      "source": [
        "A = np.ones((5,5,3))\n",
        "B = 2*np.ones((5,5))\n",
        "print(A * B[:,:,None])"
      ]
    },
    {
      "cell_type": "markdown",
      "id": "a951c78f",
      "metadata": {
        "id": "a951c78f"
      },
      "source": [
        "#### 72. How to swap two rows of an array? (★★★)"
      ]
    },
    {
      "cell_type": "code",
      "execution_count": null,
      "id": "e29b3fde",
      "metadata": {
        "colab": {
          "base_uri": "https://localhost:8080/"
        },
        "id": "e29b3fde",
        "outputId": "a67e135a-70db-45c2-b27f-c0c2b5b687b2"
      },
      "outputs": [
        {
          "output_type": "stream",
          "name": "stdout",
          "text": [
            "[[ 5  6  7  8  9]\n",
            " [ 0  1  2  3  4]\n",
            " [10 11 12 13 14]\n",
            " [15 16 17 18 19]\n",
            " [20 21 22 23 24]]\n"
          ]
        }
      ],
      "source": [
        "A = np.arange(25).reshape(5,5)\n",
        "A[[0,1]] = A[[1,0]]\n",
        "print(A)"
      ]
    },
    {
      "cell_type": "markdown",
      "id": "43b639e8",
      "metadata": {
        "id": "43b639e8"
      },
      "source": [
        "#### 73. Consider a set of 10 triplets describing 10 triangles (with shared vertices), find the set of unique line segments composing all the  triangles (★★★)"
      ]
    },
    {
      "cell_type": "code",
      "execution_count": null,
      "id": "147e1034",
      "metadata": {
        "colab": {
          "base_uri": "https://localhost:8080/"
        },
        "id": "147e1034",
        "outputId": "528da5cd-c7e3-4225-9f61-4fce0f3fdcc0"
      },
      "outputs": [
        {
          "output_type": "stream",
          "name": "stdout",
          "text": [
            "[( 9, 18) ( 9, 46) ( 9, 52) ( 9, 82) (14, 30) (14, 76) (18, 52) (21, 46)\n",
            " (21, 61) (21, 71) (21, 75) (23, 56) (23, 76) (24, 27) (24, 90) (27, 90)\n",
            " (30, 76) (34, 87) (34, 91) (46, 61) (46, 82) (56, 76) (59, 74) (59, 99)\n",
            " (71, 75) (74, 99) (87, 91) (89, 98) (89, 99) (98, 99)]\n"
          ]
        }
      ],
      "source": [
        "faces = np.random.randint(0,100,(10,3))\n",
        "F = np.roll(faces.repeat(2,axis=1),-1,axis=1)\n",
        "F = F.reshape(len(F)*3,2)\n",
        "F = np.sort(F,axis=1)\n",
        "G = F.view( dtype=[('p0',F.dtype),('p1',F.dtype)] )\n",
        "G = np.unique(G)\n",
        "print(G)"
      ]
    },
    {
      "cell_type": "markdown",
      "id": "d41de585",
      "metadata": {
        "id": "d41de585"
      },
      "source": [
        "#### 74. Given a sorted array C that corresponds to a bincount, how to produce an array A such that np.bincount(A) == C? (★★★)"
      ]
    },
    {
      "cell_type": "code",
      "execution_count": null,
      "id": "5f5d6e36",
      "metadata": {
        "colab": {
          "base_uri": "https://localhost:8080/"
        },
        "id": "5f5d6e36",
        "outputId": "f7d7ce5c-c450-425a-dcd4-d5fc435f068d"
      },
      "outputs": [
        {
          "output_type": "stream",
          "name": "stdout",
          "text": [
            "[1 1 2 3 4 4 6]\n"
          ]
        }
      ],
      "source": [
        "C = np.bincount([1,1,2,3,4,4,6])\n",
        "A = np.repeat(np.arange(len(C)), C)\n",
        "print(A)"
      ]
    },
    {
      "cell_type": "markdown",
      "id": "b50adf7c",
      "metadata": {
        "id": "b50adf7c"
      },
      "source": [
        "#### 75. How to compute averages using a sliding window over an array? (★★★)"
      ]
    },
    {
      "cell_type": "code",
      "execution_count": null,
      "id": "e631a9d2",
      "metadata": {
        "colab": {
          "base_uri": "https://localhost:8080/"
        },
        "id": "e631a9d2",
        "outputId": "5a13755b-21f9-4ca2-d462-0bb521d72f72"
      },
      "outputs": [
        {
          "output_type": "stream",
          "name": "stdout",
          "text": [
            "[ 1.  2.  3.  4.  5.  6.  7.  8.  9. 10. 11. 12. 13. 14. 15. 16. 17. 18.]\n"
          ]
        }
      ],
      "source": [
        "def moving_average(a, n=3) :\n",
        "    ret = np.cumsum(a, dtype=float)\n",
        "    ret[n:] = ret[n:] - ret[:-n]\n",
        "    return ret[n - 1:] / n\n",
        "Z = np.arange(20)\n",
        "print(moving_average(Z, n=3))"
      ]
    },
    {
      "cell_type": "markdown",
      "id": "1ab4c50d",
      "metadata": {
        "id": "1ab4c50d"
      },
      "source": [
        "#### 76. Consider a one-dimensional array Z, build a two-dimensional array whose first row is (Z[0],Z[1],Z[2]) and each subsequent row is  shifted by 1 (last row should be (Z[-3],Z[-2],Z[-1]) (★★★)"
      ]
    },
    {
      "cell_type": "code",
      "execution_count": null,
      "id": "3ccfe2c0",
      "metadata": {
        "colab": {
          "base_uri": "https://localhost:8080/"
        },
        "id": "3ccfe2c0",
        "outputId": "1aeecfb5-0253-4fec-a1eb-ffde377df143"
      },
      "outputs": [
        {
          "output_type": "stream",
          "name": "stdout",
          "text": [
            "[[0 1 2]\n",
            " [1 2 3]\n",
            " [2 3 4]\n",
            " [3 4 5]\n",
            " [4 5 6]\n",
            " [5 6 7]\n",
            " [6 7 8]\n",
            " [7 8 9]]\n"
          ]
        }
      ],
      "source": [
        "from numpy.lib import stride_tricks\n",
        "\n",
        "def rolling(a, window):\n",
        "    shape = (a.size - window + 1, window)\n",
        "    strides = (a.strides[0], a.strides[0])\n",
        "    return stride_tricks.as_strided(a, shape=shape, strides=strides)\n",
        "Z = rolling(np.arange(10), 3)\n",
        "print(Z)"
      ]
    },
    {
      "cell_type": "markdown",
      "id": "5b4fe59d",
      "metadata": {
        "id": "5b4fe59d"
      },
      "source": [
        "#### 77. How to negate a boolean, or to change the sign of a float inplace? (★★★)"
      ]
    },
    {
      "cell_type": "code",
      "execution_count": null,
      "id": "3c2373ff",
      "metadata": {
        "colab": {
          "base_uri": "https://localhost:8080/"
        },
        "id": "3c2373ff",
        "outputId": "27800d6c-360f-49d4-b13a-be75776043c5"
      },
      "outputs": [
        {
          "output_type": "execute_result",
          "data": {
            "text/plain": [
              "array([-0.43841522,  0.3133194 ,  0.34828788,  0.83973579, -0.04224272,\n",
              "        0.83651237,  0.78672623,  0.52247129, -0.24644455,  0.69854923,\n",
              "       -0.30937831,  0.46519696, -0.60839756,  0.14786099, -0.87435319,\n",
              "       -0.19551922, -0.37703476,  0.56613481,  0.90720167, -0.58926982,\n",
              "       -0.79302994,  0.65054079,  0.41695082,  0.17426142,  0.24073655,\n",
              "       -0.88427168, -0.39370626, -0.62818027, -0.25227581,  0.23130578,\n",
              "        0.93015225, -0.43755532, -0.46254801, -0.36180977, -0.69592883,\n",
              "        0.89274075,  0.58725055,  0.46543314, -0.40178724, -0.21269673,\n",
              "        0.04493078,  0.22292498, -0.1509139 , -0.69028205, -0.43780765,\n",
              "       -0.04576763, -0.45701693,  0.06380429,  0.57470096,  0.15298038,\n",
              "       -0.06998488,  0.585688  ,  0.08305235,  0.05341228,  0.11858739,\n",
              "       -0.21919761, -0.13741889, -0.16523623,  0.51667699, -0.79742344,\n",
              "        0.71144951, -0.18381384, -0.35334608, -0.95688578, -0.5687887 ,\n",
              "        0.00936255, -0.55095246, -0.4852541 ,  0.48534292, -0.22436132,\n",
              "       -0.92662924,  0.49780209, -0.05004373, -0.39534827,  0.64545577,\n",
              "        0.26212447, -0.62277314, -0.3536309 ,  0.11492418, -0.98157273,\n",
              "        0.72551923, -0.33293434,  0.57670714,  0.968006  , -0.98413689,\n",
              "        0.56700003, -0.62333223, -0.2884902 ,  0.01897454, -0.40406574,\n",
              "       -0.16716143, -0.75546693,  0.86785247, -0.89100394,  0.30136619,\n",
              "        0.74436825,  0.36655463, -0.22640507,  0.455355  ,  0.04129493])"
            ]
          },
          "metadata": {},
          "execution_count": 81
        }
      ],
      "source": [
        "Z = np.random.randint(0,2,100)\n",
        "np.logical_not(Z, out=Z)\n",
        "\n",
        "Z = np.random.uniform(-1.0,1.0,100)\n",
        "np.negative(Z, out=Z)"
      ]
    },
    {
      "cell_type": "markdown",
      "id": "119ab5af",
      "metadata": {
        "id": "119ab5af"
      },
      "source": [
        "#### 78. Consider 2 sets of points P0,P1 describing lines (2d) and a point p, how to compute distance from p to each line i (P0[i],P1[i])? (★★★)"
      ]
    },
    {
      "cell_type": "code",
      "execution_count": null,
      "id": "1d8d06dc",
      "metadata": {
        "colab": {
          "base_uri": "https://localhost:8080/"
        },
        "id": "1d8d06dc",
        "outputId": "a1af1ae7-b68c-47a4-81b6-feda67b9b0a0"
      },
      "outputs": [
        {
          "output_type": "stream",
          "name": "stdout",
          "text": [
            "[11.58522871 12.25939685  2.21837129  3.96828387 13.96542405 12.48639813\n",
            "  3.30787392  1.60047465 12.88153588 12.04226056]\n"
          ]
        }
      ],
      "source": [
        "def distance(P0, P1, p):\n",
        "    T = P1 - P0\n",
        "    L = (T**2).sum(axis=1)\n",
        "    U = -((P0[:,0]-p[...,0])*T[:,0] + (P0[:,1]-p[...,1])*T[:,1]) / L\n",
        "    U = U.reshape(len(U),1)\n",
        "    D = P0 + U*T - p\n",
        "    return np.sqrt((D**2).sum(axis=1))\n",
        "\n",
        "P0 = np.random.uniform(-10,10,(10,2))\n",
        "P1 = np.random.uniform(-10,10,(10,2))\n",
        "p  = np.random.uniform(-10,10,( 1,2))\n",
        "print(distance(P0, P1, p))"
      ]
    },
    {
      "cell_type": "markdown",
      "id": "e5e7f323",
      "metadata": {
        "id": "e5e7f323"
      },
      "source": [
        "#### 79. Consider 2 sets of points P0,P1 describing lines (2d) and a set of points P, how to compute distance from each point j (P[j]) to each line i (P0[i],P1[i])? (★★★)"
      ]
    },
    {
      "cell_type": "code",
      "execution_count": null,
      "id": "d0ce77e2",
      "metadata": {
        "colab": {
          "base_uri": "https://localhost:8080/"
        },
        "id": "d0ce77e2",
        "outputId": "dadba453-a176-49e9-809a-5da0de6d66a9"
      },
      "outputs": [
        {
          "output_type": "stream",
          "name": "stdout",
          "text": [
            "[[5.14424919e+00 3.98451184e+00 2.96058462e+00 3.65516346e+00\n",
            "  4.15050290e-02 3.20732245e+00 4.28086953e-01 3.34314179e+00\n",
            "  2.80128908e-02 2.16926388e+00]\n",
            " [1.13105960e+01 1.09739995e+01 9.77653238e+00 9.62203228e+00\n",
            "  6.59379927e+00 9.35767308e+00 6.12751964e+00 7.82489990e+00\n",
            "  2.20202742e+00 5.42807098e+00]\n",
            " [6.03505456e+00 4.51225719e+00 6.79476019e+00 7.73613825e+00\n",
            "  4.23836538e+00 7.99120151e+00 8.69512452e-01 8.53555187e+00\n",
            "  5.84686212e+00 6.32416439e+00]\n",
            " [1.12211809e+01 8.06947766e+00 7.93083669e+00 9.92067731e+00\n",
            "  1.39640665e+00 9.30086722e+00 2.17452991e-02 1.02801511e+01\n",
            "  4.48956131e+00 1.37588343e+00]\n",
            " [8.82123068e+00 9.71016003e+00 1.11455994e+01 1.01519056e+01\n",
            "  1.09118104e+01 1.07465898e+01 7.85925857e+00 8.72665136e+00\n",
            "  6.53268419e-03 6.49747428e-02]\n",
            " [7.46002773e+00 9.55360037e+00 7.35505482e+00 5.49148519e+00\n",
            "  7.86127234e+00 5.48308769e+00 8.94030440e+00 2.37925692e+00\n",
            "  7.80371310e+00 1.04896944e+01]\n",
            " [2.66356542e+00 2.06240519e+00 3.92290100e+00 4.28523826e+00\n",
            "  3.15263987e+00 4.61261498e+00 7.21932139e-01 4.85187662e+00\n",
            "  3.80753368e+00 4.79963579e+00]\n",
            " [9.75944666e+00 7.93467040e+00 7.26361692e+00 8.29709288e+00\n",
            "  2.61365078e+00 7.82534483e+00 1.92122807e+00 7.84932140e+00\n",
            "  1.40238310e+00 1.52033723e+00]\n",
            " [3.28340715e+00 7.12598994e+00 7.32569973e+00 4.28580841e+00\n",
            "  1.17492479e+01 5.18047821e+00 1.07329145e+01 1.38155068e+00\n",
            "  6.77668504e+00 6.03959836e+00]\n",
            " [3.54744633e+00 1.37597887e+00 3.84779458e+00 5.37250513e+00\n",
            "  1.01877638e+00 5.51370321e+00 2.11492281e+00 7.01218082e+00\n",
            "  7.49862017e+00 8.40195047e+00]]\n"
          ]
        }
      ],
      "source": [
        "P0 = np.random.uniform(-10, 10, (10,2))\n",
        "P1 = np.random.uniform(-10,10,(10,2))\n",
        "p = np.random.uniform(-10, 10, (10,2))\n",
        "print(np.array([distance(P0,P1,p_i) for p_i in p]))"
      ]
    },
    {
      "cell_type": "markdown",
      "id": "9b9d03eb",
      "metadata": {
        "id": "9b9d03eb"
      },
      "source": [
        "#### 80. Consider an arbitrary array, write a function that extract a subpart with a fixed shape and centered on a given element (pad with a `fill` value when necessary) (★★★)"
      ]
    },
    {
      "cell_type": "code",
      "execution_count": null,
      "id": "ec2b7ae3",
      "metadata": {
        "colab": {
          "base_uri": "https://localhost:8080/"
        },
        "id": "ec2b7ae3",
        "outputId": "8f035947-c4cd-4a63-e496-8603ff8a4380"
      },
      "outputs": [
        {
          "output_type": "stream",
          "name": "stdout",
          "text": [
            "[[9 1 0 8 3 3 9 5 7 5]\n",
            " [4 6 1 3 7 1 8 4 4 0]\n",
            " [9 6 4 8 3 0 2 5 0 4]\n",
            " [5 0 4 9 7 4 7 0 7 6]\n",
            " [3 5 5 2 3 4 6 6 4 8]\n",
            " [1 8 6 7 3 1 2 1 6 5]\n",
            " [2 4 3 4 8 1 7 9 2 7]\n",
            " [6 4 6 8 2 7 9 1 8 0]\n",
            " [1 1 6 8 9 3 8 7 6 2]\n",
            " [1 0 2 6 4 1 1 7 0 8]]\n",
            "[[0 0 0 0 0]\n",
            " [0 9 1 0 8]\n",
            " [0 4 6 1 3]\n",
            " [0 9 6 4 8]\n",
            " [0 5 0 4 9]]\n"
          ]
        },
        {
          "output_type": "stream",
          "name": "stderr",
          "text": [
            "/usr/local/lib/python3.7/dist-packages/ipykernel_launcher.py:23: FutureWarning: Using a non-tuple sequence for multidimensional indexing is deprecated; use `arr[tuple(seq)]` instead of `arr[seq]`. In the future this will be interpreted as an array index, `arr[np.array(seq)]`, which will result either in an error or a different result.\n"
          ]
        }
      ],
      "source": [
        "Z = np.random.randint(0,10,(10,10))\n",
        "shape = (5,5)\n",
        "fill  = 0\n",
        "position = (1,1)\n",
        "\n",
        "R = np.ones(shape, dtype=Z.dtype)*fill\n",
        "P  = np.array(list(position)).astype(int)\n",
        "Rs = np.array(list(R.shape)).astype(int)\n",
        "Zs = np.array(list(Z.shape)).astype(int)\n",
        "\n",
        "R_start = np.zeros((len(shape),)).astype(int)\n",
        "R_stop  = np.array(list(shape)).astype(int)\n",
        "Z_start = (P-Rs//2)\n",
        "Z_stop  = (P+Rs//2)+Rs%2\n",
        "\n",
        "R_start = (R_start - np.minimum(Z_start,0)).tolist()\n",
        "Z_start = (np.maximum(Z_start,0)).tolist()\n",
        "R_stop = np.maximum(R_start, (R_stop - np.maximum(Z_stop-Zs,0))).tolist()\n",
        "Z_stop = (np.minimum(Z_stop,Zs)).tolist()\n",
        "\n",
        "r = [slice(start,stop) for start,stop in zip(R_start,R_stop)]\n",
        "z = [slice(start,stop) for start,stop in zip(Z_start,Z_stop)]\n",
        "R[r] = Z[z]\n",
        "print(Z)\n",
        "print(R)"
      ]
    },
    {
      "cell_type": "markdown",
      "id": "27794913",
      "metadata": {
        "id": "27794913"
      },
      "source": [
        "#### 81. Consider an array Z = [1,2,3,4,5,6,7,8,9,10,11,12,13,14], how to generate an array R = [[1,2,3,4], [2,3,4,5], [3,4,5,6], ..., [11,12,13,14]]? (★★★)"
      ]
    },
    {
      "cell_type": "code",
      "execution_count": null,
      "id": "f3e7878b",
      "metadata": {
        "colab": {
          "base_uri": "https://localhost:8080/"
        },
        "id": "f3e7878b",
        "outputId": "314f933f-7de0-41bd-d751-e4dc4d422c2a"
      },
      "outputs": [
        {
          "output_type": "stream",
          "name": "stdout",
          "text": [
            "[[ 1  2  3  4]\n",
            " [ 2  3  4  5]\n",
            " [ 3  4  5  6]\n",
            " [ 4  5  6  7]\n",
            " [ 5  6  7  8]\n",
            " [ 6  7  8  9]\n",
            " [ 7  8  9 10]\n",
            " [ 8  9 10 11]\n",
            " [ 9 10 11 12]\n",
            " [10 11 12 13]\n",
            " [11 12 13 14]]\n"
          ]
        }
      ],
      "source": [
        "Z = np.arange(1,15,dtype=np.uint32)\n",
        "R = stride_tricks.as_strided(Z,(11,4),(4,4))\n",
        "print(R)"
      ]
    },
    {
      "cell_type": "markdown",
      "id": "fae786f5",
      "metadata": {
        "id": "fae786f5"
      },
      "source": [
        "#### 82. Compute a matrix rank (★★★)"
      ]
    },
    {
      "cell_type": "code",
      "execution_count": null,
      "id": "64b9615b",
      "metadata": {
        "colab": {
          "base_uri": "https://localhost:8080/"
        },
        "id": "64b9615b",
        "outputId": "519ef6db-9295-4e63-932e-f6e36e65d48b"
      },
      "outputs": [
        {
          "output_type": "stream",
          "name": "stdout",
          "text": [
            "10\n"
          ]
        }
      ],
      "source": [
        "Z = np.random.uniform(0,1,(10,10))\n",
        "U, S, V = np.linalg.svd(Z) # Singular Value Decomposition\n",
        "rank = np.sum(S > 1e-10)\n",
        "print(rank)"
      ]
    },
    {
      "cell_type": "markdown",
      "id": "c85aa0b9",
      "metadata": {
        "id": "c85aa0b9"
      },
      "source": [
        "#### 83. How to find the most frequent value in an array?"
      ]
    },
    {
      "cell_type": "code",
      "execution_count": null,
      "id": "056be85b",
      "metadata": {
        "colab": {
          "base_uri": "https://localhost:8080/"
        },
        "id": "056be85b",
        "outputId": "c0c996d2-0eb9-4f8a-8151-0961ca594f72"
      },
      "outputs": [
        {
          "output_type": "stream",
          "name": "stdout",
          "text": [
            "8\n"
          ]
        }
      ],
      "source": [
        "Z = np.random.randint(0,10,50)\n",
        "print(np.bincount(Z).argmax())"
      ]
    },
    {
      "cell_type": "markdown",
      "id": "0ff2344d",
      "metadata": {
        "id": "0ff2344d"
      },
      "source": [
        "#### 84. Extract all the contiguous 3x3 blocks from a random 10x10 matrix (★★★)"
      ]
    },
    {
      "cell_type": "code",
      "execution_count": null,
      "id": "d58b1318",
      "metadata": {
        "colab": {
          "base_uri": "https://localhost:8080/"
        },
        "id": "d58b1318",
        "outputId": "f8e06ee3-2f2c-4a35-de0b-ff140f27ec88"
      },
      "outputs": [
        {
          "output_type": "stream",
          "name": "stdout",
          "text": [
            "[[[[0 0 2]\n",
            "   [1 0 3]\n",
            "   [2 1 3]]\n",
            "\n",
            "  [[0 2 4]\n",
            "   [0 3 3]\n",
            "   [1 3 0]]\n",
            "\n",
            "  [[2 4 2]\n",
            "   [3 3 2]\n",
            "   [3 0 2]]\n",
            "\n",
            "  [[4 2 2]\n",
            "   [3 2 3]\n",
            "   [0 2 4]]\n",
            "\n",
            "  [[2 2 4]\n",
            "   [2 3 4]\n",
            "   [2 4 2]]\n",
            "\n",
            "  [[2 4 0]\n",
            "   [3 4 4]\n",
            "   [4 2 3]]\n",
            "\n",
            "  [[4 0 2]\n",
            "   [4 4 2]\n",
            "   [2 3 1]]\n",
            "\n",
            "  [[0 2 1]\n",
            "   [4 2 0]\n",
            "   [3 1 3]]]\n",
            "\n",
            "\n",
            " [[[1 0 3]\n",
            "   [2 1 3]\n",
            "   [4 0 2]]\n",
            "\n",
            "  [[0 3 3]\n",
            "   [1 3 0]\n",
            "   [0 2 3]]\n",
            "\n",
            "  [[3 3 2]\n",
            "   [3 0 2]\n",
            "   [2 3 4]]\n",
            "\n",
            "  [[3 2 3]\n",
            "   [0 2 4]\n",
            "   [3 4 2]]\n",
            "\n",
            "  [[2 3 4]\n",
            "   [2 4 2]\n",
            "   [4 2 4]]\n",
            "\n",
            "  [[3 4 4]\n",
            "   [4 2 3]\n",
            "   [2 4 3]]\n",
            "\n",
            "  [[4 4 2]\n",
            "   [2 3 1]\n",
            "   [4 3 3]]\n",
            "\n",
            "  [[4 2 0]\n",
            "   [3 1 3]\n",
            "   [3 3 3]]]\n",
            "\n",
            "\n",
            " [[[2 1 3]\n",
            "   [4 0 2]\n",
            "   [1 4 4]]\n",
            "\n",
            "  [[1 3 0]\n",
            "   [0 2 3]\n",
            "   [4 4 4]]\n",
            "\n",
            "  [[3 0 2]\n",
            "   [2 3 4]\n",
            "   [4 4 0]]\n",
            "\n",
            "  [[0 2 4]\n",
            "   [3 4 2]\n",
            "   [4 0 3]]\n",
            "\n",
            "  [[2 4 2]\n",
            "   [4 2 4]\n",
            "   [0 3 0]]\n",
            "\n",
            "  [[4 2 3]\n",
            "   [2 4 3]\n",
            "   [3 0 1]]\n",
            "\n",
            "  [[2 3 1]\n",
            "   [4 3 3]\n",
            "   [0 1 2]]\n",
            "\n",
            "  [[3 1 3]\n",
            "   [3 3 3]\n",
            "   [1 2 1]]]\n",
            "\n",
            "\n",
            " [[[4 0 2]\n",
            "   [1 4 4]\n",
            "   [3 1 1]]\n",
            "\n",
            "  [[0 2 3]\n",
            "   [4 4 4]\n",
            "   [1 1 1]]\n",
            "\n",
            "  [[2 3 4]\n",
            "   [4 4 0]\n",
            "   [1 1 4]]\n",
            "\n",
            "  [[3 4 2]\n",
            "   [4 0 3]\n",
            "   [1 4 2]]\n",
            "\n",
            "  [[4 2 4]\n",
            "   [0 3 0]\n",
            "   [4 2 0]]\n",
            "\n",
            "  [[2 4 3]\n",
            "   [3 0 1]\n",
            "   [2 0 2]]\n",
            "\n",
            "  [[4 3 3]\n",
            "   [0 1 2]\n",
            "   [0 2 2]]\n",
            "\n",
            "  [[3 3 3]\n",
            "   [1 2 1]\n",
            "   [2 2 3]]]\n",
            "\n",
            "\n",
            " [[[1 4 4]\n",
            "   [3 1 1]\n",
            "   [3 0 2]]\n",
            "\n",
            "  [[4 4 4]\n",
            "   [1 1 1]\n",
            "   [0 2 4]]\n",
            "\n",
            "  [[4 4 0]\n",
            "   [1 1 4]\n",
            "   [2 4 2]]\n",
            "\n",
            "  [[4 0 3]\n",
            "   [1 4 2]\n",
            "   [4 2 4]]\n",
            "\n",
            "  [[0 3 0]\n",
            "   [4 2 0]\n",
            "   [2 4 3]]\n",
            "\n",
            "  [[3 0 1]\n",
            "   [2 0 2]\n",
            "   [4 3 0]]\n",
            "\n",
            "  [[0 1 2]\n",
            "   [0 2 2]\n",
            "   [3 0 2]]\n",
            "\n",
            "  [[1 2 1]\n",
            "   [2 2 3]\n",
            "   [0 2 2]]]\n",
            "\n",
            "\n",
            " [[[3 1 1]\n",
            "   [3 0 2]\n",
            "   [0 2 1]]\n",
            "\n",
            "  [[1 1 1]\n",
            "   [0 2 4]\n",
            "   [2 1 1]]\n",
            "\n",
            "  [[1 1 4]\n",
            "   [2 4 2]\n",
            "   [1 1 3]]\n",
            "\n",
            "  [[1 4 2]\n",
            "   [4 2 4]\n",
            "   [1 3 2]]\n",
            "\n",
            "  [[4 2 0]\n",
            "   [2 4 3]\n",
            "   [3 2 1]]\n",
            "\n",
            "  [[2 0 2]\n",
            "   [4 3 0]\n",
            "   [2 1 0]]\n",
            "\n",
            "  [[0 2 2]\n",
            "   [3 0 2]\n",
            "   [1 0 4]]\n",
            "\n",
            "  [[2 2 3]\n",
            "   [0 2 2]\n",
            "   [0 4 3]]]\n",
            "\n",
            "\n",
            " [[[3 0 2]\n",
            "   [0 2 1]\n",
            "   [1 4 1]]\n",
            "\n",
            "  [[0 2 4]\n",
            "   [2 1 1]\n",
            "   [4 1 0]]\n",
            "\n",
            "  [[2 4 2]\n",
            "   [1 1 3]\n",
            "   [1 0 2]]\n",
            "\n",
            "  [[4 2 4]\n",
            "   [1 3 2]\n",
            "   [0 2 1]]\n",
            "\n",
            "  [[2 4 3]\n",
            "   [3 2 1]\n",
            "   [2 1 3]]\n",
            "\n",
            "  [[4 3 0]\n",
            "   [2 1 0]\n",
            "   [1 3 4]]\n",
            "\n",
            "  [[3 0 2]\n",
            "   [1 0 4]\n",
            "   [3 4 2]]\n",
            "\n",
            "  [[0 2 2]\n",
            "   [0 4 3]\n",
            "   [4 2 1]]]\n",
            "\n",
            "\n",
            " [[[0 2 1]\n",
            "   [1 4 1]\n",
            "   [4 3 0]]\n",
            "\n",
            "  [[2 1 1]\n",
            "   [4 1 0]\n",
            "   [3 0 3]]\n",
            "\n",
            "  [[1 1 3]\n",
            "   [1 0 2]\n",
            "   [0 3 3]]\n",
            "\n",
            "  [[1 3 2]\n",
            "   [0 2 1]\n",
            "   [3 3 1]]\n",
            "\n",
            "  [[3 2 1]\n",
            "   [2 1 3]\n",
            "   [3 1 4]]\n",
            "\n",
            "  [[2 1 0]\n",
            "   [1 3 4]\n",
            "   [1 4 0]]\n",
            "\n",
            "  [[1 0 4]\n",
            "   [3 4 2]\n",
            "   [4 0 4]]\n",
            "\n",
            "  [[0 4 3]\n",
            "   [4 2 1]\n",
            "   [0 4 0]]]]\n"
          ]
        }
      ],
      "source": [
        "Z = np.random.randint(0,5,(10,10))\n",
        "n = 3\n",
        "i = 1 + (Z.shape[0]-3)\n",
        "j = 1 + (Z.shape[1]-3)\n",
        "C = stride_tricks.as_strided(Z, shape=(i, j, n, n), strides=Z.strides + Z.strides)\n",
        "print(C)"
      ]
    },
    {
      "cell_type": "markdown",
      "id": "1a18b263",
      "metadata": {
        "id": "1a18b263"
      },
      "source": [
        "#### 85. Create a 2D array subclass such that Z[i,j] == Z[j,i] (★★★)"
      ]
    },
    {
      "cell_type": "code",
      "execution_count": null,
      "id": "87f17adc",
      "metadata": {
        "colab": {
          "base_uri": "https://localhost:8080/"
        },
        "id": "87f17adc",
        "outputId": "118f074f-e76e-4908-b229-b3262f4cce7b"
      },
      "outputs": [
        {
          "output_type": "stream",
          "name": "stdout",
          "text": [
            "[[ 1  0  9  7  9]\n",
            " [ 0  7 12 11  4]\n",
            " [ 9 12  3 42  6]\n",
            " [ 7 11 42  5  5]\n",
            " [ 9  4  6  5  4]]\n"
          ]
        }
      ],
      "source": [
        "class Symetric(np.ndarray):\n",
        "    def __setitem__(self, index, value):\n",
        "        i,j = index\n",
        "        super(Symetric, self).__setitem__((i,j), value)\n",
        "        super(Symetric, self).__setitem__((j,i), value)\n",
        "\n",
        "def symetric(Z):\n",
        "    return np.asarray(Z + Z.T - np.diag(Z.diagonal())).view(Symetric)\n",
        "\n",
        "S = symetric(np.random.randint(0,10,(5,5)))\n",
        "S[2,3] = 42\n",
        "print(S)"
      ]
    },
    {
      "cell_type": "markdown",
      "id": "f85f2cad",
      "metadata": {
        "id": "f85f2cad"
      },
      "source": [
        "#### 86. Consider a set of p matrices wich shape (n,n) and a set of p vectors with shape (n,1). How to compute the sum of of the p matrix products at once? (result has shape (n,1)) (★★★)"
      ]
    },
    {
      "cell_type": "code",
      "execution_count": null,
      "id": "8d230557",
      "metadata": {
        "colab": {
          "base_uri": "https://localhost:8080/"
        },
        "id": "8d230557",
        "outputId": "d753a092-4cc1-42c4-eed2-b88dd4287712"
      },
      "outputs": [
        {
          "output_type": "stream",
          "name": "stdout",
          "text": [
            "[[200.]\n",
            " [200.]\n",
            " [200.]\n",
            " [200.]\n",
            " [200.]\n",
            " [200.]\n",
            " [200.]\n",
            " [200.]\n",
            " [200.]\n",
            " [200.]\n",
            " [200.]\n",
            " [200.]\n",
            " [200.]\n",
            " [200.]\n",
            " [200.]\n",
            " [200.]\n",
            " [200.]\n",
            " [200.]\n",
            " [200.]\n",
            " [200.]]\n"
          ]
        }
      ],
      "source": [
        "p, n = 10, 20\n",
        "M = np.ones((p,n,n))\n",
        "V = np.ones((p,n,1))\n",
        "S = np.tensordot(M, V, axes=[[0, 2], [0, 1]])\n",
        "print(S)"
      ]
    },
    {
      "cell_type": "markdown",
      "id": "5afb72c8",
      "metadata": {
        "id": "5afb72c8"
      },
      "source": [
        "#### 87. Consider a 16x16 array, how to get the block-sum (block size is 4x4)? (★★★)"
      ]
    },
    {
      "cell_type": "code",
      "execution_count": null,
      "id": "e86f47a9",
      "metadata": {
        "colab": {
          "base_uri": "https://localhost:8080/"
        },
        "id": "e86f47a9",
        "outputId": "715020a5-d77a-4b1b-cc08-c82525adf1dc"
      },
      "outputs": [
        {
          "output_type": "stream",
          "name": "stdout",
          "text": [
            "[[16. 16. 16. 16.]\n",
            " [16. 16. 16. 16.]\n",
            " [16. 16. 16. 16.]\n",
            " [16. 16. 16. 16.]]\n"
          ]
        }
      ],
      "source": [
        "Z = np.ones((16,16))\n",
        "k = 4\n",
        "S = np.add.reduceat(np.add.reduceat(Z, np.arange(0, Z.shape[0], k), axis=0),\n",
        "                                       np.arange(0, Z.shape[1], k), axis=1)\n",
        "print(S)"
      ]
    },
    {
      "cell_type": "markdown",
      "id": "6094d37c",
      "metadata": {
        "id": "6094d37c"
      },
      "source": [
        "#### 88. How to implement the Game of Life using numpy arrays? (★★★)"
      ]
    },
    {
      "cell_type": "code",
      "execution_count": null,
      "id": "a93e715f",
      "metadata": {
        "colab": {
          "base_uri": "https://localhost:8080/"
        },
        "id": "a93e715f",
        "outputId": "16f5cb95-461f-426c-d0c5-c94092d1c82c"
      },
      "outputs": [
        {
          "output_type": "stream",
          "name": "stdout",
          "text": [
            "[[0 0 0 0 0 0 0 0 0 0 0 0 0 0 0 0 0 0 0 0 0 0 0 0 0 0 0 0 0 0 0 0 0 0 0 0\n",
            "  0 0 0 0 0 0 0 0 0 0 0 0 0 0]\n",
            " [0 0 0 0 0 0 0 0 0 0 0 0 0 0 0 0 0 0 1 1 0 0 0 0 0 0 0 0 0 0 0 0 0 0 0 0\n",
            "  0 0 0 0 0 0 0 0 0 0 0 0 0 0]\n",
            " [0 0 0 0 0 0 0 0 0 0 0 0 0 0 0 0 0 0 1 1 0 0 0 0 0 0 0 0 0 0 0 0 0 0 0 0\n",
            "  0 0 0 0 0 0 1 1 0 0 0 0 0 0]\n",
            " [0 0 0 0 0 0 0 0 0 0 0 0 0 0 0 0 0 0 0 0 0 0 0 0 0 0 0 0 0 0 0 0 0 0 0 0\n",
            "  0 0 0 0 0 1 1 1 1 0 0 0 0 0]\n",
            " [0 0 0 0 0 0 0 0 0 0 0 0 0 0 0 0 0 0 0 0 0 0 0 0 0 0 0 0 0 0 0 0 0 0 0 0\n",
            "  0 0 0 0 1 1 0 0 1 0 0 0 0 0]\n",
            " [0 0 0 0 0 0 0 0 0 0 0 0 0 0 0 0 0 0 0 0 0 0 0 0 0 0 0 0 0 0 0 0 0 0 0 0\n",
            "  0 0 0 0 1 1 1 1 0 1 0 0 0 0]\n",
            " [0 0 0 0 0 0 0 0 0 0 0 0 0 0 1 1 0 0 0 0 0 0 0 0 0 0 0 0 0 0 0 0 0 0 0 0\n",
            "  0 0 0 1 0 1 1 0 0 1 0 0 0 0]\n",
            " [0 0 0 0 0 0 0 0 0 0 0 0 0 0 1 1 0 0 0 0 0 0 0 0 0 0 0 0 0 0 0 0 0 0 0 0\n",
            "  0 0 0 0 1 1 0 0 0 0 0 0 0 0]\n",
            " [0 0 0 0 0 0 0 0 0 0 0 0 0 0 0 0 0 0 0 0 0 0 0 0 0 0 0 0 0 0 0 0 0 0 0 0\n",
            "  0 0 0 0 1 0 1 1 1 0 0 0 0 0]\n",
            " [0 0 0 0 0 0 0 0 0 0 0 0 0 0 0 0 0 0 0 0 0 0 0 0 0 0 0 0 0 0 0 0 0 0 0 0\n",
            "  0 0 0 0 0 0 0 0 0 0 0 0 0 0]\n",
            " [0 0 0 0 0 0 0 0 0 0 0 0 0 0 0 0 0 0 0 0 0 0 0 0 0 0 0 0 0 0 0 0 0 0 0 0\n",
            "  0 0 0 0 0 0 0 0 0 0 0 0 0 0]\n",
            " [0 0 0 0 0 0 0 0 0 0 0 0 0 0 0 0 0 0 0 0 0 0 0 0 0 0 0 0 0 0 0 0 0 0 0 0\n",
            "  0 0 0 0 0 0 0 0 0 0 0 0 0 0]\n",
            " [0 0 0 0 0 0 0 0 0 0 0 0 0 0 0 0 0 0 0 0 0 0 0 0 0 0 0 0 0 0 0 0 0 0 0 0\n",
            "  0 0 0 0 0 0 0 0 0 0 0 0 0 0]\n",
            " [0 0 0 0 0 0 0 0 0 0 0 0 0 0 0 0 0 0 0 0 0 0 0 0 0 0 0 0 0 0 0 0 0 0 0 0\n",
            "  0 0 0 0 0 0 0 0 0 0 0 0 0 0]\n",
            " [0 0 0 0 0 0 0 0 0 0 0 0 0 0 0 0 0 0 0 0 0 0 0 0 0 0 0 0 0 0 0 0 0 0 0 0\n",
            "  0 0 0 0 0 0 0 0 0 0 0 0 0 0]\n",
            " [0 0 0 0 0 0 0 0 0 0 0 0 0 0 0 0 0 0 0 0 0 0 0 0 0 0 0 0 0 0 0 0 0 0 0 0\n",
            "  0 0 0 0 0 0 0 0 0 0 0 0 0 0]\n",
            " [0 0 0 0 0 0 0 0 0 0 0 0 0 0 0 0 0 0 0 0 0 0 0 0 0 0 0 0 0 0 0 0 0 0 0 0\n",
            "  0 0 0 0 0 0 0 0 0 0 0 0 0 0]\n",
            " [0 0 0 0 0 0 0 0 0 0 0 0 0 0 0 0 0 0 0 0 0 0 0 0 0 0 0 0 0 0 0 0 0 0 0 0\n",
            "  0 0 0 0 0 0 0 0 0 0 0 0 0 0]\n",
            " [0 0 0 0 0 0 0 0 0 0 0 0 0 0 0 0 0 0 0 0 0 0 0 0 0 0 0 0 0 0 0 0 0 0 0 0\n",
            "  0 0 0 0 0 0 0 0 0 0 0 0 0 0]\n",
            " [0 0 0 0 0 0 0 0 0 0 0 0 0 0 0 1 1 0 0 0 0 0 0 0 0 0 0 0 0 0 0 0 0 0 0 0\n",
            "  0 0 0 0 0 0 0 0 0 0 0 0 0 0]\n",
            " [0 0 0 0 0 0 0 0 0 0 0 0 0 0 1 0 0 1 0 0 0 0 0 0 0 0 0 0 0 0 0 0 0 0 0 0\n",
            "  0 0 0 0 0 0 0 0 0 0 0 0 0 0]\n",
            " [0 0 0 0 0 0 0 0 0 0 0 0 0 0 0 1 1 0 0 0 0 0 0 0 0 0 0 0 0 0 0 0 0 0 0 0\n",
            "  0 0 0 0 0 0 0 0 0 0 0 0 0 0]\n",
            " [0 0 0 0 0 0 0 0 0 0 0 0 0 0 0 0 0 0 0 0 0 0 0 0 0 0 0 0 1 1 0 0 0 0 0 0\n",
            "  0 0 0 0 0 0 0 1 1 1 0 0 0 0]\n",
            " [0 0 0 0 0 0 1 0 0 0 0 0 0 0 0 0 0 0 0 0 0 0 0 0 0 0 0 0 1 1 0 0 0 0 0 0\n",
            "  0 0 0 0 0 0 0 0 0 0 0 0 0 0]\n",
            " [0 0 0 0 0 1 0 1 0 0 0 0 0 0 0 0 0 0 0 0 0 0 0 0 0 0 0 0 0 0 0 0 0 0 0 0\n",
            "  0 0 0 0 0 0 0 0 0 0 0 0 0 0]\n",
            " [0 0 0 0 0 0 1 0 0 0 0 0 0 0 0 0 0 0 0 0 0 0 1 1 0 0 0 0 0 0 0 0 0 0 0 0\n",
            "  0 0 0 0 0 0 0 0 0 0 0 0 0 0]\n",
            " [0 0 0 0 0 0 0 0 0 0 0 0 0 0 0 0 0 0 0 0 0 0 1 1 0 0 0 0 0 0 0 1 1 0 0 0\n",
            "  0 0 0 0 0 0 0 0 0 0 0 0 0 0]\n",
            " [0 0 0 0 0 0 0 0 0 0 0 0 0 0 0 0 0 0 0 0 0 0 0 0 0 0 0 0 0 0 0 1 1 0 0 0\n",
            "  0 0 0 0 0 0 0 0 0 0 0 0 0 0]\n",
            " [0 0 0 0 0 0 0 0 0 0 0 0 0 0 0 0 0 0 0 0 0 0 0 0 0 0 0 0 0 0 0 0 0 0 0 0\n",
            "  0 0 0 0 0 0 0 0 0 0 0 0 0 0]\n",
            " [0 0 0 0 0 0 0 0 0 0 0 0 0 0 0 0 0 0 0 0 0 0 0 0 0 0 0 0 0 0 0 0 0 0 0 0\n",
            "  0 0 0 0 0 0 0 0 0 0 0 0 0 0]\n",
            " [0 0 0 0 0 0 0 0 0 0 0 0 0 0 0 0 0 0 0 0 0 0 0 0 0 0 0 0 0 0 0 0 0 0 0 0\n",
            "  0 0 0 0 0 0 0 0 0 0 0 0 0 0]\n",
            " [0 0 0 0 0 0 0 0 0 0 0 0 0 0 0 0 0 0 0 0 0 0 0 0 0 0 0 0 0 0 0 0 0 0 0 0\n",
            "  0 0 0 0 0 0 0 0 0 0 0 0 0 0]\n",
            " [0 0 0 0 0 0 0 0 0 0 0 0 0 0 0 0 0 0 0 0 0 0 0 0 0 0 0 0 0 0 0 0 0 0 0 0\n",
            "  0 0 0 0 0 0 0 0 0 0 0 0 0 0]\n",
            " [0 0 0 0 0 0 0 0 0 0 0 0 0 0 0 0 0 0 0 0 0 0 0 0 0 0 0 0 0 0 0 0 0 0 0 0\n",
            "  0 0 0 0 0 0 0 0 0 0 0 0 0 0]\n",
            " [0 0 0 0 0 0 0 0 0 0 0 0 0 0 0 0 0 0 0 0 0 0 0 0 0 0 0 0 0 0 0 0 0 0 0 0\n",
            "  0 0 0 0 0 0 0 0 0 0 0 0 0 0]\n",
            " [0 0 0 0 0 0 0 0 0 0 0 0 0 0 1 1 0 0 0 0 0 0 0 1 0 0 0 0 0 0 0 1 0 0 0 0\n",
            "  0 0 0 0 0 0 0 0 0 0 0 0 0 0]\n",
            " [0 0 0 0 0 0 0 0 0 0 0 0 0 1 0 0 1 0 0 0 0 0 1 0 1 0 0 0 0 0 0 1 0 1 0 0\n",
            "  0 0 0 0 0 0 0 0 0 0 0 0 0 0]\n",
            " [0 0 0 0 0 0 0 0 0 0 0 0 0 1 0 1 0 0 0 0 0 0 0 1 0 0 0 0 0 0 0 1 1 0 0 0\n",
            "  0 0 0 0 0 0 0 0 0 0 0 0 0 0]\n",
            " [0 0 0 0 0 0 0 0 0 0 0 0 0 0 1 0 0 0 0 0 0 0 0 0 0 0 0 0 0 0 0 0 0 0 0 0\n",
            "  0 0 0 0 0 0 0 0 0 0 1 1 0 0]\n",
            " [0 0 0 0 0 0 0 0 0 0 0 0 0 0 0 0 0 0 0 0 0 0 0 0 0 0 0 0 0 0 0 0 0 0 0 0\n",
            "  0 0 0 0 0 0 0 0 0 0 1 1 0 0]\n",
            " [0 0 0 0 0 0 0 0 0 0 0 0 0 0 0 0 0 0 0 0 0 0 0 0 0 0 0 0 0 0 0 0 0 0 0 0\n",
            "  0 0 0 0 0 0 0 0 0 0 0 0 0 0]\n",
            " [0 1 1 0 0 0 0 0 0 0 0 0 0 0 0 0 0 0 0 0 0 1 0 0 0 0 0 0 0 0 0 0 0 0 0 0\n",
            "  0 0 0 0 0 0 0 0 0 0 0 0 0 0]\n",
            " [0 1 1 0 0 0 0 0 0 0 0 0 0 0 0 0 0 0 0 0 1 0 1 0 0 0 0 0 0 0 0 0 0 0 0 0\n",
            "  0 0 0 0 0 0 0 0 0 0 0 0 0 0]\n",
            " [0 0 0 0 0 0 0 0 0 0 0 0 0 0 0 0 0 0 0 0 0 1 0 0 0 0 0 0 0 0 0 0 0 0 0 0\n",
            "  0 0 0 0 0 0 0 0 0 0 0 0 0 0]\n",
            " [0 0 0 0 0 0 0 0 0 0 0 0 0 0 0 0 0 0 0 0 0 0 0 0 0 0 0 0 0 0 0 0 0 0 0 0\n",
            "  0 0 0 0 0 0 0 0 0 0 0 0 0 0]\n",
            " [0 0 0 0 0 0 0 0 0 0 0 0 0 0 1 0 0 0 0 0 0 0 0 0 0 0 0 0 0 0 0 0 0 0 0 0\n",
            "  0 0 0 0 0 0 0 0 0 0 0 0 0 0]\n",
            " [0 0 0 0 0 0 0 0 0 0 0 0 0 1 0 1 0 0 0 0 0 0 0 0 0 0 0 0 0 0 0 0 0 0 0 0\n",
            "  0 0 0 0 0 0 0 0 0 0 0 0 0 0]\n",
            " [0 0 0 0 0 0 0 0 0 0 0 0 0 1 0 1 0 0 0 0 0 0 0 0 0 0 0 0 0 0 0 0 0 0 0 0\n",
            "  0 0 0 0 0 0 0 0 0 0 0 0 0 0]\n",
            " [0 0 0 0 0 0 0 0 0 0 0 0 0 0 1 0 0 0 0 0 0 0 0 0 0 0 0 0 0 0 0 0 0 0 0 0\n",
            "  0 0 0 0 0 0 0 0 0 0 0 0 0 0]\n",
            " [0 0 0 0 0 0 0 0 0 0 0 0 0 0 0 0 0 0 0 0 0 0 0 0 0 0 0 0 0 0 0 0 0 0 0 0\n",
            "  0 0 0 0 0 0 0 0 0 0 0 0 0 0]]\n"
          ]
        }
      ],
      "source": [
        "def iterate(Z):\n",
        "    N = (Z[0:-2,0:-2] + Z[0:-2,1:-1] + Z[0:-2,2:] +\n",
        "         Z[1:-1,0:-2]                + Z[1:-1,2:] +\n",
        "         Z[2:  ,0:-2] + Z[2:  ,1:-1] + Z[2:  ,2:])\n",
        "\n",
        "    birth = (N==3) & (Z[1:-1,1:-1]==0)\n",
        "    survive = ((N==2) | (N==3)) & (Z[1:-1,1:-1]==1)\n",
        "    Z[...] = 0\n",
        "    Z[1:-1,1:-1][birth | survive] = 1\n",
        "    return Z\n",
        "\n",
        "Z = np.random.randint(0,2,(50,50))\n",
        "for i in range(100): Z = iterate(Z)\n",
        "print(Z)"
      ]
    },
    {
      "cell_type": "markdown",
      "id": "a173cf96",
      "metadata": {
        "id": "a173cf96"
      },
      "source": [
        "#### 89. How to get the n largest values of an array (★★★)"
      ]
    },
    {
      "cell_type": "code",
      "execution_count": null,
      "id": "b7c2ff35",
      "metadata": {
        "colab": {
          "base_uri": "https://localhost:8080/"
        },
        "id": "b7c2ff35",
        "outputId": "163dfc85-bdd8-4b10-c2fd-e6fa97478441"
      },
      "outputs": [
        {
          "output_type": "stream",
          "name": "stdout",
          "text": [
            "[9999 9998 9996 9997 9995]\n"
          ]
        }
      ],
      "source": [
        "Z = np.arange(10000)\n",
        "np.random.shuffle(Z)\n",
        "n = 5\n",
        "print (Z[np.argpartition(-Z,n)[:n]])"
      ]
    },
    {
      "cell_type": "markdown",
      "id": "15db2d01",
      "metadata": {
        "id": "15db2d01"
      },
      "source": [
        "#### 90. Given an arbitrary number of vectors, build the cartesian product (every combinations of every item) (★★★)"
      ]
    },
    {
      "cell_type": "code",
      "execution_count": null,
      "id": "a9a4633d",
      "metadata": {
        "colab": {
          "base_uri": "https://localhost:8080/"
        },
        "id": "a9a4633d",
        "outputId": "404532ed-a135-46db-d1d2-93d64f38b37d"
      },
      "outputs": [
        {
          "output_type": "stream",
          "name": "stdout",
          "text": [
            "[[1 4 6]\n",
            " [1 4 7]\n",
            " [1 5 6]\n",
            " [1 5 7]\n",
            " [2 4 6]\n",
            " [2 4 7]\n",
            " [2 5 6]\n",
            " [2 5 7]\n",
            " [3 4 6]\n",
            " [3 4 7]\n",
            " [3 5 6]\n",
            " [3 5 7]]\n"
          ]
        }
      ],
      "source": [
        "def cartesian(arrays):\n",
        "    arrays = [np.asarray(a) for a in arrays]\n",
        "    shape = (len(x) for x in arrays)\n",
        "\n",
        "    ix = np.indices(shape, dtype=int)\n",
        "    ix = ix.reshape(len(arrays), -1).T\n",
        "\n",
        "    for n, arr in enumerate(arrays):\n",
        "        ix[:, n] = arrays[n][ix[:, n]]\n",
        "\n",
        "    return ix\n",
        "\n",
        "print (cartesian(([1, 2, 3], [4, 5], [6, 7])))"
      ]
    },
    {
      "cell_type": "markdown",
      "id": "5d94d1ef",
      "metadata": {
        "id": "5d94d1ef"
      },
      "source": [
        "#### 91. How to create a record array from a regular array? (★★★)"
      ]
    },
    {
      "cell_type": "code",
      "execution_count": null,
      "id": "b1dae380",
      "metadata": {
        "colab": {
          "base_uri": "https://localhost:8080/"
        },
        "id": "b1dae380",
        "outputId": "7e3bef6e-c1af-4fa8-9a20-a36cf804a21b"
      },
      "outputs": [
        {
          "output_type": "stream",
          "name": "stdout",
          "text": [
            "[(b'Hello', 2.5, 3) (b'World', 3.6, 2)]\n"
          ]
        }
      ],
      "source": [
        "Z = np.array([(\"Hello\", 2.5, 3),\n",
        "              (\"World\", 3.6, 2)])\n",
        "R = np.core.records.fromarrays(Z.T,\n",
        "                               names='col1, col2, col3',\n",
        "                               formats = 'S8, f8, i8')\n",
        "print(R)"
      ]
    },
    {
      "cell_type": "markdown",
      "id": "114ccc36",
      "metadata": {
        "id": "114ccc36"
      },
      "source": [
        "#### 92. Consider a large vector Z, compute Z to the power of 3 using 3 different methods (★★★)"
      ]
    },
    {
      "cell_type": "code",
      "execution_count": null,
      "id": "877c65d6",
      "metadata": {
        "colab": {
          "base_uri": "https://localhost:8080/"
        },
        "id": "877c65d6",
        "outputId": "b57aa66c-3cf2-4ba4-969f-0bd57d843dcd"
      },
      "outputs": [
        {
          "output_type": "stream",
          "name": "stdout",
          "text": [
            "3.76 s ± 34.5 ms per loop (mean ± std. dev. of 7 runs, 1 loop each)\n",
            "195 ms ± 9.01 ms per loop (mean ± std. dev. of 7 runs, 10 loops each)\n",
            "178 ms ± 2.84 ms per loop (mean ± std. dev. of 7 runs, 10 loops each)\n"
          ]
        }
      ],
      "source": [
        "x = np.random.rand(int(5e7))\n",
        "\n",
        "%timeit np.power(x,3)\n",
        "%timeit x*x*x\n",
        "%timeit np.einsum('i,i,i->i',x,x,x)"
      ]
    },
    {
      "cell_type": "markdown",
      "id": "d614fee4",
      "metadata": {
        "id": "d614fee4"
      },
      "source": [
        "#### 93. Consider two arrays A and B of shape (8,3) and (2,2). How to find rows of A that contain elements of each row of B regardless of the order of the elements in B? (★★★)"
      ]
    },
    {
      "cell_type": "code",
      "execution_count": null,
      "id": "e6807a84",
      "metadata": {
        "colab": {
          "base_uri": "https://localhost:8080/"
        },
        "id": "e6807a84",
        "outputId": "4239fd31-973d-4f48-b55d-ab5a8080aa42"
      },
      "outputs": [
        {
          "output_type": "stream",
          "name": "stdout",
          "text": [
            "[0 2 4 5]\n"
          ]
        }
      ],
      "source": [
        "A = np.random.randint(0,5,(8,3))\n",
        "B = np.random.randint(0,5,(2,2))\n",
        "\n",
        "C = (A[..., np.newaxis, np.newaxis] == B)\n",
        "rows = np.where(C.any((3,1)).all(1))[0]\n",
        "print(rows)"
      ]
    },
    {
      "cell_type": "markdown",
      "id": "b0eedca6",
      "metadata": {
        "id": "b0eedca6"
      },
      "source": [
        "#### 94. Considering a 10x3 matrix, extract rows with unequal values (e.g. [2,2,3]) (★★★)"
      ]
    },
    {
      "cell_type": "code",
      "execution_count": null,
      "id": "fc136ce2",
      "metadata": {
        "colab": {
          "base_uri": "https://localhost:8080/"
        },
        "id": "fc136ce2",
        "outputId": "f8957749-df43-4786-91fd-42fdb8faebfd"
      },
      "outputs": [
        {
          "output_type": "stream",
          "name": "stdout",
          "text": [
            "[[3 4 1]\n",
            " [4 4 0]\n",
            " [3 1 1]\n",
            " [0 3 0]\n",
            " [3 0 0]\n",
            " [0 4 4]\n",
            " [1 2 4]\n",
            " [3 2 4]\n",
            " [4 3 0]\n",
            " [2 2 3]]\n",
            "[[3 4 1]\n",
            " [4 4 0]\n",
            " [3 1 1]\n",
            " [0 3 0]\n",
            " [3 0 0]\n",
            " [0 4 4]\n",
            " [1 2 4]\n",
            " [3 2 4]\n",
            " [4 3 0]\n",
            " [2 2 3]]\n",
            "[[3 4 1]\n",
            " [4 4 0]\n",
            " [3 1 1]\n",
            " [0 3 0]\n",
            " [3 0 0]\n",
            " [0 4 4]\n",
            " [1 2 4]\n",
            " [3 2 4]\n",
            " [4 3 0]\n",
            " [2 2 3]]\n"
          ]
        }
      ],
      "source": [
        "Z = np.random.randint(0,5,(10,3))\n",
        "print(Z)\n",
        "# solution for arrays of all dtypes (including string arrays and record arrays)\n",
        "E = np.all(Z[:,1:] == Z[:,:-1], axis=1)\n",
        "U = Z[~E]\n",
        "print(U)\n",
        "# soluiton for numerical arrays only, will work for any number of columns in Z\n",
        "U = Z[Z.max(axis=1) != Z.min(axis=1),:]\n",
        "print(U)"
      ]
    },
    {
      "cell_type": "markdown",
      "id": "a65ec1cf",
      "metadata": {
        "id": "a65ec1cf"
      },
      "source": [
        "#### 95. Convert a vector of ints into a matrix binary representation (★★★)"
      ]
    },
    {
      "cell_type": "code",
      "execution_count": null,
      "id": "323cdf4c",
      "metadata": {
        "colab": {
          "base_uri": "https://localhost:8080/"
        },
        "id": "323cdf4c",
        "outputId": "7c26ba9b-439a-47ce-969d-e927fd405d55"
      },
      "outputs": [
        {
          "output_type": "stream",
          "name": "stdout",
          "text": [
            "[[0 0 0 0 0 0 0 0]\n",
            " [0 0 0 0 0 0 0 1]\n",
            " [0 0 0 0 0 0 1 0]\n",
            " [0 0 0 0 0 0 1 1]\n",
            " [0 0 0 0 1 1 1 1]\n",
            " [0 0 0 1 0 0 0 0]\n",
            " [0 0 1 0 0 0 0 0]\n",
            " [0 1 0 0 0 0 0 0]\n",
            " [1 0 0 0 0 0 0 0]]\n",
            "[[0 0 0 0 0 0 0 0]\n",
            " [0 0 0 0 0 0 0 1]\n",
            " [0 0 0 0 0 0 1 0]\n",
            " [0 0 0 0 0 0 1 1]\n",
            " [0 0 0 0 1 1 1 1]\n",
            " [0 0 0 1 0 0 0 0]\n",
            " [0 0 1 0 0 0 0 0]\n",
            " [0 1 0 0 0 0 0 0]\n",
            " [1 0 0 0 0 0 0 0]]\n"
          ]
        }
      ],
      "source": [
        "I = np.array([0, 1, 2, 3, 15, 16, 32, 64, 128])\n",
        "B = ((I.reshape(-1,1) & (2**np.arange(8))) != 0).astype(int)\n",
        "print(B[:,::-1])\n",
        "\n",
        "# Author: Daniel T. McDonald\n",
        "\n",
        "I = np.array([0, 1, 2, 3, 15, 16, 32, 64, 128], dtype=np.uint8)\n",
        "print(np.unpackbits(I[:, np.newaxis], axis=1))"
      ]
    },
    {
      "cell_type": "markdown",
      "id": "75b9397f",
      "metadata": {
        "id": "75b9397f"
      },
      "source": [
        "#### 96. Given a two dimensional array, how to extract unique rows? (★★★)"
      ]
    },
    {
      "cell_type": "code",
      "execution_count": null,
      "id": "9bb56a47",
      "metadata": {
        "colab": {
          "base_uri": "https://localhost:8080/"
        },
        "id": "9bb56a47",
        "outputId": "6c3b056f-d172-41fa-b09a-6157cbdd91b1"
      },
      "outputs": [
        {
          "output_type": "stream",
          "name": "stdout",
          "text": [
            "[[0 1 1]\n",
            " [1 0 0]\n",
            " [1 0 1]\n",
            " [1 1 0]\n",
            " [1 1 1]]\n"
          ]
        }
      ],
      "source": [
        "Z = np.random.randint(0,2,(6,3))\n",
        "T = np.ascontiguousarray(Z).view(np.dtype((np.void, Z.dtype.itemsize * Z.shape[1])))\n",
        "_, idx = np.unique(T, return_index=True)\n",
        "uZ = Z[idx]\n",
        "print(uZ)"
      ]
    },
    {
      "cell_type": "markdown",
      "id": "82aaf21b",
      "metadata": {
        "id": "82aaf21b"
      },
      "source": [
        "#### 97. Considering 2 vectors A & B, write the einsum equivalent of inner, outer, sum, and mul function (★★★)"
      ]
    },
    {
      "cell_type": "code",
      "execution_count": null,
      "id": "cedcefd9",
      "metadata": {
        "colab": {
          "base_uri": "https://localhost:8080/"
        },
        "id": "cedcefd9",
        "outputId": "328169a2-e5fb-4383-e6e3-b09b831667c9"
      },
      "outputs": [
        {
          "output_type": "execute_result",
          "data": {
            "text/plain": [
              "array([[0.28278433, 0.12596105, 0.46380628, 0.30030694, 0.16427849,\n",
              "        0.06634768, 0.40591841, 0.18210309, 0.17061376, 0.07992496],\n",
              "       [0.06707089, 0.02987549, 0.11000575, 0.07122691, 0.03896363,\n",
              "        0.01573637, 0.09627588, 0.04319128, 0.04046624, 0.01895663],\n",
              "       [0.02665345, 0.01187228, 0.04371542, 0.02830502, 0.01548384,\n",
              "        0.00625351, 0.03825928, 0.01716388, 0.01608096, 0.00753322],\n",
              "       [0.43687308, 0.19459703, 0.71653361, 0.46394374, 0.25379359,\n",
              "        0.10250043, 0.62710274, 0.28133078, 0.26358094, 0.12347595],\n",
              "       [0.3318451 , 0.14781426, 0.54427288, 0.35240774, 0.19277946,\n",
              "        0.07785846, 0.47634194, 0.21369648, 0.20021385, 0.09379129],\n",
              "       [0.11705876, 0.05214166, 0.19199291, 0.12431225, 0.06800319,\n",
              "        0.02746467, 0.16803019, 0.07538169, 0.07062568, 0.03308499],\n",
              "       [0.02771876, 0.01234681, 0.04546268, 0.02943634, 0.01610271,\n",
              "        0.00650346, 0.03978846, 0.0178499 , 0.0167237 , 0.00783431],\n",
              "       [0.55654483, 0.2479026 , 0.9128122 , 0.5910309 , 0.32331475,\n",
              "        0.13057817, 0.79888371, 0.35839515, 0.33578313, 0.15729947],\n",
              "       [0.05749497, 0.02561007, 0.09429987, 0.06105762, 0.03340067,\n",
              "        0.01348964, 0.08253026, 0.03702472, 0.03468874, 0.01625013],\n",
              "       [0.43868812, 0.19540551, 0.71951053, 0.46587125, 0.254848  ,\n",
              "        0.10292628, 0.62970811, 0.2824996 , 0.26467602, 0.12398895]])"
            ]
          },
          "metadata": {},
          "execution_count": 101
        }
      ],
      "source": [
        "A = np.random.uniform(0,1,10)\n",
        "B = np.random.uniform(0,1,10)\n",
        "\n",
        "np.einsum('i->', A)       # np.sum(A)\n",
        "np.einsum('i,i->i', A, B) # A * B\n",
        "np.einsum('i,i', A, B)    # np.inner(A, B)\n",
        "np.einsum('i,j->ij', A, B)    # np.outer(A, B)"
      ]
    },
    {
      "cell_type": "markdown",
      "id": "7741e17f",
      "metadata": {
        "id": "7741e17f"
      },
      "source": [
        "#### 98. Considering a path described by two vectors (X,Y), how to sample it using equidistant samples (★★★)?"
      ]
    },
    {
      "cell_type": "code",
      "execution_count": null,
      "id": "0b2432fe",
      "metadata": {
        "id": "0b2432fe"
      },
      "outputs": [],
      "source": [
        "phi = np.arange(0, 10*np.pi, 0.1)\n",
        "a = 1\n",
        "x = a*phi*np.cos(phi)\n",
        "y = a*phi*np.sin(phi)\n",
        "\n",
        "dr = (np.diff(x)**2 + np.diff(y)**2)**.5\n",
        "r = np.zeros_like(x)\n",
        "r[1:] = np.cumsum(dr)\n",
        "r_int = np.linspace(0, r.max(), 200)\n",
        "x_int = np.interp(r_int, r, x)\n",
        "y_int = np.interp(r_int, r, y)"
      ]
    },
    {
      "cell_type": "markdown",
      "id": "340d6f36",
      "metadata": {
        "id": "340d6f36"
      },
      "source": [
        "#### 99. Given an integer n and a 2D array X, select from X the rows which can be interpreted as draws from a multinomial distribution with n degrees, i.e., the rows which only contain integers and which sum to n. (★★★)"
      ]
    },
    {
      "cell_type": "code",
      "execution_count": null,
      "id": "a75323ae",
      "metadata": {
        "colab": {
          "base_uri": "https://localhost:8080/"
        },
        "id": "a75323ae",
        "outputId": "cbe7529a-1937-44bd-9e78-0c4d8e169409"
      },
      "outputs": [
        {
          "output_type": "stream",
          "name": "stdout",
          "text": [
            "[[2. 0. 1. 1.]]\n"
          ]
        }
      ],
      "source": [
        "X = np.asarray([[1.0, 0.0, 3.0, 8.0],\n",
        "                [2.0, 0.0, 1.0, 1.0],\n",
        "                [1.5, 2.5, 1.0, 0.0]])\n",
        "n = 4\n",
        "M = np.logical_and.reduce(np.mod(X, 1) == 0, axis=-1)\n",
        "M &= (X.sum(axis=-1) == n)\n",
        "print(X[M])"
      ]
    },
    {
      "cell_type": "markdown",
      "id": "19721849",
      "metadata": {
        "id": "19721849"
      },
      "source": [
        "#### 100. Compute bootstrapped 95% confidence intervals for the mean of a 1D array X (i.e., resample the elements of an array with replacement N times, compute the mean of each sample, and then compute percentiles over the means). (★★★)"
      ]
    },
    {
      "cell_type": "code",
      "execution_count": null,
      "id": "87309c6f",
      "metadata": {
        "colab": {
          "base_uri": "https://localhost:8080/"
        },
        "id": "87309c6f",
        "outputId": "48b59248-b126-4155-abb1-8b29f116d84f"
      },
      "outputs": [
        {
          "output_type": "stream",
          "name": "stdout",
          "text": [
            "[-0.23338327  0.18688267]\n"
          ]
        }
      ],
      "source": [
        "X = np.random.randn(100) # random 1D array\n",
        "N = 1000 # number of bootstrap samples\n",
        "idx = np.random.randint(0, X.size, (N, X.size))\n",
        "means = X[idx].mean(axis=1)\n",
        "confint = np.percentile(means, [2.5, 97.5])\n",
        "print(confint)"
      ]
    }
  ],
  "metadata": {
    "kernelspec": {
      "display_name": "Python 3 (ipykernel)",
      "language": "python",
      "name": "python3"
    },
    "language_info": {
      "codemirror_mode": {
        "name": "ipython",
        "version": 3
      },
      "file_extension": ".py",
      "mimetype": "text/x-python",
      "name": "python",
      "nbconvert_exporter": "python",
      "pygments_lexer": "ipython3",
      "version": "3.9.7"
    },
    "colab": {
      "provenance": [],
      "include_colab_link": true
    }
  },
  "nbformat": 4,
  "nbformat_minor": 5
}